{
 "cells": [
  {
   "cell_type": "markdown",
   "metadata": {
    "colab_type": "text",
    "id": "om8W7eVO2AB9"
   },
   "source": [
    "#  This is the shared code to work on the Yelp review recommemndation project\n",
    "1. File owner: Koki \n",
    "2. Shared with: Phil, Andrew, Adharsh\n",
    "\n",
    "#  To intall 3rd party libraries\n",
    "\n",
    "```python\n",
    "!pip install <library_name>\n",
    "```\n",
    "\n",
    "# Guidelines\n",
    "\n",
    "Everyone needs to run this code on their own machine once to work on the code to connect their google drive to the shard code. \n",
    "Basically, everyone has their own running kernal. The variables defined in my kernal are therefore, not available in yours. \n",
    "To make it possible for others to continue building the pipeline, be sure to save your output into a file (json, csv, etc) whenever possible."
   ]
  },
  {
   "cell_type": "code",
   "execution_count": null,
   "metadata": {
    "colab": {},
    "colab_type": "code",
    "id": "0SUS42x_16no"
   },
   "outputs": [],
   "source": [
    "# Import libraries\n",
    "import pandas as pd\n",
    "import numpy as np\n",
    "import networkx as nx"
   ]
  },
  {
   "cell_type": "code",
   "execution_count": null,
   "metadata": {
    "colab": {
     "base_uri": "https://localhost:8080/",
     "height": 127
    },
    "colab_type": "code",
    "id": "tlBbFZ2D2YUn",
    "outputId": "41ab578b-c39b-4555-fbe4-9c54d2b58c4b"
   },
   "outputs": [
    {
     "name": "stdout",
     "output_type": "stream",
     "text": [
      "Go to this URL in a browser: https://accounts.google.com/o/oauth2/auth?client_id=947318989803-6bn6qk8qdgf4n4g3pfee6491hc0brc4i.apps.googleusercontent.com&redirect_uri=urn%3Aietf%3Awg%3Aoauth%3A2.0%3Aoob&scope=email%20https%3A%2F%2Fwww.googleapis.com%2Fauth%2Fdocs.test%20https%3A%2F%2Fwww.googleapis.com%2Fauth%2Fdrive%20https%3A%2F%2Fwww.googleapis.com%2Fauth%2Fdrive.photos.readonly%20https%3A%2F%2Fwww.googleapis.com%2Fauth%2Fpeopleapi.readonly&response_type=code\n",
      "\n",
      "Enter your authorization code:\n",
      "··········\n",
      "Mounted at /content/gdrive\n"
     ]
    }
   ],
   "source": [
    "# Mount to your own google drive\n",
    "from google.colab import drive\n",
    "drive.mount('/content/gdrive')"
   ]
  },
  {
   "cell_type": "code",
   "execution_count": null,
   "metadata": {
    "colab": {
     "base_uri": "https://localhost:8080/",
     "height": 485
    },
    "colab_type": "code",
    "id": "1RkQi3cg2_l1",
    "outputId": "22d7de20-e3b6-40c7-e54d-ad61a454de82"
   },
   "outputs": [
    {
     "data": {
      "text/plain": [
       "['Yelp_Dataset_Challenge_Round_12.pdf',\n",
       " 'Dataset_Challenge_Dataset_Agreement.pdf',\n",
       " 'yelp_academic_dataset_business.json',\n",
       " 'yelp_academic_dataset_checkin.json',\n",
       " 'yelp_academic_dataset_photo.json',\n",
       " 'yelp_academic_dataset_review.json',\n",
       " 'yelp_academic_dataset_tip.json',\n",
       " 'yelp_academic_dataset_user.json',\n",
       " 'resturant_ID.csv',\n",
       " 'resturant_ID.gsheet',\n",
       " 'Phil Bitch Notebook.ipynb',\n",
       " 'restaurant_ID_v2.csv',\n",
       " 'reviews.csv',\n",
       " 'bipartite.ipynb',\n",
       " 'reviews_bipartite.net',\n",
       " 'SI650_FinalProject',\n",
       " 'restaurant_ID_v3.csv',\n",
       " 'Phil_bitch_group_category.ipynb',\n",
       " 'user_category_tuples.csv',\n",
       " 'user_category_bipartite.net',\n",
       " 'reviews_filtered.csv',\n",
       " 'test.csv',\n",
       " 'train.csv',\n",
       " 'equal_distribution_test.csv',\n",
       " 'equal_distribution_train.csv',\n",
       " 'Design Challenge II.gdoc']"
      ]
     },
     "execution_count": 3,
     "metadata": {
      "tags": []
     },
     "output_type": "execute_result"
    }
   ],
   "source": [
    "# Check files\n",
    "# 1. To access files, you need to copy the folder onto your own gdrive. \n",
    "# 2. Each of you need to mount your own gdrive. \n",
    "# 3. The path should match the one below exactly or the code will not run for everyone else.\n",
    "import os\n",
    "os.listdir('gdrive/My Drive/SI_608_Group_Project/yelp_dataset')"
   ]
  },
  {
   "cell_type": "markdown",
   "metadata": {
    "colab_type": "text",
    "id": "nJCVBXJ58C6f"
   },
   "source": [
    "# Koki's Code Section"
   ]
  },
  {
   "cell_type": "code",
   "execution_count": null,
   "metadata": {
    "colab": {},
    "colab_type": "code",
    "id": "LXHwSVTj3eMP"
   },
   "outputs": [],
   "source": [
    "# Load Files\n",
    "yelp_buisness = pd.read_json('gdrive/My Drive/SI_608_Group_Project/yelp_dataset/yelp_academic_dataset_business.json', lines=True)"
   ]
  },
  {
   "cell_type": "code",
   "execution_count": null,
   "metadata": {
    "colab": {
     "base_uri": "https://localhost:8080/",
     "height": 581
    },
    "colab_type": "code",
    "id": "fapyYm3b5tKX",
    "outputId": "023e14e2-a5f2-4ca2-886e-09078e5a72b0"
   },
   "outputs": [
    {
     "data": {
      "text/html": [
       "<div>\n",
       "<style scoped>\n",
       "    .dataframe tbody tr th:only-of-type {\n",
       "        vertical-align: middle;\n",
       "    }\n",
       "\n",
       "    .dataframe tbody tr th {\n",
       "        vertical-align: top;\n",
       "    }\n",
       "\n",
       "    .dataframe thead th {\n",
       "        text-align: right;\n",
       "    }\n",
       "</style>\n",
       "<table border=\"1\" class=\"dataframe\">\n",
       "  <thead>\n",
       "    <tr style=\"text-align: right;\">\n",
       "      <th></th>\n",
       "      <th>address</th>\n",
       "      <th>attributes</th>\n",
       "      <th>business_id</th>\n",
       "      <th>categories</th>\n",
       "      <th>city</th>\n",
       "      <th>hours</th>\n",
       "      <th>is_open</th>\n",
       "      <th>latitude</th>\n",
       "      <th>longitude</th>\n",
       "      <th>name</th>\n",
       "      <th>neighborhood</th>\n",
       "      <th>postal_code</th>\n",
       "      <th>review_count</th>\n",
       "      <th>stars</th>\n",
       "      <th>state</th>\n",
       "    </tr>\n",
       "  </thead>\n",
       "  <tbody>\n",
       "    <tr>\n",
       "      <th>0</th>\n",
       "      <td>1314 44 Avenue NE</td>\n",
       "      <td>{'BikeParking': 'False', 'BusinessAcceptsCredi...</td>\n",
       "      <td>Apn5Q_b6Nz61Tq4XzPdf9A</td>\n",
       "      <td>Tours, Breweries, Pizza, Restaurants, Food, Ho...</td>\n",
       "      <td>Calgary</td>\n",
       "      <td>{'Monday': '8:30-17:0', 'Tuesday': '11:0-21:0'...</td>\n",
       "      <td>1</td>\n",
       "      <td>51.091813</td>\n",
       "      <td>-114.031675</td>\n",
       "      <td>Minhas Micro Brewery</td>\n",
       "      <td></td>\n",
       "      <td>T2E 6L6</td>\n",
       "      <td>24</td>\n",
       "      <td>4.0</td>\n",
       "      <td>AB</td>\n",
       "    </tr>\n",
       "    <tr>\n",
       "      <th>1</th>\n",
       "      <td></td>\n",
       "      <td>{'Alcohol': 'none', 'BikeParking': 'False', 'B...</td>\n",
       "      <td>AjEbIBw6ZFfln7ePHha9PA</td>\n",
       "      <td>Chicken Wings, Burgers, Caterers, Street Vendo...</td>\n",
       "      <td>Henderson</td>\n",
       "      <td>{'Friday': '17:0-23:0', 'Saturday': '17:0-23:0...</td>\n",
       "      <td>0</td>\n",
       "      <td>35.960734</td>\n",
       "      <td>-114.939821</td>\n",
       "      <td>CK'S BBQ &amp; Catering</td>\n",
       "      <td></td>\n",
       "      <td>89002</td>\n",
       "      <td>3</td>\n",
       "      <td>4.5</td>\n",
       "      <td>NV</td>\n",
       "    </tr>\n",
       "    <tr>\n",
       "      <th>2</th>\n",
       "      <td>1335 rue Beaubien E</td>\n",
       "      <td>{'Alcohol': 'beer_and_wine', 'Ambience': '{'ro...</td>\n",
       "      <td>O8S5hYJ1SMc8fA4QBtVujA</td>\n",
       "      <td>Breakfast &amp; Brunch, Restaurants, French, Sandw...</td>\n",
       "      <td>Montréal</td>\n",
       "      <td>{'Monday': '10:0-22:0', 'Tuesday': '10:0-22:0'...</td>\n",
       "      <td>0</td>\n",
       "      <td>45.540503</td>\n",
       "      <td>-73.599300</td>\n",
       "      <td>La Bastringue</td>\n",
       "      <td>Rosemont-La Petite-Patrie</td>\n",
       "      <td>H2G 1K7</td>\n",
       "      <td>5</td>\n",
       "      <td>4.0</td>\n",
       "      <td>QC</td>\n",
       "    </tr>\n",
       "    <tr>\n",
       "      <th>3</th>\n",
       "      <td>211 W Monroe St</td>\n",
       "      <td>None</td>\n",
       "      <td>bFzdJJ3wp3PZssNEsyU23g</td>\n",
       "      <td>Insurance, Financial Services</td>\n",
       "      <td>Phoenix</td>\n",
       "      <td>None</td>\n",
       "      <td>1</td>\n",
       "      <td>33.449999</td>\n",
       "      <td>-112.076979</td>\n",
       "      <td>Geico Insurance</td>\n",
       "      <td></td>\n",
       "      <td>85003</td>\n",
       "      <td>8</td>\n",
       "      <td>1.5</td>\n",
       "      <td>AZ</td>\n",
       "    </tr>\n",
       "    <tr>\n",
       "      <th>4</th>\n",
       "      <td>2005 Alyth Place SE</td>\n",
       "      <td>{'BusinessAcceptsCreditCards': 'True'}</td>\n",
       "      <td>8USyCYqpScwiNEb58Bt6CA</td>\n",
       "      <td>Home &amp; Garden, Nurseries &amp; Gardening, Shopping...</td>\n",
       "      <td>Calgary</td>\n",
       "      <td>{'Monday': '8:0-17:0', 'Tuesday': '8:0-17:0', ...</td>\n",
       "      <td>1</td>\n",
       "      <td>51.035591</td>\n",
       "      <td>-114.027366</td>\n",
       "      <td>Action Engine</td>\n",
       "      <td></td>\n",
       "      <td>T2H 0N5</td>\n",
       "      <td>4</td>\n",
       "      <td>2.0</td>\n",
       "      <td>AB</td>\n",
       "    </tr>\n",
       "  </tbody>\n",
       "</table>\n",
       "</div>"
      ],
      "text/plain": [
       "               address                                         attributes  \\\n",
       "0    1314 44 Avenue NE  {'BikeParking': 'False', 'BusinessAcceptsCredi...   \n",
       "1                       {'Alcohol': 'none', 'BikeParking': 'False', 'B...   \n",
       "2  1335 rue Beaubien E  {'Alcohol': 'beer_and_wine', 'Ambience': '{'ro...   \n",
       "3      211 W Monroe St                                               None   \n",
       "4  2005 Alyth Place SE             {'BusinessAcceptsCreditCards': 'True'}   \n",
       "\n",
       "              business_id                                         categories  \\\n",
       "0  Apn5Q_b6Nz61Tq4XzPdf9A  Tours, Breweries, Pizza, Restaurants, Food, Ho...   \n",
       "1  AjEbIBw6ZFfln7ePHha9PA  Chicken Wings, Burgers, Caterers, Street Vendo...   \n",
       "2  O8S5hYJ1SMc8fA4QBtVujA  Breakfast & Brunch, Restaurants, French, Sandw...   \n",
       "3  bFzdJJ3wp3PZssNEsyU23g                      Insurance, Financial Services   \n",
       "4  8USyCYqpScwiNEb58Bt6CA  Home & Garden, Nurseries & Gardening, Shopping...   \n",
       "\n",
       "        city                                              hours  is_open  \\\n",
       "0    Calgary  {'Monday': '8:30-17:0', 'Tuesday': '11:0-21:0'...        1   \n",
       "1  Henderson  {'Friday': '17:0-23:0', 'Saturday': '17:0-23:0...        0   \n",
       "2   Montréal  {'Monday': '10:0-22:0', 'Tuesday': '10:0-22:0'...        0   \n",
       "3    Phoenix                                               None        1   \n",
       "4    Calgary  {'Monday': '8:0-17:0', 'Tuesday': '8:0-17:0', ...        1   \n",
       "\n",
       "    latitude   longitude                  name               neighborhood  \\\n",
       "0  51.091813 -114.031675  Minhas Micro Brewery                              \n",
       "1  35.960734 -114.939821   CK'S BBQ & Catering                              \n",
       "2  45.540503  -73.599300         La Bastringue  Rosemont-La Petite-Patrie   \n",
       "3  33.449999 -112.076979       Geico Insurance                              \n",
       "4  51.035591 -114.027366         Action Engine                              \n",
       "\n",
       "  postal_code  review_count  stars state  \n",
       "0     T2E 6L6            24    4.0    AB  \n",
       "1       89002             3    4.5    NV  \n",
       "2     H2G 1K7             5    4.0    QC  \n",
       "3       85003             8    1.5    AZ  \n",
       "4     T2H 0N5             4    2.0    AB  "
      ]
     },
     "execution_count": 21,
     "metadata": {
      "tags": []
     },
     "output_type": "execute_result"
    }
   ],
   "source": [
    "yelp_buisness.head(5)"
   ]
  },
  {
   "cell_type": "code",
   "execution_count": null,
   "metadata": {
    "colab": {
     "base_uri": "https://localhost:8080/",
     "height": 35
    },
    "colab_type": "code",
    "id": "ICdB_U8Hc-2G",
    "outputId": "af3ca385-a4da-4060-ff5a-398b94ecd1ce"
   },
   "outputs": [
    {
     "data": {
      "text/plain": [
       "188593"
      ]
     },
     "execution_count": 22,
     "metadata": {
      "tags": []
     },
     "output_type": "execute_result"
    }
   ],
   "source": [
    "# print number of rows or buisnesses\n",
    "yelp_buisness.shape[0]"
   ]
  },
  {
   "cell_type": "code",
   "execution_count": null,
   "metadata": {
    "colab": {
     "base_uri": "https://localhost:8080/",
     "height": 305
    },
    "colab_type": "code",
    "id": "gugZ0sjl_ZSE",
    "outputId": "9f301c15-cc77-4f06-96ec-edef6b508c53"
   },
   "outputs": [
    {
     "name": "stdout",
     "output_type": "stream",
     "text": [
      "The yelp buisness dataset contains the following columns:\n"
     ]
    },
    {
     "data": {
      "text/plain": [
       "['address',\n",
       " 'attributes',\n",
       " 'business_id',\n",
       " 'categories',\n",
       " 'city',\n",
       " 'hours',\n",
       " 'is_open',\n",
       " 'latitude',\n",
       " 'longitude',\n",
       " 'name',\n",
       " 'neighborhood',\n",
       " 'postal_code',\n",
       " 'review_count',\n",
       " 'stars',\n",
       " 'state']"
      ]
     },
     "execution_count": 23,
     "metadata": {
      "tags": []
     },
     "output_type": "execute_result"
    }
   ],
   "source": [
    "# All columns\n",
    "buisness_cols = list(yelp_buisness.columns)\n",
    "\n",
    "print(\"The yelp buisness dataset contains the following columns:\")\n",
    "buisness_cols"
   ]
  },
  {
   "cell_type": "code",
   "execution_count": null,
   "metadata": {
    "colab": {
     "base_uri": "https://localhost:8080/",
     "height": 377
    },
    "colab_type": "code",
    "id": "6k2FqlKlBept",
    "outputId": "c6593afb-c1b9-4e9e-f1ad-195cb6e2bed0"
   },
   "outputs": [
    {
     "name": "stdout",
     "output_type": "stream",
     "text": [
      "<class 'pandas.core.frame.DataFrame'>\n",
      "Int64Index: 188593 entries, 0 to 188592\n",
      "Data columns (total 15 columns):\n",
      "address         188593 non-null object\n",
      "attributes      162807 non-null object\n",
      "business_id     188593 non-null object\n",
      "categories      188052 non-null object\n",
      "city            188593 non-null object\n",
      "hours           143791 non-null object\n",
      "is_open         188593 non-null int64\n",
      "latitude        188587 non-null float64\n",
      "longitude       188587 non-null float64\n",
      "name            188593 non-null object\n",
      "neighborhood    188593 non-null object\n",
      "postal_code     188593 non-null object\n",
      "review_count    188593 non-null int64\n",
      "stars           188593 non-null float64\n",
      "state           188593 non-null object\n",
      "dtypes: float64(3), int64(2), object(10)\n",
      "memory usage: 224.1 MB\n"
     ]
    }
   ],
   "source": [
    "# Detailed memory usage information about buisness dataframe\n",
    "yelp_buisness.info(memory_usage='deep')"
   ]
  },
  {
   "cell_type": "code",
   "execution_count": null,
   "metadata": {
    "colab": {},
    "colab_type": "code",
    "id": "jeu2E2T8AtYj"
   },
   "outputs": [],
   "source": [
    "# Filter out non-relevant columns\n",
    "yelp_buisness = yelp_buisness.drop(['address', 'hours', 'latitude', 'longitude', 'neighborhood', 'postal_code'], axis=1)"
   ]
  },
  {
   "cell_type": "code",
   "execution_count": null,
   "metadata": {
    "colab": {
     "base_uri": "https://localhost:8080/",
     "height": 269
    },
    "colab_type": "code",
    "id": "BSwJdtaOCRfS",
    "outputId": "9fd61c0d-04be-4dc8-854e-caff0c6ffd6c"
   },
   "outputs": [
    {
     "name": "stdout",
     "output_type": "stream",
     "text": [
      "<class 'pandas.core.frame.DataFrame'>\n",
      "Int64Index: 188593 entries, 0 to 188592\n",
      "Data columns (total 9 columns):\n",
      "attributes      162807 non-null object\n",
      "business_id     188593 non-null object\n",
      "categories      188052 non-null object\n",
      "city            188593 non-null object\n",
      "is_open         188593 non-null int64\n",
      "name            188593 non-null object\n",
      "review_count    188593 non-null int64\n",
      "stars           188593 non-null float64\n",
      "state           188593 non-null object\n",
      "dtypes: float64(1), int64(2), object(6)\n",
      "memory usage: 138.4 MB\n"
     ]
    }
   ],
   "source": [
    "yelp_buisness.info(memory_usage='deep')"
   ]
  },
  {
   "cell_type": "code",
   "execution_count": null,
   "metadata": {
    "colab": {
     "base_uri": "https://localhost:8080/",
     "height": 71
    },
    "colab_type": "code",
    "id": "5t86tjUh6PS_",
    "outputId": "e66b8b43-eff4-461d-a4be-b49eb2fa5223"
   },
   "outputs": [
    {
     "data": {
      "text/plain": [
       "1    156606\n",
       "0     31987\n",
       "Name: is_open, dtype: int64"
      ]
     },
     "execution_count": 27,
     "metadata": {
      "tags": []
     },
     "output_type": "execute_result"
    }
   ],
   "source": [
    "# What establishments are open? closed? \n",
    "yelp_buisness['is_open'].value_counts()"
   ]
  },
  {
   "cell_type": "code",
   "execution_count": null,
   "metadata": {
    "colab": {
     "base_uri": "https://localhost:8080/",
     "height": 35
    },
    "colab_type": "code",
    "id": "7Hpzrqy3C7_c",
    "outputId": "f526aef8-163f-46b6-be8c-d745d356622a"
   },
   "outputs": [
    {
     "data": {
      "text/plain": [
       "array([1])"
      ]
     },
     "execution_count": 28,
     "metadata": {
      "tags": []
     },
     "output_type": "execute_result"
    }
   ],
   "source": [
    "# Filter out establishments that are not open\n",
    "yelp_buisness = yelp_buisness[yelp_buisness['is_open'] == 1]\n",
    "\n",
    "# Check that closed establishments are removed \n",
    "yelp_buisness['is_open'].unique()"
   ]
  },
  {
   "cell_type": "code",
   "execution_count": null,
   "metadata": {
    "colab": {
     "base_uri": "https://localhost:8080/",
     "height": 161
    },
    "colab_type": "code",
    "id": "KDTBv-aRETNP",
    "outputId": "ee434f7e-103d-46a8-efd9-60f8b37b12ec"
   },
   "outputs": [
    {
     "name": "stdout",
     "output_type": "stream",
     "text": [
      "There are a total of 67 states\n"
     ]
    },
    {
     "data": {
      "text/plain": [
       "array(['AB', 'AZ', 'ON', 'PA', 'QC', 'NV', 'OH', 'WI', 'NC', 'NYK', 'IL',\n",
       "       'SC', 'C', 'BY', 'XGM', 'ST', 'IN', 'RP', 'CMA', 'NI', 'NLK', 'VS',\n",
       "       '6', 'CO', 'HE', 'VA', 'RCC', '01', 'SG', 'NY', 'OR', 'NW', '4',\n",
       "       '10', 'CC', 'CA', '45', 'LU', 'G', 'PO', 'B', 'VT', 'AL', 'WAR',\n",
       "       'MO', 'HU', 'M', 'AR', 'O', 'FL', 'WA', 'KY', 'CRF', 'TAM', 'NE',\n",
       "       'XMS', 'GA', 'AG', 'WHT', 'MA', 'BC', 'SP', 'DE', 'HH', '11', 'CS',\n",
       "       'MN'], dtype=object)"
      ]
     },
     "execution_count": 29,
     "metadata": {
      "tags": []
     },
     "output_type": "execute_result"
    }
   ],
   "source": [
    "# How many states are there? \n",
    "print('There are a total of {} states'.format(len(yelp_buisness['state'].unique())))\n",
    "yelp_buisness['state'].unique()"
   ]
  },
  {
   "cell_type": "markdown",
   "metadata": {
    "colab_type": "text",
    "id": "LOFuvjjbxQcg"
   },
   "source": [
    "## Some of these are non-valid state codes. Not quite sure what the meaning is for these unknown labels. For now, keep them with the data until we find some documentation explaining them"
   ]
  },
  {
   "cell_type": "code",
   "execution_count": null,
   "metadata": {
    "colab": {
     "base_uri": "https://localhost:8080/",
     "height": 1108
    },
    "colab_type": "code",
    "id": "kCAV9tACJmSs",
    "outputId": "2026bf77-509e-4156-af9d-4b3bc7ad327c"
   },
   "outputs": [
    {
     "data": {
      "text/plain": [
       "AZ     47168\n",
       "NV     29232\n",
       "ON     26031\n",
       "NC     12196\n",
       "OH     11742\n",
       "PA      9296\n",
       "QC      7290\n",
       "AB      6486\n",
       "WI      4168\n",
       "IL      1574\n",
       "SC       651\n",
       "NYK      156\n",
       "NI       118\n",
       "IN        81\n",
       "OR        57\n",
       "BY        52\n",
       "ST        42\n",
       "CO        42\n",
       "C         32\n",
       "HE        31\n",
       "XGM       22\n",
       "NLK       22\n",
       "NY        19\n",
       "RP        18\n",
       "01        11\n",
       "VS         7\n",
       "CA         7\n",
       "6          3\n",
       "NW         3\n",
       "O          3\n",
       "       ...  \n",
       "AL         2\n",
       "MO         2\n",
       "WA         1\n",
       "CC         1\n",
       "AG         1\n",
       "NE         1\n",
       "WHT        1\n",
       "MN         1\n",
       "HU         1\n",
       "LU         1\n",
       "45         1\n",
       "VA         1\n",
       "RCC        1\n",
       "GA         1\n",
       "CS         1\n",
       "FL         1\n",
       "WAR        1\n",
       "BC         1\n",
       "TAM        1\n",
       "PO         1\n",
       "MA         1\n",
       "4          1\n",
       "KY         1\n",
       "CRF        1\n",
       "10         1\n",
       "11         1\n",
       "DE         1\n",
       "HH         1\n",
       "SP         1\n",
       "XMS        1\n",
       "Name: state, Length: 67, dtype: int64"
      ]
     },
     "execution_count": 15,
     "metadata": {
      "tags": []
     },
     "output_type": "execute_result"
    }
   ],
   "source": [
    "yelp_buisness['state'].value_counts()"
   ]
  },
  {
   "cell_type": "markdown",
   "metadata": {
    "colab_type": "text",
    "id": "J2Zs2WIfxhNs"
   },
   "source": [
    "## It seems the data is mostly gathered from Arizona. Odd, since considering that cities such as Los Angels has many resturants and establishments, yet it is not included within this dataset"
   ]
  },
  {
   "cell_type": "markdown",
   "metadata": {
    "colab_type": "text",
    "id": "bf6Uj3rFxww-"
   },
   "source": [
    "## Run the code below if you want to remove all non-valid state codes"
   ]
  },
  {
   "cell_type": "code",
   "execution_count": null,
   "metadata": {
    "colab": {},
    "colab_type": "code",
    "id": "Pu_n8A-cGbpb"
   },
   "outputs": [],
   "source": [
    "# Taken from https://gist.github.com/JeffPaine/3083347\n",
    "valid_state_codes = [\n",
    "          \"AL\", \"AK\", \"AZ\", \"AR\", \"CA\", \"CO\", \"CT\", \"DC\", \"DE\", \"FL\", \"GA\", \n",
    "          \"HI\", \"ID\", \"IL\", \"IN\", \"IA\", \"KS\", \"KY\", \"LA\", \"ME\", \"MD\", \n",
    "          \"MA\", \"MI\", \"MN\", \"MS\", \"MO\", \"MT\", \"NE\", \"NV\", \"NH\", \"NJ\", \n",
    "          \"NM\", \"NY\", \"NC\", \"ND\", \"OH\", \"OK\", \"OR\", \"PA\", \"RI\", \"SC\", \n",
    "          \"SD\", \"TN\", \"TX\", \"UT\", \"VT\", \"VA\", \"WA\", \"WV\", \"WI\", \"WY\"\n",
    "          ]"
   ]
  },
  {
   "cell_type": "code",
   "execution_count": null,
   "metadata": {
    "colab": {
     "base_uri": "https://localhost:8080/",
     "height": 71
    },
    "colab_type": "code",
    "id": "Cd4cagNEFlKf",
    "outputId": "1fba6159-5807-462e-ac3f-b74c63495e92"
   },
   "outputs": [
    {
     "data": {
      "text/plain": [
       "array(['AZ', 'PA', 'NV', 'OH', 'WI', 'NC', 'IL', 'SC', 'IN', 'CO', 'VA',\n",
       "       'NY', 'OR', 'CA', 'VT', 'AL', 'MO', 'AR', 'FL', 'WA', 'KY', 'NE',\n",
       "       'GA', 'MA', 'DE', 'MN'], dtype=object)"
      ]
     },
     "execution_count": 31,
     "metadata": {
      "tags": []
     },
     "output_type": "execute_result"
    }
   ],
   "source": [
    "# Drop non state codes\n",
    "yelp_buisness = yelp_buisness[yelp_buisness['state'].isin(valid_state_codes)]\n",
    "\n",
    "# Check \n",
    "yelp_buisness['state'].unique()"
   ]
  },
  {
   "cell_type": "markdown",
   "metadata": {
    "colab_type": "text",
    "id": "A4LBbk7Px3GK"
   },
   "source": [
    "## Find all buisnesses that either have 'Food' or 'Resturants' label in their categories"
   ]
  },
  {
   "cell_type": "code",
   "execution_count": null,
   "metadata": {
    "colab": {
     "base_uri": "https://localhost:8080/",
     "height": 253
    },
    "colab_type": "code",
    "id": "lVN-OiPwEvep",
    "outputId": "b3303f77-ea75-4652-c65a-f1ff381dc066"
   },
   "outputs": [
    {
     "data": {
      "text/plain": [
       "categories\n",
       "ATV Rentals/Tours, Active Life                                                                                                                                            3\n",
       "ATV Rentals/Tours, Active Life, Boating, RV Rental, Hotels & Travel                                                                                                       1\n",
       "ATV Rentals/Tours, Active Life, Event Planning & Services, Automotive, Trailer Repair, Local Services, Auto Customization, Golf Cart Rentals, Tires, Metal Fabricators    1\n",
       "ATV Rentals/Tours, Active Life, Event Planning & Services, Boat Charters, Boating, Hotels & Travel, Tours                                                                 1\n",
       "ATV Rentals/Tours, Automotive, Motorcycle Dealers, Auto Repair, RV Dealers, Active Life, Motorcycle Repair                                                                1\n",
       "ATV Rentals/Tours, Boat Tours, Tours, Active Life, Hotels & Travel, Scavenger Hunts                                                                                       1\n",
       "ATV Rentals/Tours, Car Rental, Tours, Hotels & Travel, Motorcycle Rental, Historical Tours, Active Life                                                                   1\n",
       "ATV Rentals/Tours, Hotels & Travel, Active Life, Food Tours, Tours                                                                                                        1\n",
       "ATV Rentals/Tours, Motorcycle Rental, Active Life, Tours, Hotels & Travel                                                                                                 1\n",
       "ATV Rentals/Tours, Rafting/Kayaking, Active Life, Boating, Jet Skis                                                                                                       1\n",
       "Name: categories, dtype: int64"
      ]
     },
     "execution_count": 32,
     "metadata": {
      "tags": []
     },
     "output_type": "execute_result"
    }
   ],
   "source": [
    "# Show all categories \n",
    "yelp_buisness.groupby('categories')['categories'].count()[:10]"
   ]
  },
  {
   "cell_type": "code",
   "execution_count": null,
   "metadata": {
    "colab": {},
    "colab_type": "code",
    "id": "ZDp1ASQq5JYK"
   },
   "outputs": [],
   "source": [
    "import re"
   ]
  },
  {
   "cell_type": "code",
   "execution_count": null,
   "metadata": {
    "colab": {
     "base_uri": "https://localhost:8080/",
     "height": 73
    },
    "colab_type": "code",
    "id": "ho__opJY-Dxz",
    "outputId": "e8d72007-389b-4f6a-a344-86e95b74ce5a"
   },
   "outputs": [
    {
     "name": "stdout",
     "output_type": "stream",
     "text": [
      "Total number of unique labels: 1255\n",
      "{'Cabinetry', 'Ceremonial Clothing', 'Aircraft Dealers', 'Medical Spas', 'Restaurants', 'Window Washing', 'Train Stations', 'Honey', 'Digitizing Services', 'Orthopedists', 'Furniture Reupholstery', 'Propane', 'Art Supplies', 'Party Characters', 'Adult Education', 'Aerial Tours', 'Taxidermy', 'Screen Printing', 'Chiropractors', 'Hospice', 'Skate Shops', 'Framing', 'Internal Medicine', 'Cooking Schools', 'Pumpkin Patches', 'Proctologists', 'Police Departments', 'Hair Stylists', 'Rehabilitation Center', 'Estate Planning Law', 'Pet Transportation', 'Furniture Repair', 'Bartenders', 'Mongolian', 'Career Counseling', 'Chinese', 'Club Crawl', 'Astrologers', 'Food Court', 'Surfing', 'Product Design', 'Prosthodontists', 'Boudoir Photography', 'Packing Services', 'Barbeque', 'Surgeons', 'Hair Loss Centers', 'Glass & Mirrors', 'Ski Resorts', 'Emergency Rooms', 'Cheerleading', 'Uzbek', 'Drugstores', 'Security Systems', 'Fur Clothing', 'Veterans Organizations', 'Crane Services', 'Stucco Services', 'Pop-up Shops', 'Landscape Architects', 'Oral Surgeons', 'Transportation', 'Scandinavian', 'Printing Services', 'Hungarian', 'Motorcycle Rental', 'Juice Bars & Smoothies', 'Lebanese', 'Baby Gear & Furniture', 'Vegan', 'Handyman', 'Radio Stations', 'Street Vendors', 'Bagels', 'Appraisal Services', 'Butcher', 'Debt Relief Services', 'Flyboarding', 'Swimming Pools', 'Session Photography', 'Patisserie/Cake Shop', 'Entertainment Law', 'Archery', 'Fish & Chips', 'Gyms', 'Banks & Credit Unions', 'Sports Psychologists', 'Arts & Entertainment', 'Art Galleries', 'Persian/Iranian', 'Luggage', 'Drive-In Theater', 'Seafood', 'Florists', 'Elementary Schools', 'Marinas', 'Pet Cremation Services', 'Cannabis Dispensaries', 'Dance Wear', 'IT Services & Computer Repair', 'Dry Cleaning & Laundry', 'LAN Centers', 'Convenience Stores', 'Pakistani', 'Diagnostic Services', 'Beaches', 'Bespoke Clothing', 'Post Offices', 'Props', 'Electronics', 'Hawaiian', 'Tubing', 'Educational Services', 'Bakeries', 'Italian', 'Chimney Sweeps', 'Nanny Services', 'Personal Care Services', 'Do-It-Yourself Food', 'Toy Stores', 'Tobacco Shops', 'Fabric Stores', 'Australian', 'Beer Gardens', 'Prenatal/Perinatal Care', 'Caricatures', 'Dog Parks', 'Brewing Supplies', 'Ultrasound Imaging Centers', 'Speakeasies', 'Senior Centers', 'Dietitians', 'Japanese Curry', 'Community Service/Non-Profit', 'Commercial Real Estate', 'Mattresses', 'Holiday Decorating Services', 'Cooking Classes', 'Piercing', 'Souvenir Shops', 'RV Dealers', 'Car Wash', 'Afghan', 'Windows Installation', 'Skydiving', 'Bowling', 'Petting Zoos', 'Employment Agencies', 'Bike tours', 'Cafes', 'Coffee Roasteries', 'Wigs', 'Mobile Phones', 'Strip Clubs', 'Childbirth Education', 'Septic Services', 'Synagogues', 'Car Share Services', 'Carpet Cleaning', 'Tanning', 'Payroll Services', 'RV Rental', 'Baseball Fields', 'Outlet Stores', 'Civic Center', 'Yelp Events', 'Cideries', 'Pediatric Dentists', 'Backflow Services', 'Pan Asian', 'Furniture Stores', 'Yoga', 'Grocery', 'Feng Shui', 'Carousels', 'Wildlife Hunting Ranges', 'Paint & Sip', 'College Counseling', 'Outdoor Movies', 'Mobile Home Repair', 'Hot Pot', 'Argentine', 'Soba', 'Japanese', 'Cremation Services', 'Taiwanese', 'Metro Stations', 'Gay Bars', 'Urologists', 'Boot Camps', 'Mags', 'Hearing Aid Providers', 'Sports Clubs', 'Laser Hair Removal', 'Montessori Schools', 'Appliances', 'Public Services & Government', 'RV Parks', 'Traditional Clothing', 'Home Developers', 'Comic Books', 'Ski & Snowboard Shops', 'Bartending Schools', 'Wheel & Rim Repair', 'Plastic Surgeons', 'Medical Transportation', 'Shopping Centers', 'Bistros', 'Fertility', 'Pub Food', 'Print Media', 'Family Practice', 'Venezuelan', 'Web Design', 'Travel Agents', 'Vitamins & Supplements', 'Themed Cafes', 'Home & Garden', 'Furniture Rental', 'Summer Camps', 'Golf Lessons', 'Aircraft Repairs', 'Paint Stores', 'Southern', 'Smog Check Stations', 'Wine Tours', 'Parks', 'Lounges', 'Kids Hair Salons', 'Carpet Installation', 'Water Stores', 'Lawn Services', 'Land Surveying', 'Pet Boarding', 'Home Automation', 'Health Insurance Offices', 'Ice Cream & Frozen Yogurt', 'Dry Cleaning', 'Property Management', 'Boat Charters', 'Retina Specialists', 'Cuban', 'Car Rental', 'Dog Walkers', 'Bounce House Rentals', 'Brazilian Jiu-jitsu', 'Airports', 'Formal Wear', 'Emergency Medicine', 'Planetarium', 'Massage Therapy', 'Life Insurance', 'Honduran', 'Syrian', 'Delicatessen', 'Knitting Supplies', 'Dumpster Rental', 'Plus Size Fashion', 'Water Purification Services', 'Wildlife Control', 'Beer Garden', 'American (New)', 'Swimwear', 'Photographers', 'Machine & Tool Rental', 'Farms', 'Officiants', 'Golf Cart Dealers', 'Virtual Reality Centers', 'Roadside Assistance', 'Fingerprinting', 'Skin Care', 'Public Markets', 'Wine & Spirits', 'High Fidelity Audio Equipment', 'Unofficial Yelp Events', 'Internet Service Providers', 'Cannabis Collective', 'Grilling Equipment', 'Homeowner Association', 'Car Stereo Installation', 'Spine Surgeons', 'Guns & Ammo', 'Insulation Installation', 'Armenian', 'Legal Services', 'Home Organization', 'Halal', 'Water Delivery', 'Nurseries & Gardening', 'Historical Tours', 'Hookah Bars', 'Sandblasting', 'Bingo Halls', 'Home Health Care', 'Towing', 'Limos', 'Jewelry Repair', 'Floral Designers', 'Shaved Ice', 'Awnings', 'Korean', 'Clowns', 'Tennis', 'Pedicabs', 'Amateur Sports Teams', 'Used', 'Waxing', 'Refinishing Services', 'Screen Printing/T-Shirt Printing', 'Currency Exchange', 'Home Energy Auditors', 'Guamanian', 'Laser Eye Surgery/Lasik', 'Beer', 'Donation Center', 'Holiday Decorations', 'Pole Dancing Classes', 'Real Estate Photography', 'Mobile Phone Repair', 'Water Heater Installation/Repair', 'Workers Compensation Law', 'Habilitative Services', 'Country Dance Halls', 'Pawn Shops', 'Dialysis Clinics', 'Vacation Rental Agents', 'Clock Repair', 'Vietnamese', 'Books', 'Russian', 'Divorce & Family Law', 'Jazz & Blues', 'Pet Waste Removal', 'Osteopathic Physicians', 'Estate Liquidation', 'Accessories', 'Churros', 'Mediterranean', 'Used Bookstore', 'Chicken Shop', 'Jails & Prisons', 'Commercial Truck Dealers', 'Real Estate', 'Auto Loan Providers', 'Lighting Fixtures & Equipment', 'Szechuan', 'Midwives', 'Barbers', 'Teeth Whitening', 'Customized Merchandise', 'Art Tours', 'Matchmakers', 'Keys & Locksmiths', 'Furniture Assembly', 'Dinner Theater', 'Dance Clubs', 'Auto Glass Services', 'Disability Law', 'Museums', 'Office Cleaning', 'Utilities', 'Condominiums', 'Bike Parking', 'Stadiums & Arenas', 'Photo Booth Rentals', 'Medical Supplies', 'Fire Protection Services', 'Wallpapering', 'Street Art', 'Art Museums', 'Haunted Houses', 'Challenge Courses', 'Walking Tours', 'Shoe Repair', 'Hot Air Balloons', 'Solar Panel Cleaning', 'Hybrid Car Repair', 'Pet Hospice', 'Mass Media', 'Car Buyers', 'Bars', 'Visitor Centers', 'Candy Stores', 'Playgrounds', 'Hunting & Fishing Supplies', 'Ethnic Grocery', 'Acne Treatment', 'Singaporean', 'Traffic Ticketing Law', 'Henna Artists', 'Cinema', 'Vegetarian', 'Party & Event Planning', 'Horse Racing', '& Probates', 'Thrift Stores', 'Mobile Dent Repair', 'Shoe Shine', 'Ranches', 'Car Inspectors', 'Motorsport Vehicle Dealers', 'Teppanyaki', 'Shopping', 'Nicaraguan', 'Observatories', 'Breakfast & Brunch', 'Foundation Repair', 'Vehicle Shipping', 'Wills', 'Jet Skis', 'South African', 'Financial Advising', 'Ethiopian', 'Auto Customization', 'Iberian', 'Doulas', 'Trailer Rental', 'Audio/Visual Equipment Rental', 'Sports Bars', 'Local Services', 'Ukrainian', 'Hair Extensions', 'Hydroponics', 'Cannabis Clinics', 'Infectious Disease Specialists', 'Halotherapy', 'Patio Coverings', 'Installment Loans', 'Toxicologists', 'Addiction Medicine', 'Food Delivery Services', 'Trivia Hosts', 'Asian Fusion', 'Massage', 'Indonesian', 'Middle Schools & High Schools', 'French', 'Farming Equipment', 'Beverage Store', 'Travel Services', 'Signmaking', 'Drywall Installation & Repair', 'Veterinarians', 'Tutoring Centers', 'Event Planning & Services', 'Commercial Truck Repair', 'Driving Schools', 'Medical Cannabis Referrals', 'Hair Removal', 'Orthodontists', 'Cafeteria', 'Sledding', 'Kosher', 'Rock Climbing', 'Safety Equipment', 'Oil Change Stations', 'Spiritual Shop', 'Aerial Fitness', 'Fitness & Instruction', 'Market Stalls', 'Cabaret', 'Sandwiches', 'Poutineries', 'Anesthesiologists', 'Interval Training Gyms', 'Aquariums', 'Calligraphy', 'Tacos', 'Tabletop Games', 'Hockey Equipment', 'Tex-Mex', 'Food Tours', 'Solar Installation', 'Fences & Gates', 'Mobility Equipment Sales & Services', 'Real Estate Services', 'Municipality', 'Hearing Aids', 'Massage Schools', 'Libraries', 'Trusts', 'Doctors', 'Day Camps', 'Musicians', 'Flowers', 'Trailer Repair', 'Car Auctions', 'Medical Foot Care', 'Arts & Crafts', 'Cryotherapy', 'Translation Services', 'Electricity Suppliers', 'Electricians', 'Speech Therapists', 'Scavenger Hunts', 'Hydrotherapy', 'Macarons', 'Nurse Practitioner', 'Billing Services', 'Free Diving', 'Pick Your Own Farms', 'Wedding Planning', 'Machine Shops', 'Tickets', 'Osteopaths', 'Kitchen & Bath', 'Brasseries', 'Pet Sitting', 'Organic Stores', 'Pet Stores', 'Lingerie', 'Leisure Centers', 'Pool Halls', 'Art Classes', 'Country Clubs', 'Neurologist', 'Burgers', 'Cosmetic Surgeons', 'Moroccan', 'Mortgage Lenders', 'Aestheticians', 'Oncologist', 'Spin Classes', 'Pets', 'Customs Brokers', 'Golf', 'Shades & Blinds', 'Ayurveda', 'Mailbox Centers', 'Memory Care', 'Rheumatologists', 'Sunglasses', 'Leather Goods', 'Flea Markets', 'Real Estate Agents', 'Batting Cages', 'Austrian', 'University Housing', 'Gun/Rifle Ranges', 'Blood & Plasma Donation Centers', 'Lice Services', 'Hydro-jetting', 'Go Karts', 'Nudist', 'Religious Organizations', 'Striptease Dancers', 'Vintage & Consignment', 'Magicians', 'Chicken Wings', 'Campgrounds', 'Maternity Wear', 'Swimming Lessons/Schools', 'Immigration Law', 'Nightlife', 'Wine Tasting Room', 'Engraving', 'Service Stations', 'Office Equipment', 'Ticket Sales', 'Disc Golf', 'Comfort Food', 'Pediatricians', 'Tapas Bars', 'Metal Fabricators', 'Structural Engineers', 'Fitness/Exercise Equipment', 'Salvadoran', 'Medical Centers', 'Pizza', 'Pool Cleaners', 'Bankruptcy Law', 'Hotel bar', 'Preventive Medicine', 'Cupcakes', 'Bike Sharing', 'Tui Na', 'Hypnosis/Hypnotherapy', 'Dermatologists', 'Heating & Air Conditioning/HVAC', 'Climbing', 'Bridal', 'Courthouses', 'Chinese Martial Arts', 'Antiques', 'Olive Oil', 'Piano Bars', 'Social Security Law', 'Mountain Biking', 'Hotels', 'Airport Shuttles', 'Sewing & Alterations', 'Coffeeshops', 'Sex Therapists', 'Bicycles', 'Nutritionists', 'Zoos', 'Tanning Beds', 'Bail Bondsmen', \"Men's Hair Salons\", 'Junk Removal & Hauling', 'Environmental Abatement', 'Lactation Services', 'Lighting Stores', 'Kids Activities', 'Basketball Courts', 'Tasting Classes', 'Hong Kong Style Cafe', 'Reptile Shops', 'Makeup Artists', 'Sushi Bars', 'Kickboxing', 'Blow Dry/Out Services', 'Artificial Turf', 'Home Theatre Installation', 'Champagne Bars', 'Gastroenterologist', 'Flooring', 'Vape Shops', 'DUI Law', 'Gardeners', 'Dance Studios', 'Vacation Rentals', 'Cocktail Bars', 'Traditional Chinese Medicine', 'Employment Law', 'Auto Insurance', 'Transmission Repair', 'Dominican', 'Carpenters', 'Gymnastics', 'Boxing', 'Personal Shopping', 'Irrigation', 'Izakaya', 'Immunodermatologists', 'Christmas Trees', 'Races & Competitions', 'Generator Installation/Repair', 'Editorial Services', 'Elder Care Planning', 'Fencing Clubs', 'Arcades', 'Home Decor', 'Newspapers & Magazines', 'Local Fish Stores', 'Horse Equipment Shops', 'Knife Sharpening', 'Hospitals', 'Health Retreats', 'Taxis', 'Trains', 'Tableware', 'Advertising', 'Pulmonologist', 'Oxygen Bars', 'House Sitters', 'Himalayan/Nepalese', 'Obstetricians & Gynecologists', 'Pop-Up Restaurants', 'Eyebrow Services', 'Snorkeling', 'Garage Door Services', 'Religious Items', 'Cannabis Tours', 'Waldorf Schools', 'Irish Pub', 'Home Window Tinting', 'Gunsmith', 'Fruits & Veggies', 'Funeral Services & Cemeteries', 'Orthotics', 'Dance Schools', 'Concierge Medicine', 'Egyptian', 'Community Centers', 'Soccer', 'Event Photography', 'Psychiatrists', 'Turkish', 'Party Bike Rentals', 'Imported Food', 'Architects', 'Brazilian', 'Adult Entertainment', 'Botanical Gardens', 'Basque', 'Uniforms', 'Eatertainment', 'Teacher Supplies', 'Personal Chefs', 'Czech', 'Apartments', 'Livestock Feed & Supply', 'Rugs', 'Axe Throwing', 'Wineries', 'Natural Gas Suppliers', 'Neurotologists', 'Process Servers', 'DUI Schools', 'Videographers', 'Boat Dealers', 'Colombian', 'Cosmetic Dentists', 'Food', 'Real Estate Law', 'Concept Shops', 'Puerto Rican', 'Hazardous Waste Disposal', 'Game Truck Rental', 'Home Network Installation', 'Business Consulting', 'Skate Parks', 'Auto Electric Services', 'Ice Delivery', 'Modern European', 'Shanghainese', 'Well Drilling', 'Cajun/Creole', 'Shredding Services', \"Children's Museums\", 'Television Stations', 'Retirement Homes', 'Diners', 'Music & Video', 'Buffets', 'Smokehouse', 'Hindu Temples', 'Religious Schools', 'Sicilian', 'Piano Stores', 'Life Coach', 'Pathologists', 'DJs', 'Christmas Markets', 'Telecommunications', 'Auto Parts & Supplies', 'Airsoft', 'Roof Inspectors', 'Fireplace Services', 'Countertop Installation', 'Middle Eastern', 'Insurance', 'Videos & Video Game Rental', 'Paint-Your-Own Pottery', 'Car Brokers', 'Golf Cart Rentals', 'Periodontists', 'Criminal Defense Law', 'Home Cleaning', 'Professional Services', 'Race Tracks', 'Dive Shops', 'Indoor Landscaping', 'Placenta Encapsulations', 'Sugaring', 'Title Loans', 'Festivals', 'Surf Shop', 'Couriers & Delivery Services', 'Bar Crawl', 'Food Banks', 'Comedy Clubs', 'Siding', 'Meat Shops', 'Preschools', 'Door Sales/Installation', 'Fire Departments', 'DIY Auto Shop', 'Coffee & Tea', 'Investing', 'Karaoke', 'British', 'Qi Gong', 'Specialty Food', 'Motorcycle Repair', 'Data Recovery', 'Cheese Tasting Classes', 'Conveyor Belt Sushi', 'Watch Repair', 'Demolition Services', \"Men's Clothing\", 'Rodeo', 'Bookkeepers', 'Filipino', 'Holistic Animal Care', 'Bike Shop', 'Skilled Nursing', 'ATV Rentals/Tours', 'Alternative Medicine', 'Martial Arts', 'Luggage Storage', 'Department Stores', 'Mortuary Services', 'Auto Repair', 'Physical Therapy', 'Acupuncture', 'Ear Nose & Throat', 'Ethnic Food', 'Hot Dogs', 'Discount Store', 'Accountants', 'Air Duct Cleaning', 'Social Clubs', 'Costumes', 'Animal Assisted Therapy', 'Occupational Therapy', 'Public Relations', 'Pet Insurance', 'Neuropathologists', 'Automotive', 'Mini Golf', 'Mobile Phone Accessories', 'Whiskey Bars', 'Registry Office', 'Recycling Center', 'Bike Repair', 'Laotian', 'Firearm Training', 'Private Jet Charter', 'Excavation Services', 'Tiling', 'Day Spas', 'Poke', 'Wholesale Stores', 'Sporting Goods', 'Music & DVDs', 'Photography Classes', 'Piano Services', 'Firewood', 'Racing Experience', 'Sports Wear', 'Hostels', 'Venues & Event Spaces', 'Private Investigation', 'Nephrologists', 'Face Painting', 'Slovakian', 'Active Life', 'Indian', 'Tea Rooms', 'Radiologists', 'Fireworks', 'Karate', 'Electronics Repair', 'Musical Instrument Services', 'Mexican', 'Cardio Classes', 'Portuguese', 'Arabian', 'Vascular Medicine', 'Public Art', 'Supper Clubs', 'Public Transportation', 'Rolfing', 'Undersea/Hyperbaric Medicine', 'Hardware Stores', 'Urgent Care', 'Bubble Tea', 'Hair Salons', 'Registration Services', '3D Printing', 'Peruvian', 'Coffee & Tea Supplies', 'Bed & Breakfast', 'Auto Security', 'Guitar Stores', 'Trinidadian', 'Flowers & Gifts', 'Plumbing', 'Dim Sum', 'Tiki Bars', 'Reflexology', 'Assisted Living Facilities', 'Recreation Centers', 'Homeless Shelters', 'Animal Shelters', 'Video/Film Production', 'Halfway Houses', 'Gutter Services', 'Party Bus Rentals', 'Pet Photography', 'Food Trucks', 'Used Car Dealers', 'Home & Rental Insurance', 'Tax Services', 'Child Care & Day Care', 'Commissioned Artists', 'Laboratory Testing', 'Contract Law', 'Party Equipment Rentals', 'General Festivals', 'Vocal Coach', 'Decks & Railing', 'Home Staging', 'Mortgage Brokers', 'Music Venues', 'Colleges & Universities', 'Buses', 'Psychologists', 'Kitchen Incubators', 'Snow Removal', 'Specialty Schools', 'Test Preparation', 'Vinyl Records', 'Car Dealers', 'Mosques', 'Bookbinding', 'Cambodian', 'Pool & Hot Tub Service', 'Bubble Soccer', 'Gift Shops', 'Town Hall', 'Sailing', 'Fashion', 'Bangladeshi', 'Latin American', 'Gastropubs', 'Eyelash Service', 'Apartment Agents', 'Beer Bar', 'Scooter Tours', 'Cheesesteaks', 'Live/Raw Food', 'Nursing Schools', 'Education', 'Building Supplies', 'Beauty & Spas', 'EV Charging Stations', 'Paddleboarding', 'Shaved Snow', 'Saunas', 'Check Cashing/Pay-day Loans', 'Wholesalers', 'German', 'Balloon Services', 'Roofing', 'Wraps', 'Body Contouring', 'Animal Physical Therapy', 'Special Education', 'Polish', 'Attraction Farms', 'Pet Services', 'Gluten-Free', 'Creperies', 'Psychic Mediums', 'Cycling Classes', 'Adoption Services', 'Cosmetics & Beauty Supply', 'Amusement Parks', 'Photography Stores & Services', 'Windshield Installation & Repair', 'Pretzels', 'Flight Instruction', 'Television Service Providers', 'Farmers Market', 'Auction Houses', 'Seafood Markets', 'Glass Blowing', 'Muay Thai', \"Women's Clothing\", 'Pet Breeders', 'Security Services', 'Mobile Home Parks', 'Thai', 'Business Financing', 'Public Adjusters', 'Walk-in Clinics', 'Junkyards', 'International Grocery', 'Gold Buyers', 'Notaries', \"Children's Clothing\", 'Vehicle Wraps', 'Kitchen Supplies', 'Boat Repair', 'Optometrists', 'Wine Bars', 'Herbal Shops', 'Buddhist Temples', 'Packing Supplies', 'Interlock Systems', 'Auto Upholstery', 'Art Schools', 'Emergency Pet Hospital', 'Software Development', 'Bike Repair/Maintenance', 'Health & Medical', 'Tree Services', 'Motorcycle Dealers', 'Car Window Tinting', 'Auto Detailing', 'Custom Cakes', 'IV Hydration', 'Barre Classes', 'Backshop', 'TV Mounting', 'Vocational & Technical School', 'Salad', 'Gelato', 'Ethical Grocery', 'Horseback Riding', 'Tours', 'Ziplining', 'Health Markets', 'Wine Tasting Classes', 'Threading Services', 'Medical Law', 'Talent Agencies', 'Hepatologists', 'Gemstones & Minerals', 'Jewelry', 'Airlines', 'Motorcycle Gear', 'Internet Cafes', 'Indoor Playcentre', 'Language Schools', 'Tattoo Removal', 'Pet Training', 'Pool & Billiards', 'Party Supplies', 'Pita', 'Ophthalmologists', 'Art Restoration', 'Noodles', 'Pilates', 'Waffles', 'Fishing', 'Adult', 'African', 'Local Flavor', 'Business Law', 'Passport & Visa Services', 'Water Suppliers', 'Cantonese', 'Clothing Rental', 'Parking', 'Damage Restoration', 'Irish', 'Truck Rental', 'Pubs', 'Aquarium Services', 'Eyewear & Opticians', 'Hats', 'Shipping Centers', 'Allergists', 'Mediators', 'Fondue', 'Gas Stations', 'Masonry/Concrete', 'Pest Control', 'Fast Food', 'Tapas/Small Plates', 'Endodontists', 'Herbs & Spices', 'Boat Tours', 'Taekwondo', 'Skating Rinks', 'Head Shops', 'Rafting/Kayaking', 'Cards & Stationery', 'Computers', 'Endocrinologists', 'Bird Shops', 'Drones', 'Escape Games', 'Team Building Activities', 'Trailer Dealers', 'Professional Sports Teams', 'Horse Boarding', 'Embroidery & Crochet', 'Video Game Stores', 'Duty-Free Shops', 'Misting System Services', 'Cheese Shops', 'Town Car Service', 'Valet Services', 'Pet Groomers', 'Brewpubs', 'CSA', 'Watches', 'Court Reporters', 'First Aid Classes', 'Waterproofing', 'Badminton', 'Churches', 'CPR Classes', 'Breweries', 'Trophy Shops', 'Private Tutors', 'Boating', 'Carpet Dyeing', 'Beer Tours', 'Psychics', 'Duplication Services', 'Reiki', 'Permanent Makeup', 'Phlebologists', 'Nail Technicians', 'Shutters', 'Bus Tours', 'Sports Medicine', 'Personal Assistants', 'Diving', 'Supernatural Readings', 'Candle Stores', 'Trainers', 'Pressure Washers', 'Childproofing', 'Mobile Home Dealers', 'Popcorn Shops', 'Opera & Ballet', 'Hot Tub & Pool', 'Landscaping', 'Pharmacy', 'Music Production Services', 'Boat Parts & Supplies', 'Otologists', 'Art Space Rentals', 'Weight Loss Centers', 'Nail Salons', 'Movers', 'Farm Equipment Repair', 'Tax Law', 'Distilleries', 'Bike Rentals', 'Casinos', 'Laundry Services', 'Dental Hygienists', 'Soul Food', 'Trampoline Parks', 'Audiologist', 'Airport Terminals', 'Scooter Rentals', 'Outdoor Furniture Stores', 'Cultural Center', 'Hotels & Travel', 'Soup', 'Hobby Shops', 'Military Surplus', 'Carpeting', 'General Litigation', 'Falafel', 'Health Coach', 'Circuit Training Gyms', 'Surf Schools', 'Colonics', 'Financial Services', 'Delis', 'Bookstores', 'Estheticians', 'Battery Stores', 'Lakes', 'Donuts', 'American (Traditional)', 'Steakhouses', 'Kebab', 'Guest Houses', 'Airport Lounges', 'Naturopathic/Holistic', 'Self Storage', 'Scuba Diving', 'Counseling & Mental Health', 'Laser Tag', 'Gerontologists', 'Golf Equipment', 'Meditation Centers', 'Tai Chi', 'Squash', 'Graphic Design', 'Rotisserie Chicken', 'Contractors', 'Painters', 'Sleep Specialists', 'Tuscan', 'Musical Instruments & Teachers', 'Belgian', 'Cardiologists', 'Cosmetology Schools', 'Powder Coating', 'Landmarks & Historical Buildings', 'Behavior Analysts', 'Grout Services', 'Bus Rental', 'Pasta Shops', 'Pet Adoption', 'Food Stands', 'Float Spa', 'Shoe Stores', 'New Mexican Cuisine', 'Cigar Bars', 'Resorts', 'Desserts', 'Tires', 'Tattoo', 'Dentists', 'Appliances & Repair', 'Motorsport Vehicle Repairs', 'Lawyers', 'Shared Office Spaces', 'Acai Bowls', 'Empanadas', 'Perfume', 'Architectural Tours', 'Ramen', 'Malaysian', 'Beach Equipment Rentals', 'Tenant and Eviction Law', 'Interior Design', 'Body Shops', 'Outdoor Gear', 'Patent Law', 'General Dentistry', 'Marketing', 'Performing Arts', 'Wedding Chapels', 'Self-defense Classes', 'Safe Stores', 'IP & Internet Law', 'Dive Bars', 'Recording & Rehearsal Studios', 'Private Schools', 'Embassy', 'Personal Injury Law', 'Fuel Docks', 'Pain Management', 'Burmese', 'Spray Tanning', 'RV Repair', 'Caribbean', 'Bikes', 'Greek', 'Parenting Classes', 'Home Inspectors', 'Departments of Motor Vehicles', 'Prosthetics', 'Traffic Schools', 'Paintball', 'Restaurant Supplies', 'Community Gardens', 'Home Services', 'Hiking', 'Diagnostic Imaging', 'Environmental Testing', 'Water Parks', 'Spanish', 'Laundromat', 'Caterers', 'Golf Equipment Shops', 'Podiatrists', 'Rest Stops', 'Chocolatiers & Shops', 'Kombucha'}\n"
     ]
    }
   ],
   "source": [
    "# Convert category entries from string to set and keep only unique values\n",
    "\n",
    "# Initialize empty set\n",
    "unique_terms = set()\n",
    "\n",
    "# Regex to capture all category labels\n",
    "p = re.compile('\\,\\s')\n",
    "\n",
    "counter = 0 \n",
    "# Iterate through every row of categories\n",
    "for x in yelp_buisness['categories']: \n",
    "  if x:\n",
    "    # Convert all words to lowercase \n",
    "    unique_terms.update(p.split(x))\n",
    "\n",
    "# Check\n",
    "print(\"Total number of unique labels: {}\".format(len(unique_terms)))\n",
    "print(unique_terms)"
   ]
  },
  {
   "cell_type": "code",
   "execution_count": null,
   "metadata": {
    "colab": {
     "base_uri": "https://localhost:8080/",
     "height": 805
    },
    "colab_type": "code",
    "id": "FsRVlXZnQo0_",
    "outputId": "d061b65e-a0e9-4b82-8065-3b418c5a3d2f"
   },
   "outputs": [
    {
     "name": "stdout",
     "output_type": "stream",
     "text": [
      "Number of relevant reviews: 32164\n"
     ]
    },
    {
     "data": {
      "text/html": [
       "<div>\n",
       "<style scoped>\n",
       "    .dataframe tbody tr th:only-of-type {\n",
       "        vertical-align: middle;\n",
       "    }\n",
       "\n",
       "    .dataframe tbody tr th {\n",
       "        vertical-align: top;\n",
       "    }\n",
       "\n",
       "    .dataframe thead th {\n",
       "        text-align: right;\n",
       "    }\n",
       "</style>\n",
       "<table border=\"1\" class=\"dataframe\">\n",
       "  <thead>\n",
       "    <tr style=\"text-align: right;\">\n",
       "      <th></th>\n",
       "      <th>attributes</th>\n",
       "      <th>business_id</th>\n",
       "      <th>categories</th>\n",
       "      <th>city</th>\n",
       "      <th>is_open</th>\n",
       "      <th>name</th>\n",
       "      <th>review_count</th>\n",
       "      <th>stars</th>\n",
       "      <th>state</th>\n",
       "    </tr>\n",
       "  </thead>\n",
       "  <tbody>\n",
       "    <tr>\n",
       "      <th>5</th>\n",
       "      <td>{'BikeParking': 'True', 'BusinessAcceptsCredit...</td>\n",
       "      <td>45bWSZtniwPRiqlivpS8Og</td>\n",
       "      <td>Coffee &amp; Tea, Food</td>\n",
       "      <td>Phoenix</td>\n",
       "      <td>1</td>\n",
       "      <td>The Coffee Bean &amp; Tea Leaf</td>\n",
       "      <td>63</td>\n",
       "      <td>4.0</td>\n",
       "      <td>AZ</td>\n",
       "    </tr>\n",
       "    <tr>\n",
       "      <th>8</th>\n",
       "      <td>{'Alcohol': 'none', 'Ambience': '{'romantic': ...</td>\n",
       "      <td>8-NRKkPY1UiFXW20WXKiXg</td>\n",
       "      <td>Mexican, Restaurants</td>\n",
       "      <td>Avondale</td>\n",
       "      <td>1</td>\n",
       "      <td>Filiberto's Mexican Food</td>\n",
       "      <td>40</td>\n",
       "      <td>2.5</td>\n",
       "      <td>AZ</td>\n",
       "    </tr>\n",
       "    <tr>\n",
       "      <th>12</th>\n",
       "      <td>{'Alcohol': 'full_bar', 'Ambience': '{'romanti...</td>\n",
       "      <td>_c3ixq9jYKxhLUB0czi0ug</td>\n",
       "      <td>Bars, Sports Bars, Dive Bars, Burgers, Nightli...</td>\n",
       "      <td>Phoenix</td>\n",
       "      <td>1</td>\n",
       "      <td>Original Hamburger Works</td>\n",
       "      <td>277</td>\n",
       "      <td>4.0</td>\n",
       "      <td>AZ</td>\n",
       "    </tr>\n",
       "    <tr>\n",
       "      <th>21</th>\n",
       "      <td>None</td>\n",
       "      <td>gJ5xSt6147gkcZ9Es0WxlA</td>\n",
       "      <td>Fast Food, Burgers, Restaurants</td>\n",
       "      <td>Cleveland</td>\n",
       "      <td>1</td>\n",
       "      <td>Rally's Hamburgers</td>\n",
       "      <td>5</td>\n",
       "      <td>3.0</td>\n",
       "      <td>OH</td>\n",
       "    </tr>\n",
       "    <tr>\n",
       "      <th>22</th>\n",
       "      <td>{'Ambience': '{'romantic': False, 'intimate': ...</td>\n",
       "      <td>3ByGQOVgds2YEu6kzl-XEQ</td>\n",
       "      <td>Nightlife, Bars, American (Traditional), Sport...</td>\n",
       "      <td>Phoenix</td>\n",
       "      <td>1</td>\n",
       "      <td>Rib Shop</td>\n",
       "      <td>3</td>\n",
       "      <td>2.5</td>\n",
       "      <td>AZ</td>\n",
       "    </tr>\n",
       "    <tr>\n",
       "      <th>24</th>\n",
       "      <td>{'BusinessAcceptsCreditCards': 'True', 'GoodFo...</td>\n",
       "      <td>CeuTRtwsq6w5rztGOyNMPg</td>\n",
       "      <td>Mexican, Restaurants</td>\n",
       "      <td>Phoenix</td>\n",
       "      <td>1</td>\n",
       "      <td>Salsitas</td>\n",
       "      <td>14</td>\n",
       "      <td>2.5</td>\n",
       "      <td>AZ</td>\n",
       "    </tr>\n",
       "    <tr>\n",
       "      <th>29</th>\n",
       "      <td>{'BusinessAcceptsCreditCards': 'True', 'Busine...</td>\n",
       "      <td>6YC6CsXRrmPv_iwfvc9onA</td>\n",
       "      <td>Pizza, Restaurants</td>\n",
       "      <td>Streetsboro</td>\n",
       "      <td>1</td>\n",
       "      <td>Teresas Pizzeria</td>\n",
       "      <td>11</td>\n",
       "      <td>3.0</td>\n",
       "      <td>OH</td>\n",
       "    </tr>\n",
       "    <tr>\n",
       "      <th>30</th>\n",
       "      <td>{'Alcohol': 'full_bar', 'Ambience': '{'romanti...</td>\n",
       "      <td>42uRhhQDzbtKrUYoBPXS8A</td>\n",
       "      <td>Nightlife, Restaurants, Bars, Chicken Wings, A...</td>\n",
       "      <td>Sun Prairie</td>\n",
       "      <td>1</td>\n",
       "      <td>Chicken Lips</td>\n",
       "      <td>102</td>\n",
       "      <td>4.5</td>\n",
       "      <td>WI</td>\n",
       "    </tr>\n",
       "    <tr>\n",
       "      <th>32</th>\n",
       "      <td>{'Alcohol': 'none', 'Ambience': '{'romantic': ...</td>\n",
       "      <td>kgffcoxT6BQp-gJ-UQ7Czw</td>\n",
       "      <td>Fast Food, Restaurants, Sandwiches</td>\n",
       "      <td>Las Vegas</td>\n",
       "      <td>1</td>\n",
       "      <td>Subway</td>\n",
       "      <td>13</td>\n",
       "      <td>2.5</td>\n",
       "      <td>NV</td>\n",
       "    </tr>\n",
       "    <tr>\n",
       "      <th>33</th>\n",
       "      <td>{'Alcohol': 'beer_and_wine', 'Ambience': '{'ro...</td>\n",
       "      <td>0jtRI7hVMpQHpUVtUy4ITw</td>\n",
       "      <td>Beer, Wine &amp; Spirits, Italian, Food, American ...</td>\n",
       "      <td>Las Vegas</td>\n",
       "      <td>1</td>\n",
       "      <td>Omelet House Summerlin</td>\n",
       "      <td>242</td>\n",
       "      <td>4.0</td>\n",
       "      <td>NV</td>\n",
       "    </tr>\n",
       "  </tbody>\n",
       "</table>\n",
       "</div>"
      ],
      "text/plain": [
       "                                           attributes             business_id  \\\n",
       "5   {'BikeParking': 'True', 'BusinessAcceptsCredit...  45bWSZtniwPRiqlivpS8Og   \n",
       "8   {'Alcohol': 'none', 'Ambience': '{'romantic': ...  8-NRKkPY1UiFXW20WXKiXg   \n",
       "12  {'Alcohol': 'full_bar', 'Ambience': '{'romanti...  _c3ixq9jYKxhLUB0czi0ug   \n",
       "21                                               None  gJ5xSt6147gkcZ9Es0WxlA   \n",
       "22  {'Ambience': '{'romantic': False, 'intimate': ...  3ByGQOVgds2YEu6kzl-XEQ   \n",
       "24  {'BusinessAcceptsCreditCards': 'True', 'GoodFo...  CeuTRtwsq6w5rztGOyNMPg   \n",
       "29  {'BusinessAcceptsCreditCards': 'True', 'Busine...  6YC6CsXRrmPv_iwfvc9onA   \n",
       "30  {'Alcohol': 'full_bar', 'Ambience': '{'romanti...  42uRhhQDzbtKrUYoBPXS8A   \n",
       "32  {'Alcohol': 'none', 'Ambience': '{'romantic': ...  kgffcoxT6BQp-gJ-UQ7Czw   \n",
       "33  {'Alcohol': 'beer_and_wine', 'Ambience': '{'ro...  0jtRI7hVMpQHpUVtUy4ITw   \n",
       "\n",
       "                                           categories         city  is_open  \\\n",
       "5                                  Coffee & Tea, Food      Phoenix        1   \n",
       "8                                Mexican, Restaurants     Avondale        1   \n",
       "12  Bars, Sports Bars, Dive Bars, Burgers, Nightli...      Phoenix        1   \n",
       "21                    Fast Food, Burgers, Restaurants    Cleveland        1   \n",
       "22  Nightlife, Bars, American (Traditional), Sport...      Phoenix        1   \n",
       "24                               Mexican, Restaurants      Phoenix        1   \n",
       "29                                 Pizza, Restaurants  Streetsboro        1   \n",
       "30  Nightlife, Restaurants, Bars, Chicken Wings, A...  Sun Prairie        1   \n",
       "32                 Fast Food, Restaurants, Sandwiches    Las Vegas        1   \n",
       "33  Beer, Wine & Spirits, Italian, Food, American ...    Las Vegas        1   \n",
       "\n",
       "                          name  review_count  stars state  \n",
       "5   The Coffee Bean & Tea Leaf            63    4.0    AZ  \n",
       "8     Filiberto's Mexican Food            40    2.5    AZ  \n",
       "12    Original Hamburger Works           277    4.0    AZ  \n",
       "21          Rally's Hamburgers             5    3.0    OH  \n",
       "22                    Rib Shop             3    2.5    AZ  \n",
       "24                    Salsitas            14    2.5    AZ  \n",
       "29            Teresas Pizzeria            11    3.0    OH  \n",
       "30                Chicken Lips           102    4.5    WI  \n",
       "32                      Subway            13    2.5    NV  \n",
       "33      Omelet House Summerlin           242    4.0    NV  "
      ]
     },
     "execution_count": 35,
     "metadata": {
      "tags": []
     },
     "output_type": "execute_result"
    }
   ],
   "source": [
    "# Find all resturants\n",
    "# 1. food - 1920 matches\n",
    "# 2. Food - 27015 matches\n",
    "# 3. Food|food - 28443 matches\n",
    "# 4. Restaurants - 41342 matches\n",
    "# 5. restaurants - 0 matches \n",
    "# 6. Food|Restaurants|food - 53793 matches \n",
    "# 7. Food|Restaurants - 53793 matches (same number so omit food)\n",
    "\n",
    "# Some mistakes captured such as: \n",
    "# Health & Medical, Active Life, Vitamins & Supplements, Nutritionists, Food, Trainers, Specialty Food, Fitness & Instruction, Health Markets, Shopping\n",
    "\n",
    "restaurant_reviews = yelp_buisness[yelp_buisness['categories'].str.contains('Food|Restaurants')==True]\n",
    "\n",
    "# Check\n",
    "print(\"Number of relevant reviews: {}\".format(len(restaurant_reviews)))\n",
    "\n",
    "# View \n",
    "restaurant_reviews.head(10)\n",
    "\n",
    "# TESTING\n",
    "# counts = 0\n",
    "# for x in restaurant_reviews['categories']:\n",
    "#   if 'Health & Medical' in x:\n",
    "#     counts += 1 \n",
    "#     print(x)\n",
    "\n",
    "# print(counts)"
   ]
  },
  {
   "cell_type": "code",
   "execution_count": null,
   "metadata": {
    "colab": {
     "base_uri": "https://localhost:8080/",
     "height": 805
    },
    "colab_type": "code",
    "id": "OGGC9pcuGrKb",
    "outputId": "33e6a95d-8bcd-4b41-bc03-1be3af3eb92d"
   },
   "outputs": [
    {
     "name": "stdout",
     "output_type": "stream",
     "text": [
      "Number of relevant buisnesses: 24137\n"
     ]
    },
    {
     "data": {
      "text/html": [
       "<div>\n",
       "<style scoped>\n",
       "    .dataframe tbody tr th:only-of-type {\n",
       "        vertical-align: middle;\n",
       "    }\n",
       "\n",
       "    .dataframe tbody tr th {\n",
       "        vertical-align: top;\n",
       "    }\n",
       "\n",
       "    .dataframe thead th {\n",
       "        text-align: right;\n",
       "    }\n",
       "</style>\n",
       "<table border=\"1\" class=\"dataframe\">\n",
       "  <thead>\n",
       "    <tr style=\"text-align: right;\">\n",
       "      <th></th>\n",
       "      <th>attributes</th>\n",
       "      <th>business_id</th>\n",
       "      <th>categories</th>\n",
       "      <th>city</th>\n",
       "      <th>is_open</th>\n",
       "      <th>name</th>\n",
       "      <th>review_count</th>\n",
       "      <th>stars</th>\n",
       "      <th>state</th>\n",
       "    </tr>\n",
       "  </thead>\n",
       "  <tbody>\n",
       "    <tr>\n",
       "      <th>8</th>\n",
       "      <td>{'Alcohol': 'none', 'Ambience': '{'romantic': ...</td>\n",
       "      <td>8-NRKkPY1UiFXW20WXKiXg</td>\n",
       "      <td>Mexican, Restaurants</td>\n",
       "      <td>Avondale</td>\n",
       "      <td>1</td>\n",
       "      <td>Filiberto's Mexican Food</td>\n",
       "      <td>40</td>\n",
       "      <td>2.5</td>\n",
       "      <td>AZ</td>\n",
       "    </tr>\n",
       "    <tr>\n",
       "      <th>12</th>\n",
       "      <td>{'Alcohol': 'full_bar', 'Ambience': '{'romanti...</td>\n",
       "      <td>_c3ixq9jYKxhLUB0czi0ug</td>\n",
       "      <td>Bars, Sports Bars, Dive Bars, Burgers, Nightli...</td>\n",
       "      <td>Phoenix</td>\n",
       "      <td>1</td>\n",
       "      <td>Original Hamburger Works</td>\n",
       "      <td>277</td>\n",
       "      <td>4.0</td>\n",
       "      <td>AZ</td>\n",
       "    </tr>\n",
       "    <tr>\n",
       "      <th>21</th>\n",
       "      <td>None</td>\n",
       "      <td>gJ5xSt6147gkcZ9Es0WxlA</td>\n",
       "      <td>Fast Food, Burgers, Restaurants</td>\n",
       "      <td>Cleveland</td>\n",
       "      <td>1</td>\n",
       "      <td>Rally's Hamburgers</td>\n",
       "      <td>5</td>\n",
       "      <td>3.0</td>\n",
       "      <td>OH</td>\n",
       "    </tr>\n",
       "    <tr>\n",
       "      <th>22</th>\n",
       "      <td>{'Ambience': '{'romantic': False, 'intimate': ...</td>\n",
       "      <td>3ByGQOVgds2YEu6kzl-XEQ</td>\n",
       "      <td>Nightlife, Bars, American (Traditional), Sport...</td>\n",
       "      <td>Phoenix</td>\n",
       "      <td>1</td>\n",
       "      <td>Rib Shop</td>\n",
       "      <td>3</td>\n",
       "      <td>2.5</td>\n",
       "      <td>AZ</td>\n",
       "    </tr>\n",
       "    <tr>\n",
       "      <th>24</th>\n",
       "      <td>{'BusinessAcceptsCreditCards': 'True', 'GoodFo...</td>\n",
       "      <td>CeuTRtwsq6w5rztGOyNMPg</td>\n",
       "      <td>Mexican, Restaurants</td>\n",
       "      <td>Phoenix</td>\n",
       "      <td>1</td>\n",
       "      <td>Salsitas</td>\n",
       "      <td>14</td>\n",
       "      <td>2.5</td>\n",
       "      <td>AZ</td>\n",
       "    </tr>\n",
       "    <tr>\n",
       "      <th>29</th>\n",
       "      <td>{'BusinessAcceptsCreditCards': 'True', 'Busine...</td>\n",
       "      <td>6YC6CsXRrmPv_iwfvc9onA</td>\n",
       "      <td>Pizza, Restaurants</td>\n",
       "      <td>Streetsboro</td>\n",
       "      <td>1</td>\n",
       "      <td>Teresas Pizzeria</td>\n",
       "      <td>11</td>\n",
       "      <td>3.0</td>\n",
       "      <td>OH</td>\n",
       "    </tr>\n",
       "    <tr>\n",
       "      <th>30</th>\n",
       "      <td>{'Alcohol': 'full_bar', 'Ambience': '{'romanti...</td>\n",
       "      <td>42uRhhQDzbtKrUYoBPXS8A</td>\n",
       "      <td>Nightlife, Restaurants, Bars, Chicken Wings, A...</td>\n",
       "      <td>Sun Prairie</td>\n",
       "      <td>1</td>\n",
       "      <td>Chicken Lips</td>\n",
       "      <td>102</td>\n",
       "      <td>4.5</td>\n",
       "      <td>WI</td>\n",
       "    </tr>\n",
       "    <tr>\n",
       "      <th>32</th>\n",
       "      <td>{'Alcohol': 'none', 'Ambience': '{'romantic': ...</td>\n",
       "      <td>kgffcoxT6BQp-gJ-UQ7Czw</td>\n",
       "      <td>Fast Food, Restaurants, Sandwiches</td>\n",
       "      <td>Las Vegas</td>\n",
       "      <td>1</td>\n",
       "      <td>Subway</td>\n",
       "      <td>13</td>\n",
       "      <td>2.5</td>\n",
       "      <td>NV</td>\n",
       "    </tr>\n",
       "    <tr>\n",
       "      <th>33</th>\n",
       "      <td>{'Alcohol': 'beer_and_wine', 'Ambience': '{'ro...</td>\n",
       "      <td>0jtRI7hVMpQHpUVtUy4ITw</td>\n",
       "      <td>Beer, Wine &amp; Spirits, Italian, Food, American ...</td>\n",
       "      <td>Las Vegas</td>\n",
       "      <td>1</td>\n",
       "      <td>Omelet House Summerlin</td>\n",
       "      <td>242</td>\n",
       "      <td>4.0</td>\n",
       "      <td>NV</td>\n",
       "    </tr>\n",
       "    <tr>\n",
       "      <th>35</th>\n",
       "      <td>{'Alcohol': 'none', 'Ambience': '{'romantic': ...</td>\n",
       "      <td>UeyHx5LMFjjI4d-NTYkX9Q</td>\n",
       "      <td>Restaurants, Cafes</td>\n",
       "      <td>Middlefield</td>\n",
       "      <td>1</td>\n",
       "      <td>Crossroads Country Cafe'</td>\n",
       "      <td>3</td>\n",
       "      <td>2.5</td>\n",
       "      <td>OH</td>\n",
       "    </tr>\n",
       "  </tbody>\n",
       "</table>\n",
       "</div>"
      ],
      "text/plain": [
       "                                           attributes             business_id  \\\n",
       "8   {'Alcohol': 'none', 'Ambience': '{'romantic': ...  8-NRKkPY1UiFXW20WXKiXg   \n",
       "12  {'Alcohol': 'full_bar', 'Ambience': '{'romanti...  _c3ixq9jYKxhLUB0czi0ug   \n",
       "21                                               None  gJ5xSt6147gkcZ9Es0WxlA   \n",
       "22  {'Ambience': '{'romantic': False, 'intimate': ...  3ByGQOVgds2YEu6kzl-XEQ   \n",
       "24  {'BusinessAcceptsCreditCards': 'True', 'GoodFo...  CeuTRtwsq6w5rztGOyNMPg   \n",
       "29  {'BusinessAcceptsCreditCards': 'True', 'Busine...  6YC6CsXRrmPv_iwfvc9onA   \n",
       "30  {'Alcohol': 'full_bar', 'Ambience': '{'romanti...  42uRhhQDzbtKrUYoBPXS8A   \n",
       "32  {'Alcohol': 'none', 'Ambience': '{'romantic': ...  kgffcoxT6BQp-gJ-UQ7Czw   \n",
       "33  {'Alcohol': 'beer_and_wine', 'Ambience': '{'ro...  0jtRI7hVMpQHpUVtUy4ITw   \n",
       "35  {'Alcohol': 'none', 'Ambience': '{'romantic': ...  UeyHx5LMFjjI4d-NTYkX9Q   \n",
       "\n",
       "                                           categories         city  is_open  \\\n",
       "8                                Mexican, Restaurants     Avondale        1   \n",
       "12  Bars, Sports Bars, Dive Bars, Burgers, Nightli...      Phoenix        1   \n",
       "21                    Fast Food, Burgers, Restaurants    Cleveland        1   \n",
       "22  Nightlife, Bars, American (Traditional), Sport...      Phoenix        1   \n",
       "24                               Mexican, Restaurants      Phoenix        1   \n",
       "29                                 Pizza, Restaurants  Streetsboro        1   \n",
       "30  Nightlife, Restaurants, Bars, Chicken Wings, A...  Sun Prairie        1   \n",
       "32                 Fast Food, Restaurants, Sandwiches    Las Vegas        1   \n",
       "33  Beer, Wine & Spirits, Italian, Food, American ...    Las Vegas        1   \n",
       "35                                 Restaurants, Cafes  Middlefield        1   \n",
       "\n",
       "                        name  review_count  stars state  \n",
       "8   Filiberto's Mexican Food            40    2.5    AZ  \n",
       "12  Original Hamburger Works           277    4.0    AZ  \n",
       "21        Rally's Hamburgers             5    3.0    OH  \n",
       "22                  Rib Shop             3    2.5    AZ  \n",
       "24                  Salsitas            14    2.5    AZ  \n",
       "29          Teresas Pizzeria            11    3.0    OH  \n",
       "30              Chicken Lips           102    4.5    WI  \n",
       "32                    Subway            13    2.5    NV  \n",
       "33    Omelet House Summerlin           242    4.0    NV  \n",
       "35  Crossroads Country Cafe'             3    2.5    OH  "
      ]
     },
     "execution_count": 38,
     "metadata": {
      "tags": []
     },
     "output_type": "execute_result"
    }
   ],
   "source": [
    "# Find all restaurants\n",
    "# 1. food - 1920 matches\n",
    "# 2. Food - 27015 matches\n",
    "# 3. Food|food - 28443 matches\n",
    "# 4. Restaurants - 41342 matches\n",
    "# 5. restaurants - 0 matches \n",
    "# 6. Food|Restaurants|food - 53793 matches \n",
    "# 7. Food|Restaurants - 53793 matches (same number so omit food)\n",
    "\n",
    "# Some mistakes captured such as: \n",
    "# Health & Medical, Active Life, Vitamins & Supplements, Nutritionists, Food, Trainers, Specialty Food, Fitness & Instruction, Health Markets, Shopping\n",
    "# Food is contained here, but it is a drug store and not an pure restaurant or food place \n",
    "restaurant_buisnesses = yelp_buisness[yelp_buisness['categories'].str.contains('Restaurants')==True]\n",
    "\n",
    "# Check\n",
    "print(\"Number of relevant buisnesses: {}\".format(len(restaurant_buisnesses)))\n",
    "\n",
    "# View \n",
    "restaurant_buisnesses.head(10)"
   ]
  },
  {
   "cell_type": "code",
   "execution_count": null,
   "metadata": {
    "colab": {
     "base_uri": "https://localhost:8080/",
     "height": 73
    },
    "colab_type": "code",
    "id": "PskO1UcDGybG",
    "outputId": "f2ad654f-ac1a-4dff-ca2b-4c279e41f5b7"
   },
   "outputs": [
    {
     "name": "stdout",
     "output_type": "stream",
     "text": [
      "Total number of unique labels: 612\n",
      "{'Medical Spas', 'Restaurants', 'Honey', 'Furniture Reupholstery', 'Adult Education', 'Screen Printing', 'Cooking Schools', 'Pumpkin Patches', 'Rehabilitation Center', 'Hair Stylists', 'Estate Planning Law', 'Mongolian', 'Furniture Repair', 'Bartenders', 'Chinese', 'Club Crawl', 'Food Court', 'Barbeque', 'Uzbek', 'Glass & Mirrors', 'Ski Resorts', 'Drugstores', 'Security Systems', 'Fur Clothing', 'Transportation', 'Scandinavian', 'Printing Services', 'Hungarian', 'Juice Bars & Smoothies', 'Lebanese', 'Baby Gear & Furniture', 'Vegan', 'Handyman', 'Street Vendors', 'Bagels', 'Butcher', 'Swimming Pools', 'Patisserie/Cake Shop', 'Session Photography', 'Fish & Chips', 'Gyms', 'Banks & Credit Unions', 'Arts & Entertainment', 'Art Galleries', 'Persian/Iranian', 'Seafood', 'Florists', 'Marinas', 'Dry Cleaning & Laundry', 'Convenience Stores', 'Pakistani', 'Beaches', 'Post Offices', 'Hawaiian', 'Electronics', 'Bakeries', 'Italian', 'Do-It-Yourself Food', 'Tobacco Shops', 'Toy Stores', 'Australian', 'Beer Gardens', 'Speakeasies', 'Japanese Curry', 'Community Service/Non-Profit', 'Cooking Classes', 'Afghan', 'Souvenir Shops', 'Piercing', 'Car Wash', 'Windows Installation', 'Skydiving', 'Bowling', 'Cafes', 'Coffee Roasteries', 'Strip Clubs', 'Septic Services', 'Tanning', 'Outlet Stores', 'Cideries', 'Yelp Events', 'Pan Asian', 'Furniture Stores', 'Yoga', 'Grocery', 'Feng Shui', 'Paint & Sip', 'Hot Pot', 'Argentine', 'Soba', 'Japanese', 'Taiwanese', 'Gay Bars', 'Mags', 'Sports Clubs', 'Laser Hair Removal', 'Appliances', 'Public Services & Government', 'RV Parks', 'Bartending Schools', 'Shopping Centers', 'Bistros', 'Pub Food', 'Family Practice', 'Venezuelan', 'Web Design', 'Vitamins & Supplements', 'Themed Cafes', 'Home & Garden', 'Furniture Rental', 'Golf Lessons', 'Aircraft Repairs', 'Southern', 'Wine Tours', 'Parks', 'Lounges', 'Water Stores', 'Kids Hair Salons', 'Ice Cream & Frozen Yogurt', 'Boat Charters', 'Property Management', 'Dry Cleaning', 'Cuban', 'Car Rental', 'Brazilian Jiu-jitsu', 'Airports', 'Emergency Medicine', 'Massage Therapy', 'Honduran', 'Syrian', 'Delicatessen', 'Beer Garden', 'American (New)', 'Photographers', 'Farms', 'Virtual Reality Centers', 'Skin Care', 'Public Markets', 'Wine & Spirits', 'Unofficial Yelp Events', 'Grilling Equipment', 'Armenian', 'Halal', 'Hookah Bars', 'Nurseries & Gardening', 'Historical Tours', 'Hong Kong Style Cafe', 'Bingo Halls', 'Towing', 'Limos', 'Clowns', 'Shaved Ice', 'Korean', 'Tennis', 'Amateur Sports Teams', 'Waxing', 'Screen Printing/T-Shirt Printing', 'Currency Exchange', 'Guamanian', 'Beer', 'Water Heater Installation/Repair', 'Country Dance Halls', 'Pawn Shops', 'Vietnamese', 'Russian', 'Books', 'Divorce & Family Law', 'Jazz & Blues', 'Accessories', 'Estate Liquidation', 'Churros', 'Mediterranean', 'Used Bookstore', 'Chicken Shop', 'Real Estate', 'Lighting Fixtures & Equipment', 'Szechuan', 'Barbers', 'Customized Merchandise', 'Dinner Theater', 'Keys & Locksmiths', 'Dance Clubs', 'Auto Glass Services', 'Museums', 'Office Cleaning', 'Stadiums & Arenas', 'Photo Booth Rentals', 'Fire Protection Services', 'Art Museums', 'Walking Tours', 'Bars', 'Visitor Centers', 'Candy Stores', 'Playgrounds', 'Ethnic Grocery', 'Singaporean', 'Pita', 'Cinema', 'Vegetarian', 'Party & Event Planning', 'Horse Racing', 'Shaved Snow', 'Thrift Stores', '& Probates', 'Teppanyaki', 'Shopping', 'Nicaraguan', 'Breakfast & Brunch', 'Wills', 'South African', 'Ethiopian', 'Auto Customization', 'Iberian', 'Audio/Visual Equipment Rental', 'Sports Bars', 'Local Services', 'Ukrainian', 'Hair Extensions', 'Food Delivery Services', 'Asian Fusion', 'Massage', 'Indonesian', 'French', 'Beverage Store', 'Travel Services', 'Signmaking', 'Veterinarians', 'Event Planning & Services', 'Commercial Truck Repair', 'Hair Removal', 'Cafeteria', 'Kosher', 'Rock Climbing', 'Oil Change Stations', 'Fitness & Instruction', 'Cabaret', 'Sandwiches', 'Poutineries', 'Aquariums', 'Tacos', 'Tabletop Games', 'Tex-Mex', 'Food Tours', 'Real Estate Services', 'Libraries', 'Trusts', 'Doctors', 'Musicians', 'Arts & Crafts', 'Macarons', 'Pick Your Own Farms', 'Wedding Planning', 'Brasseries', 'Kitchen & Bath', 'Organic Stores', 'Pet Stores', 'Pool Halls', 'Leisure Centers', 'Art Classes', 'Country Clubs', 'Moroccan', 'Burgers', 'Pets', 'Golf', 'Mailbox Centers', 'Flea Markets', 'Real Estate Agents', 'Batting Cages', 'Austrian', 'University Housing', 'Gun/Rifle Ranges', 'Religious Organizations', 'Magicians', 'Chicken Wings', 'Immigration Law', 'Nightlife', 'Engraving', 'Wine Tasting Room', 'Ticket Sales', 'Comfort Food', 'Pediatricians', 'Tapas Bars', 'Metal Fabricators', 'Salvadoran', 'Pizza', 'Bankruptcy Law', 'Hotel bar', 'Cupcakes', 'Climbing', 'Heating & Air Conditioning/HVAC', 'Bridal', 'Antiques', 'Olive Oil', 'Piano Bars', 'Hotels', 'Airport Shuttles', 'Coffeeshops', 'Zoos', 'Nutritionists', 'Kids Activities', 'Tasting Classes', 'Makeup Artists', 'Sushi Bars', 'Champagne Bars', 'Vape Shops', 'Gardeners', 'Dance Studios', 'Vacation Rentals', 'Cocktail Bars', 'Izakaya', 'Transmission Repair', 'Dominican', 'Auto Insurance', 'Personal Shopping', 'Christmas Trees', 'Arcades', 'Home Decor', 'Knife Sharpening', 'Local Fish Stores', 'Hospitals', 'Health Retreats', 'Taxis', 'Advertising', 'Himalayan/Nepalese', 'Pop-Up Restaurants', 'Eyebrow Services', 'Irish Pub', 'Fruits & Veggies', 'Dance Schools', 'Egyptian', 'Community Centers', 'Soccer', 'Event Photography', 'Turkish', 'Imported Food', 'Brazilian', 'Adult Entertainment', 'Botanical Gardens', 'Basque', 'Eatertainment', 'Czech', 'Personal Chefs', 'Apartments', 'Wineries', 'Boat Dealers', 'Colombian', 'Food', 'Puerto Rican', 'Business Consulting', 'Modern European', 'Ice Delivery', 'Shanghainese', 'Cajun/Creole', 'Diners', 'Music & Video', 'Buffets', 'Smokehouse', 'Sicilian', 'Life Coach', 'DJs', 'Airsoft', 'Auto Parts & Supplies', 'Fireplace Services', 'Middle Eastern', 'Paint-Your-Own Pottery', 'Videos & Video Game Rental', 'Insurance', 'Home Cleaning', 'Professional Services', 'Sugaring', 'Festivals', 'Couriers & Delivery Services', 'Bar Crawl', 'Comedy Clubs', 'Siding', 'Meat Shops', 'Preschools', 'Door Sales/Installation', 'Coffee & Tea', 'Investing', 'Karaoke', 'British', 'Specialty Food', 'Motorcycle Repair', 'Cheese Tasting Classes', 'Conveyor Belt Sushi', \"Men's Clothing\", 'Filipino', 'Martial Arts', 'Department Stores', 'Auto Repair', 'Acupuncture', 'Physical Therapy', 'Ethnic Food', 'Hot Dogs', 'Discount Store', 'Air Duct Cleaning', 'Social Clubs', 'Occupational Therapy', 'Automotive', 'Mini Golf', 'Whiskey Bars', 'Laotian', 'Day Spas', 'Poke', 'Wholesale Stores', 'Sporting Goods', 'Hostels', 'Sports Wear', 'Venues & Event Spaces', 'Slovakian', 'Active Life', 'Indian', 'Tea Rooms', 'Portuguese', 'Mexican', 'Arabian', 'Supper Clubs', 'Bubble Tea', 'Hardware Stores', 'Coffee & Tea Supplies', 'Hair Salons', 'Peruvian', 'Bed & Breakfast', 'Trinidadian', 'Flowers & Gifts', 'Plumbing', 'Dim Sum', 'Tiki Bars', 'Reflexology', 'Recreation Centers', 'Animal Shelters', 'Party Bus Rentals', 'Food Trucks', 'Tax Services', 'Party Equipment Rentals', 'Colleges & Universities', 'Music Venues', 'Mortgage Brokers', 'Specialty Schools', 'Car Dealers', 'Cambodian', 'Pool & Hot Tub Service', 'Gift Shops', 'Sailing', 'Fashion', 'Bangladeshi', 'Latin American', 'Gastropubs', 'Eyelash Service', 'Beer Bar', 'Live/Raw Food', 'Cheesesteaks', 'Education', 'Building Supplies', 'Beauty & Spas', 'Check Cashing/Pay-day Loans', 'Wholesalers', 'German', 'Wraps', 'Roofing', 'Special Education', 'Polish', 'Pet Services', 'Gluten-Free', 'Creperies', 'Cosmetics & Beauty Supply', 'Amusement Parks', 'Pretzels', 'Windshield Installation & Repair', 'Farmers Market', 'Seafood Markets', \"Women's Clothing\", 'Security Services', 'Thai', 'International Grocery', 'Boat Repair', 'Vehicle Wraps', 'Wine Bars', 'Auto Upholstery', 'Art Schools', 'Software Development', 'Bike Repair/Maintenance', 'Health & Medical', 'Car Window Tinting', 'Auto Detailing', 'Custom Cakes', 'Salad', 'Gelato', 'Wine Tasting Classes', 'Horseback Riding', 'Tours', 'Ethical Grocery', 'Health Markets', 'Internet Cafes', 'Indoor Playcentre', 'Pool & Billiards', 'Party Supplies', 'Noodles', 'Pilates', 'Waffles', 'African', 'Local Flavor', 'Cantonese', 'Clothing Rental', 'Parking', 'Irish', 'Pubs', 'Aquarium Services', 'Truck Rental', 'Fondue', 'Gas Stations', 'Masonry/Concrete', 'Fast Food', 'Tapas/Small Plates', 'Herbs & Spices', 'Skating Rinks', 'Head Shops', 'Cheese Shops', 'Brewpubs', 'CSA', 'Trophy Shops', 'Churches', 'Breweries', 'Boating', 'Psychics', 'Nail Technicians', 'Personal Assistants', 'Bus Tours', 'Supernatural Readings', 'Trainers', 'Popcorn Shops', 'Hot Tub & Pool', 'Landscaping', 'Pharmacy', 'Weight Loss Centers', 'Nail Salons', 'Tax Law', 'Distilleries', 'Bike Rentals', 'Casinos', 'Laundry Services', 'Soul Food', 'Trampoline Parks', 'Outdoor Furniture Stores', 'Airport Terminals', 'Cultural Center', 'Hotels & Travel', 'Soup', 'Hobby Shops', 'Falafel', 'Delis', 'Financial Services', 'Bookstores', 'Lakes', 'Donuts', 'American (Traditional)', 'Steakhouses', 'Kebab', 'Guest Houses', 'Airport Lounges', 'Counseling & Mental Health', 'Laser Tag', 'Golf Equipment', 'Meditation Centers', 'Tai Chi', 'Graphic Design', 'Rotisserie Chicken', 'Contractors', 'Tuscan', 'Belgian', 'Cardiologists', 'Landmarks & Historical Buildings', 'Pasta Shops', 'Food Stands', 'Pet Adoption', 'Shoe Stores', 'New Mexican Cuisine', 'Cigar Bars', 'Resorts', 'Desserts', 'Tattoo', 'Appliances & Repair', 'Acai Bowls', 'Dentists', 'Lawyers', 'Shared Office Spaces', 'Empanadas', 'Ramen', 'Malaysian', 'Interior Design', 'Body Shops', 'Marketing', 'Performing Arts', 'Wedding Chapels', 'Dive Bars', 'Personal Injury Law', 'Burmese', 'Spray Tanning', 'RV Repair', 'Caribbean', 'Greek', 'Bikes', 'Parenting Classes', 'Restaurant Supplies', 'Home Services', 'Hiking', 'Spanish', 'Laundromat', 'Caterers', 'Golf Equipment Shops', 'Chocolatiers & Shops'}\n"
     ]
    }
   ],
   "source": [
    "# Initialize empty set\n",
    "unique_terms = set()\n",
    "\n",
    "# Regex to capture all category labels\n",
    "p = re.compile('\\,\\s')\n",
    "\n",
    "counter = 0 \n",
    "# Iterate through every row of categories\n",
    "for x in restaurant_buisnesses['categories']: \n",
    "    if x:\n",
    "        # Convert all words to lowercase \n",
    "        unique_terms.update(p.split(x))\n",
    "\n",
    "# Check\n",
    "print(\"Total number of unique labels: {}\".format(len(unique_terms)))\n",
    "print(unique_terms)"
   ]
  },
  {
   "cell_type": "code",
   "execution_count": null,
   "metadata": {
    "colab": {
     "base_uri": "https://localhost:8080/",
     "height": 111
    },
    "colab_type": "code",
    "id": "kvT4yM1gG6CE",
    "outputId": "d3ab5f55-06da-42be-ce3c-d3257bb37082"
   },
   "outputs": [
    {
     "data": {
      "text/html": [
       "<div>\n",
       "<style scoped>\n",
       "    .dataframe tbody tr th:only-of-type {\n",
       "        vertical-align: middle;\n",
       "    }\n",
       "\n",
       "    .dataframe tbody tr th {\n",
       "        vertical-align: top;\n",
       "    }\n",
       "\n",
       "    .dataframe thead th {\n",
       "        text-align: right;\n",
       "    }\n",
       "</style>\n",
       "<table border=\"1\" class=\"dataframe\">\n",
       "  <thead>\n",
       "    <tr style=\"text-align: right;\">\n",
       "      <th></th>\n",
       "      <th>categories</th>\n",
       "      <th>name</th>\n",
       "    </tr>\n",
       "  </thead>\n",
       "  <tbody>\n",
       "    <tr>\n",
       "      <th>79645</th>\n",
       "      <td>Real Estate, Hot Dogs, Property Management, Re...</td>\n",
       "      <td>MXP Real Estate Investment</td>\n",
       "    </tr>\n",
       "    <tr>\n",
       "      <th>138665</th>\n",
       "      <td>Real Estate, Real Estate Services, Real Estate...</td>\n",
       "      <td>Canam Realty Group</td>\n",
       "    </tr>\n",
       "  </tbody>\n",
       "</table>\n",
       "</div>"
      ],
      "text/plain": [
       "                                               categories  \\\n",
       "79645   Real Estate, Hot Dogs, Property Management, Re...   \n",
       "138665  Real Estate, Real Estate Services, Real Estate...   \n",
       "\n",
       "                              name  \n",
       "79645   MXP Real Estate Investment  \n",
       "138665          Canam Realty Group  "
      ]
     },
     "execution_count": 40,
     "metadata": {
      "tags": []
     },
     "output_type": "execute_result"
    }
   ],
   "source": [
    "# Manually filter out irrelevant tags \n",
    "# For example, the following buisness contains the word 'Food' in their category\n",
    "# However, it is a nutrition store and not a place people usually go to for food or drinks, \n",
    "restaurant_buisnesses[restaurant_buisnesses['categories'].str.contains('Property Management')==True][['categories', 'name']]"
   ]
  },
  {
   "cell_type": "code",
   "execution_count": null,
   "metadata": {
    "colab": {
     "base_uri": "https://localhost:8080/",
     "height": 269
    },
    "colab_type": "code",
    "id": "AuUHen-jSptD",
    "outputId": "66bf2530-9c21-4bc3-c8e5-7191a7dbea6f"
   },
   "outputs": [
    {
     "name": "stdout",
     "output_type": "stream",
     "text": [
      "<class 'pandas.core.frame.DataFrame'>\n",
      "Int64Index: 24137 entries, 8 to 188577\n",
      "Data columns (total 9 columns):\n",
      "attributes      23733 non-null object\n",
      "business_id     24137 non-null object\n",
      "categories      24137 non-null object\n",
      "city            24137 non-null object\n",
      "is_open         24137 non-null int64\n",
      "name            24137 non-null object\n",
      "review_count    24137 non-null int64\n",
      "stars           24137 non-null float64\n",
      "state           24137 non-null object\n",
      "dtypes: float64(1), int64(2), object(6)\n",
      "memory usage: 25.6 MB\n"
     ]
    }
   ],
   "source": [
    "restaurant_buisnesses.info(memory_usage='deep')"
   ]
  },
  {
   "cell_type": "code",
   "execution_count": null,
   "metadata": {
    "colab": {},
    "colab_type": "code",
    "id": "_FBLGZb4TD_4"
   },
   "outputs": [],
   "source": [
    "resturant_ID = restaurant_buisnesses['business_id']"
   ]
  },
  {
   "cell_type": "code",
   "execution_count": null,
   "metadata": {
    "colab": {},
    "colab_type": "code",
    "id": "LLMue7olS5zn"
   },
   "outputs": [],
   "source": [
    "resturant_ID.to_csv('gdrive/My Drive/SI_608_Group_Project/yelp_dataset/restaurant_ID_v3.csv', index=False)"
   ]
  },
  {
   "cell_type": "code",
   "execution_count": 3,
   "metadata": {
    "colab": {
     "base_uri": "https://localhost:8080/",
     "height": 163
    },
    "colab_type": "code",
    "id": "6UFeg_99Zz5p",
    "outputId": "9bc35779-6050-47da-f241-b5aee285cc22"
   },
   "outputs": [],
   "source": [
    "restaurant_reviews['categories'].head(10)"
   ]
  },
  {
   "cell_type": "markdown",
   "metadata": {
    "colab_type": "text",
    "id": "i3G0ay_28PhJ"
   },
   "source": [
    "# Adharsh Code Section"
   ]
  },
  {
   "cell_type": "code",
   "execution_count": 4,
   "metadata": {
    "colab": {
     "base_uri": "https://localhost:8080/",
     "height": 197
    },
    "colab_type": "code",
    "id": "cRUVkbAg9Z8t",
    "outputId": "5a7fbc45-38c3-452b-adba-496f1a6c9988"
   },
   "outputs": [],
   "source": [
    "##Loading in the reviews_dataset\n",
    "data=[]\n",
    "review_data=pd.read_json('gdrive/My Drive/yelp_dataset/yelp_academic_dataset_review.json',lines=True,chunksize=100000)\n",
    "\n"
   ]
  },
  {
   "cell_type": "code",
   "execution_count": null,
   "metadata": {
    "colab": {
     "base_uri": "https://localhost:8080/",
     "height": 34
    },
    "colab_type": "code",
    "id": "keZjHSNZ1hPF",
    "outputId": "57f11453-7241-4849-945d-b7e96544ab8f"
   },
   "outputs": [
    {
     "data": {
      "text/plain": [
       "<pandas.io.json.json.JsonReader at 0x7f7e65364d68>"
      ]
     },
     "execution_count": 32,
     "metadata": {
      "tags": []
     },
     "output_type": "execute_result"
    }
   ],
   "source": [
    "review_data"
   ]
  },
  {
   "cell_type": "code",
   "execution_count": null,
   "metadata": {
    "colab": {},
    "colab_type": "code",
    "id": "kiL1XYmcIcU1"
   },
   "outputs": [],
   "source": [
    "for i in review_data:\n",
    "  data.append(i[['user_id','stars','business_id']])\n",
    "  \n"
   ]
  },
  {
   "cell_type": "code",
   "execution_count": null,
   "metadata": {
    "colab": {},
    "colab_type": "code",
    "id": "SgBXG4xCNfND"
   },
   "outputs": [],
   "source": [
    "review_dataset=pd.concat(data)"
   ]
  },
  {
   "cell_type": "code",
   "execution_count": null,
   "metadata": {
    "colab": {},
    "colab_type": "code",
    "id": "QYfq55v3GmrB"
   },
   "outputs": [],
   "source": [
    "#Loading in the business id of the restaurant\n",
    "restaurantid=pd.read_csv('gdrive/My Drive/SI_608_Group_Project/yelp_dataset/restaurant_ID_v2.csv',header=None)\n"
   ]
  },
  {
   "cell_type": "code",
   "execution_count": null,
   "metadata": {
    "colab": {
     "base_uri": "https://localhost:8080/",
     "height": 34
    },
    "colab_type": "code",
    "id": "QoVS9yYA4hcy",
    "outputId": "9881da38-5194-4dc4-bcc9-3956b5e70710"
   },
   "outputs": [
    {
     "data": {
      "text/plain": [
       "Int64Index([0], dtype='int64')"
      ]
     },
     "execution_count": 37,
     "metadata": {
      "tags": []
     },
     "output_type": "execute_result"
    }
   ],
   "source": [
    "restaurantid.columns"
   ]
  },
  {
   "cell_type": "code",
   "execution_count": null,
   "metadata": {
    "colab": {},
    "colab_type": "code",
    "id": "FhQFo5g5YWwq"
   },
   "outputs": [],
   "source": [
    "# restaurantid['Apn5Q_b6Nz61Tq4XzPdf9A'].head(5)"
   ]
  },
  {
   "cell_type": "code",
   "execution_count": null,
   "metadata": {
    "colab": {},
    "colab_type": "code",
    "id": "dKufHipGXu6p"
   },
   "outputs": [],
   "source": [
    "review_dataset=review_dataset[review_dataset['business_id'].isin(restaurantid[0])]"
   ]
  },
  {
   "cell_type": "code",
   "execution_count": null,
   "metadata": {
    "colab": {},
    "colab_type": "code",
    "id": "J_lYNNMT7Fn7"
   },
   "outputs": [],
   "source": [
    "review_dataset.to_csv('gdrive/My Drive/SI_608_Group_Project/yelp_dataset/reviews.csv')"
   ]
  },
  {
   "cell_type": "code",
   "execution_count": null,
   "metadata": {
    "colab": {
     "base_uri": "https://localhost:8080/",
     "height": 34
    },
    "colab_type": "code",
    "id": "G-YO9hlSe6HG",
    "outputId": "0db52471-f67f-4e7f-9673-6cdc782d1ca5"
   },
   "outputs": [
    {
     "data": {
      "text/plain": [
       "(2766358, 3)"
      ]
     },
     "execution_count": 43,
     "metadata": {
      "tags": []
     },
     "output_type": "execute_result"
    }
   ],
   "source": [
    "review_dataset.shape"
   ]
  },
  {
   "cell_type": "code",
   "execution_count": null,
   "metadata": {
    "colab": {
     "base_uri": "https://localhost:8080/",
     "height": 34
    },
    "colab_type": "code",
    "id": "UX1vE3AL4tp0",
    "outputId": "607084af-9984-49ca-daa8-ef62dfc98505"
   },
   "outputs": [
    {
     "data": {
      "text/plain": [
       "32164"
      ]
     },
     "execution_count": 44,
     "metadata": {
      "tags": []
     },
     "output_type": "execute_result"
    }
   ],
   "source": [
    "len((review_dataset['business_id'].unique()))"
   ]
  },
  {
   "cell_type": "code",
   "execution_count": null,
   "metadata": {
    "colab": {},
    "colab_type": "code",
    "id": "AGkPIFgD31KF"
   },
   "outputs": [],
   "source": [
    "#Just interesting facts is that there are people who give more reviews than excepted.\n",
    "plot_data = review_dataset.groupby('business_id')['business_id'].count().sort_values(ascending=False)"
   ]
  },
  {
   "cell_type": "code",
   "execution_count": null,
   "metadata": {
    "colab": {
     "base_uri": "https://localhost:8080/",
     "height": 592
    },
    "colab_type": "code",
    "id": "7fr2Gt8SfS-t",
    "outputId": "5fde2973-1ed3-4018-e8e4-6b35027498a8"
   },
   "outputs": [
    {
     "data": {
      "image/png": "[encoded data removed]",
      "text/plain": [
       "<matplotlib.figure.Figure at 0x7f7e65287be0>"
      ]
     },
     "metadata": {
      "tags": []
     },
     "output_type": "display_data"
    }
   ],
   "source": [
    "from matplotlib import pyplot as plt\n",
    "%matplotlib inline\n",
    "import seaborn as sns\n",
    "\n",
    "# Set the style of seaborn plot\n",
    "sns.set(style='darkgrid', palette='husl', font_scale=1.5)\n",
    "\n",
    "# Create matplotlib Figure and Axes object\n",
    "f, ax = plt.subplots(figsize=(15,9))\n",
    "\n",
    "# Create the plot\n",
    "g = sns.distplot(plot_data)\n",
    "\n",
    "# Fine Tuning font size\n",
    "g.set_xlabel('Number of reviews', fontsize=20)\n",
    "# g.set_ylabel('Number of Nodes', fontsize=20)\n",
    "g.axes.set_title('Distribution of reviews per buisness', fontsize=30)\n",
    "\n",
    "# Display\n",
    "plt.show(g)\n"
   ]
  },
  {
   "cell_type": "code",
   "execution_count": null,
   "metadata": {
    "colab": {
     "base_uri": "https://localhost:8080/",
     "height": 34
    },
    "colab_type": "code",
    "id": "vlYRftAlieTg",
    "outputId": "73be24b1-7a15-46dc-85d3-9a636fce69cd"
   },
   "outputs": [
    {
     "data": {
      "text/plain": [
       "[7968, 7861, 6447, 5382, 4981]"
      ]
     },
     "execution_count": 74,
     "metadata": {
      "tags": []
     },
     "output_type": "execute_result"
    }
   ],
   "source": [
    "buisnesses_greater_than_10 = [x for x in plot_data if x >= 5]\n",
    "buisnesses_greater_than_10[:5]"
   ]
  },
  {
   "cell_type": "code",
   "execution_count": null,
   "metadata": {
    "colab": {
     "base_uri": "https://localhost:8080/",
     "height": 34
    },
    "colab_type": "code",
    "id": "ItdEfqLyjWCp",
    "outputId": "621bb1bf-9be4-4383-cfdb-55fecb431211"
   },
   "outputs": [
    {
     "data": {
      "text/plain": [
       "28731"
      ]
     },
     "execution_count": 75,
     "metadata": {
      "tags": []
     },
     "output_type": "execute_result"
    }
   ],
   "source": [
    "# Number of valid businesses\n",
    "len(buisnesses_greater_than_10)"
   ]
  },
  {
   "cell_type": "code",
   "execution_count": null,
   "metadata": {
    "colab": {
     "base_uri": "https://localhost:8080/",
     "height": 592
    },
    "colab_type": "code",
    "id": "9V3JYlICi8wG",
    "outputId": "d67c55cd-b953-48e2-8901-ac2eadf602ff"
   },
   "outputs": [
    {
     "data": {
      "image/png": "[encoded data removed]",
      "text/plain": [
       "<matplotlib.figure.Figure at 0x7f7e64ce48d0>"
      ]
     },
     "metadata": {
      "tags": []
     },
     "output_type": "display_data"
    }
   ],
   "source": [
    "# Set the style of seaborn plot\n",
    "sns.set(style='darkgrid', palette='husl', font_scale=1.5)\n",
    "\n",
    "# Create matplotlib Figure and Axes object\n",
    "f, ax = plt.subplots(figsize=(15,9))\n",
    "\n",
    "# Create the plot\n",
    "g = sns.distplot(buisnesses_greater_than_10)\n",
    "\n",
    "# Fine Tuning font size\n",
    "g.set_xlabel('Number of reviews', fontsize=20)\n",
    "# g.set_ylabel('Number of Nodes', fontsize=20)\n",
    "g.axes.set_title('Distribution of reviews per buisness', fontsize=30)\n",
    "\n",
    "# Display\n",
    "plt.show(g)"
   ]
  },
  {
   "cell_type": "code",
   "execution_count": null,
   "metadata": {
    "colab": {},
    "colab_type": "code",
    "id": "ur0A3VM6iXO1"
   },
   "outputs": [],
   "source": []
  },
  {
   "cell_type": "code",
   "execution_count": null,
   "metadata": {
    "colab": {
     "base_uri": "https://localhost:8080/",
     "height": 1969
    },
    "colab_type": "code",
    "id": "iT1-vd_77shu",
    "outputId": "771bd28f-de84-49a7-b2ce-d10cc17c72b0"
   },
   "outputs": [
    {
     "data": {
      "text/html": [
       "<div>\n",
       "<style scoped>\n",
       "    .dataframe tbody tr th:only-of-type {\n",
       "        vertical-align: middle;\n",
       "    }\n",
       "\n",
       "    .dataframe tbody tr th {\n",
       "        vertical-align: top;\n",
       "    }\n",
       "\n",
       "    .dataframe thead th {\n",
       "        text-align: right;\n",
       "    }\n",
       "</style>\n",
       "<table border=\"1\" class=\"dataframe\">\n",
       "  <thead>\n",
       "    <tr style=\"text-align: right;\">\n",
       "      <th></th>\n",
       "      <th>user_id</th>\n",
       "      <th>stars</th>\n",
       "      <th>business_id</th>\n",
       "    </tr>\n",
       "  </thead>\n",
       "  <tbody>\n",
       "    <tr>\n",
       "      <th>5385644</th>\n",
       "      <td>CxDOIDnH8gp9KXzpBHJYXw</td>\n",
       "      <td>3</td>\n",
       "      <td>txAKid34IUd9spo6MLF_Sw</td>\n",
       "    </tr>\n",
       "    <tr>\n",
       "      <th>5385645</th>\n",
       "      <td>CxDOIDnH8gp9KXzpBHJYXw</td>\n",
       "      <td>3</td>\n",
       "      <td>CfxVkwEJk1NAqgqMSesLzA</td>\n",
       "    </tr>\n",
       "    <tr>\n",
       "      <th>5385647</th>\n",
       "      <td>CxDOIDnH8gp9KXzpBHJYXw</td>\n",
       "      <td>3</td>\n",
       "      <td>OBG1j517k7aZRNC1HAL0TA</td>\n",
       "    </tr>\n",
       "    <tr>\n",
       "      <th>5385648</th>\n",
       "      <td>CxDOIDnH8gp9KXzpBHJYXw</td>\n",
       "      <td>3</td>\n",
       "      <td>-M9S1wlZTvv6T9EOo5X2Yw</td>\n",
       "    </tr>\n",
       "    <tr>\n",
       "      <th>5385649</th>\n",
       "      <td>CxDOIDnH8gp9KXzpBHJYXw</td>\n",
       "      <td>4</td>\n",
       "      <td>LnsAgGlvIPmc9eV_cMdU5w</td>\n",
       "    </tr>\n",
       "    <tr>\n",
       "      <th>5385651</th>\n",
       "      <td>CxDOIDnH8gp9KXzpBHJYXw</td>\n",
       "      <td>3</td>\n",
       "      <td>RC_Eshxv0mK68g5bc80kGA</td>\n",
       "    </tr>\n",
       "    <tr>\n",
       "      <th>5385653</th>\n",
       "      <td>CxDOIDnH8gp9KXzpBHJYXw</td>\n",
       "      <td>4</td>\n",
       "      <td>G1Ce_QBHwT_R8Fc2-ARrwQ</td>\n",
       "    </tr>\n",
       "    <tr>\n",
       "      <th>5385655</th>\n",
       "      <td>CxDOIDnH8gp9KXzpBHJYXw</td>\n",
       "      <td>4</td>\n",
       "      <td>39nPYUxkRn8SQY29C322UQ</td>\n",
       "    </tr>\n",
       "    <tr>\n",
       "      <th>5385656</th>\n",
       "      <td>CxDOIDnH8gp9KXzpBHJYXw</td>\n",
       "      <td>4</td>\n",
       "      <td>9oyYmCv9HuVRa1lZUE86sw</td>\n",
       "    </tr>\n",
       "    <tr>\n",
       "      <th>5385657</th>\n",
       "      <td>CxDOIDnH8gp9KXzpBHJYXw</td>\n",
       "      <td>2</td>\n",
       "      <td>oTaU3tZxtKzCwrPcx6SpoQ</td>\n",
       "    </tr>\n",
       "    <tr>\n",
       "      <th>5385659</th>\n",
       "      <td>CxDOIDnH8gp9KXzpBHJYXw</td>\n",
       "      <td>3</td>\n",
       "      <td>JlIK-c-pINHz4WWT2xYPEA</td>\n",
       "    </tr>\n",
       "    <tr>\n",
       "      <th>5385660</th>\n",
       "      <td>CxDOIDnH8gp9KXzpBHJYXw</td>\n",
       "      <td>3</td>\n",
       "      <td>bYGn37k0KgleABKMWgjnMw</td>\n",
       "    </tr>\n",
       "    <tr>\n",
       "      <th>5385661</th>\n",
       "      <td>CxDOIDnH8gp9KXzpBHJYXw</td>\n",
       "      <td>4</td>\n",
       "      <td>wSojc-y-d7MWiGWdy8deCg</td>\n",
       "    </tr>\n",
       "    <tr>\n",
       "      <th>5385662</th>\n",
       "      <td>CxDOIDnH8gp9KXzpBHJYXw</td>\n",
       "      <td>3</td>\n",
       "      <td>WwGL_VJg2A3uLbqbpzkwjQ</td>\n",
       "    </tr>\n",
       "    <tr>\n",
       "      <th>5385663</th>\n",
       "      <td>CxDOIDnH8gp9KXzpBHJYXw</td>\n",
       "      <td>3</td>\n",
       "      <td>phEpLAtmM4_8u1M7uGU43A</td>\n",
       "    </tr>\n",
       "    <tr>\n",
       "      <th>5385664</th>\n",
       "      <td>CxDOIDnH8gp9KXzpBHJYXw</td>\n",
       "      <td>3</td>\n",
       "      <td>jIEZmUZUjmTC0kn09LtJEg</td>\n",
       "    </tr>\n",
       "    <tr>\n",
       "      <th>5385665</th>\n",
       "      <td>CxDOIDnH8gp9KXzpBHJYXw</td>\n",
       "      <td>4</td>\n",
       "      <td>AmSW0I3nxtQ4tdkhh0y7CA</td>\n",
       "    </tr>\n",
       "    <tr>\n",
       "      <th>5385666</th>\n",
       "      <td>CxDOIDnH8gp9KXzpBHJYXw</td>\n",
       "      <td>3</td>\n",
       "      <td>v4y-YUuejiEdQNWD3QTJDw</td>\n",
       "    </tr>\n",
       "    <tr>\n",
       "      <th>5385668</th>\n",
       "      <td>CxDOIDnH8gp9KXzpBHJYXw</td>\n",
       "      <td>3</td>\n",
       "      <td>ZG-2OClQBJSwjQZlV93W6Q</td>\n",
       "    </tr>\n",
       "    <tr>\n",
       "      <th>5385670</th>\n",
       "      <td>CxDOIDnH8gp9KXzpBHJYXw</td>\n",
       "      <td>4</td>\n",
       "      <td>x3JHj5h33ouzw_Ynj-utJg</td>\n",
       "    </tr>\n",
       "    <tr>\n",
       "      <th>5385673</th>\n",
       "      <td>CxDOIDnH8gp9KXzpBHJYXw</td>\n",
       "      <td>3</td>\n",
       "      <td>cdA3MPcoVPYLrZzhR0_rmQ</td>\n",
       "    </tr>\n",
       "    <tr>\n",
       "      <th>5385674</th>\n",
       "      <td>CxDOIDnH8gp9KXzpBHJYXw</td>\n",
       "      <td>3</td>\n",
       "      <td>nTMZSvPMSIofI5RLARFIaA</td>\n",
       "    </tr>\n",
       "    <tr>\n",
       "      <th>5385676</th>\n",
       "      <td>CxDOIDnH8gp9KXzpBHJYXw</td>\n",
       "      <td>3</td>\n",
       "      <td>8EWTMelykqAK81NlZUFsqw</td>\n",
       "    </tr>\n",
       "    <tr>\n",
       "      <th>5385677</th>\n",
       "      <td>CxDOIDnH8gp9KXzpBHJYXw</td>\n",
       "      <td>4</td>\n",
       "      <td>XLc5WIzafCocqsycQhvEPw</td>\n",
       "    </tr>\n",
       "    <tr>\n",
       "      <th>5385678</th>\n",
       "      <td>CxDOIDnH8gp9KXzpBHJYXw</td>\n",
       "      <td>4</td>\n",
       "      <td>1_rqZz1K5Uoq2RvZlINfgA</td>\n",
       "    </tr>\n",
       "    <tr>\n",
       "      <th>5385679</th>\n",
       "      <td>CxDOIDnH8gp9KXzpBHJYXw</td>\n",
       "      <td>2</td>\n",
       "      <td>-AVRReI-nfsa0lKlehEojw</td>\n",
       "    </tr>\n",
       "    <tr>\n",
       "      <th>5385680</th>\n",
       "      <td>CxDOIDnH8gp9KXzpBHJYXw</td>\n",
       "      <td>4</td>\n",
       "      <td>sXg2NCfiCqK_X_4R5NK_jQ</td>\n",
       "    </tr>\n",
       "    <tr>\n",
       "      <th>5385681</th>\n",
       "      <td>CxDOIDnH8gp9KXzpBHJYXw</td>\n",
       "      <td>3</td>\n",
       "      <td>0F42T07SdUQY24pidn9QwQ</td>\n",
       "    </tr>\n",
       "    <tr>\n",
       "      <th>5385682</th>\n",
       "      <td>CxDOIDnH8gp9KXzpBHJYXw</td>\n",
       "      <td>3</td>\n",
       "      <td>P1mwP32yzgxi4Ya2EjevHw</td>\n",
       "    </tr>\n",
       "    <tr>\n",
       "      <th>5385683</th>\n",
       "      <td>CxDOIDnH8gp9KXzpBHJYXw</td>\n",
       "      <td>2</td>\n",
       "      <td>N7j9Gajul249zR957N2d0w</td>\n",
       "    </tr>\n",
       "    <tr>\n",
       "      <th>...</th>\n",
       "      <td>...</td>\n",
       "      <td>...</td>\n",
       "      <td>...</td>\n",
       "    </tr>\n",
       "    <tr>\n",
       "      <th>5391374</th>\n",
       "      <td>CxDOIDnH8gp9KXzpBHJYXw</td>\n",
       "      <td>4</td>\n",
       "      <td>yynw0xuha4DgkjDB_ll4Gw</td>\n",
       "    </tr>\n",
       "    <tr>\n",
       "      <th>5391375</th>\n",
       "      <td>CxDOIDnH8gp9KXzpBHJYXw</td>\n",
       "      <td>3</td>\n",
       "      <td>SpkwuDQChxHlNwfnx7OWUA</td>\n",
       "    </tr>\n",
       "    <tr>\n",
       "      <th>5391376</th>\n",
       "      <td>CxDOIDnH8gp9KXzpBHJYXw</td>\n",
       "      <td>2</td>\n",
       "      <td>IZzJaZWvw-IUrOLkP09JRQ</td>\n",
       "    </tr>\n",
       "    <tr>\n",
       "      <th>5391378</th>\n",
       "      <td>CxDOIDnH8gp9KXzpBHJYXw</td>\n",
       "      <td>3</td>\n",
       "      <td>6c0lS8VP4EXyMefnJgvphg</td>\n",
       "    </tr>\n",
       "    <tr>\n",
       "      <th>5391379</th>\n",
       "      <td>CxDOIDnH8gp9KXzpBHJYXw</td>\n",
       "      <td>3</td>\n",
       "      <td>frk_oIgPWrnZYiQ6zok9Lg</td>\n",
       "    </tr>\n",
       "    <tr>\n",
       "      <th>5391380</th>\n",
       "      <td>CxDOIDnH8gp9KXzpBHJYXw</td>\n",
       "      <td>3</td>\n",
       "      <td>ghaj1MZzPW1qXYCZWfoTTw</td>\n",
       "    </tr>\n",
       "    <tr>\n",
       "      <th>5391385</th>\n",
       "      <td>CxDOIDnH8gp9KXzpBHJYXw</td>\n",
       "      <td>3</td>\n",
       "      <td>fnAmpK3fJXJEWIprksyGXw</td>\n",
       "    </tr>\n",
       "    <tr>\n",
       "      <th>5391387</th>\n",
       "      <td>CxDOIDnH8gp9KXzpBHJYXw</td>\n",
       "      <td>4</td>\n",
       "      <td>iGEvDk6hsizigmXhDKs2Vg</td>\n",
       "    </tr>\n",
       "    <tr>\n",
       "      <th>5391389</th>\n",
       "      <td>CxDOIDnH8gp9KXzpBHJYXw</td>\n",
       "      <td>4</td>\n",
       "      <td>eetlD3KXlb8cTwgrQVfquw</td>\n",
       "    </tr>\n",
       "    <tr>\n",
       "      <th>5391390</th>\n",
       "      <td>CxDOIDnH8gp9KXzpBHJYXw</td>\n",
       "      <td>4</td>\n",
       "      <td>oPvYovnl06fy5W0e51zjMQ</td>\n",
       "    </tr>\n",
       "    <tr>\n",
       "      <th>5391392</th>\n",
       "      <td>CxDOIDnH8gp9KXzpBHJYXw</td>\n",
       "      <td>3</td>\n",
       "      <td>ik9VvawL-BeAqlxTI1leew</td>\n",
       "    </tr>\n",
       "    <tr>\n",
       "      <th>5391393</th>\n",
       "      <td>CxDOIDnH8gp9KXzpBHJYXw</td>\n",
       "      <td>3</td>\n",
       "      <td>7Ry-hEfZwaDXe8u-n6v15A</td>\n",
       "    </tr>\n",
       "    <tr>\n",
       "      <th>5391396</th>\n",
       "      <td>CxDOIDnH8gp9KXzpBHJYXw</td>\n",
       "      <td>3</td>\n",
       "      <td>T3P_qFArgkIx5BT3FKzcJw</td>\n",
       "    </tr>\n",
       "    <tr>\n",
       "      <th>5391399</th>\n",
       "      <td>CxDOIDnH8gp9KXzpBHJYXw</td>\n",
       "      <td>2</td>\n",
       "      <td>laM_PIoHQ9LzCxXnl6C87w</td>\n",
       "    </tr>\n",
       "    <tr>\n",
       "      <th>5391400</th>\n",
       "      <td>CxDOIDnH8gp9KXzpBHJYXw</td>\n",
       "      <td>4</td>\n",
       "      <td>TKDfJPM2GkxmgS8LfyYhng</td>\n",
       "    </tr>\n",
       "    <tr>\n",
       "      <th>5391402</th>\n",
       "      <td>CxDOIDnH8gp9KXzpBHJYXw</td>\n",
       "      <td>4</td>\n",
       "      <td>vTKCl3v71Dw8yW7-Iblj3Q</td>\n",
       "    </tr>\n",
       "    <tr>\n",
       "      <th>5391405</th>\n",
       "      <td>CxDOIDnH8gp9KXzpBHJYXw</td>\n",
       "      <td>4</td>\n",
       "      <td>iwxV8t1-y9h1XsmSEqSf3w</td>\n",
       "    </tr>\n",
       "    <tr>\n",
       "      <th>5391407</th>\n",
       "      <td>CxDOIDnH8gp9KXzpBHJYXw</td>\n",
       "      <td>3</td>\n",
       "      <td>cPXasVLtq_1gmuSg65TUfQ</td>\n",
       "    </tr>\n",
       "    <tr>\n",
       "      <th>5391408</th>\n",
       "      <td>CxDOIDnH8gp9KXzpBHJYXw</td>\n",
       "      <td>4</td>\n",
       "      <td>IRzY7yoBqoHaZNNo8WiWQQ</td>\n",
       "    </tr>\n",
       "    <tr>\n",
       "      <th>5391409</th>\n",
       "      <td>CxDOIDnH8gp9KXzpBHJYXw</td>\n",
       "      <td>3</td>\n",
       "      <td>1lReBAd4iLe0rBLKiurw7Q</td>\n",
       "    </tr>\n",
       "    <tr>\n",
       "      <th>5391410</th>\n",
       "      <td>CxDOIDnH8gp9KXzpBHJYXw</td>\n",
       "      <td>5</td>\n",
       "      <td>sK_SN5q7F-VkZUEPxN_MFg</td>\n",
       "    </tr>\n",
       "    <tr>\n",
       "      <th>5391589</th>\n",
       "      <td>CxDOIDnH8gp9KXzpBHJYXw</td>\n",
       "      <td>3</td>\n",
       "      <td>mzREMIknfmagJugibXrCsQ</td>\n",
       "    </tr>\n",
       "    <tr>\n",
       "      <th>5391590</th>\n",
       "      <td>CxDOIDnH8gp9KXzpBHJYXw</td>\n",
       "      <td>2</td>\n",
       "      <td>sHIJktNJTTJPOGhzXMI2Fg</td>\n",
       "    </tr>\n",
       "    <tr>\n",
       "      <th>5391592</th>\n",
       "      <td>CxDOIDnH8gp9KXzpBHJYXw</td>\n",
       "      <td>3</td>\n",
       "      <td>0PQlEe92HDI8zeYlYq-Khw</td>\n",
       "    </tr>\n",
       "    <tr>\n",
       "      <th>5391596</th>\n",
       "      <td>CxDOIDnH8gp9KXzpBHJYXw</td>\n",
       "      <td>3</td>\n",
       "      <td>h51mRPqkuFVk8YN2nY4Img</td>\n",
       "    </tr>\n",
       "    <tr>\n",
       "      <th>5391597</th>\n",
       "      <td>CxDOIDnH8gp9KXzpBHJYXw</td>\n",
       "      <td>2</td>\n",
       "      <td>FaPKttRPZQht8XSiAfIpSA</td>\n",
       "    </tr>\n",
       "    <tr>\n",
       "      <th>5391599</th>\n",
       "      <td>CxDOIDnH8gp9KXzpBHJYXw</td>\n",
       "      <td>3</td>\n",
       "      <td>k-6pef2sjWEyyBqgTAQcRA</td>\n",
       "    </tr>\n",
       "    <tr>\n",
       "      <th>5391600</th>\n",
       "      <td>CxDOIDnH8gp9KXzpBHJYXw</td>\n",
       "      <td>4</td>\n",
       "      <td>6Z2feki4zwheuZhPlPYFQA</td>\n",
       "    </tr>\n",
       "    <tr>\n",
       "      <th>5391601</th>\n",
       "      <td>CxDOIDnH8gp9KXzpBHJYXw</td>\n",
       "      <td>4</td>\n",
       "      <td>oZyaFqZYf0eqKRiP-aY81Q</td>\n",
       "    </tr>\n",
       "    <tr>\n",
       "      <th>5391602</th>\n",
       "      <td>CxDOIDnH8gp9KXzpBHJYXw</td>\n",
       "      <td>3</td>\n",
       "      <td>7hUp4XxmUCGqvPFAM8IJww</td>\n",
       "    </tr>\n",
       "  </tbody>\n",
       "</table>\n",
       "<p>2137 rows × 3 columns</p>\n",
       "</div>"
      ],
      "text/plain": [
       "                        user_id  stars             business_id\n",
       "5385644  CxDOIDnH8gp9KXzpBHJYXw      3  txAKid34IUd9spo6MLF_Sw\n",
       "5385645  CxDOIDnH8gp9KXzpBHJYXw      3  CfxVkwEJk1NAqgqMSesLzA\n",
       "5385647  CxDOIDnH8gp9KXzpBHJYXw      3  OBG1j517k7aZRNC1HAL0TA\n",
       "5385648  CxDOIDnH8gp9KXzpBHJYXw      3  -M9S1wlZTvv6T9EOo5X2Yw\n",
       "5385649  CxDOIDnH8gp9KXzpBHJYXw      4  LnsAgGlvIPmc9eV_cMdU5w\n",
       "5385651  CxDOIDnH8gp9KXzpBHJYXw      3  RC_Eshxv0mK68g5bc80kGA\n",
       "5385653  CxDOIDnH8gp9KXzpBHJYXw      4  G1Ce_QBHwT_R8Fc2-ARrwQ\n",
       "5385655  CxDOIDnH8gp9KXzpBHJYXw      4  39nPYUxkRn8SQY29C322UQ\n",
       "5385656  CxDOIDnH8gp9KXzpBHJYXw      4  9oyYmCv9HuVRa1lZUE86sw\n",
       "5385657  CxDOIDnH8gp9KXzpBHJYXw      2  oTaU3tZxtKzCwrPcx6SpoQ\n",
       "5385659  CxDOIDnH8gp9KXzpBHJYXw      3  JlIK-c-pINHz4WWT2xYPEA\n",
       "5385660  CxDOIDnH8gp9KXzpBHJYXw      3  bYGn37k0KgleABKMWgjnMw\n",
       "5385661  CxDOIDnH8gp9KXzpBHJYXw      4  wSojc-y-d7MWiGWdy8deCg\n",
       "5385662  CxDOIDnH8gp9KXzpBHJYXw      3  WwGL_VJg2A3uLbqbpzkwjQ\n",
       "5385663  CxDOIDnH8gp9KXzpBHJYXw      3  phEpLAtmM4_8u1M7uGU43A\n",
       "5385664  CxDOIDnH8gp9KXzpBHJYXw      3  jIEZmUZUjmTC0kn09LtJEg\n",
       "5385665  CxDOIDnH8gp9KXzpBHJYXw      4  AmSW0I3nxtQ4tdkhh0y7CA\n",
       "5385666  CxDOIDnH8gp9KXzpBHJYXw      3  v4y-YUuejiEdQNWD3QTJDw\n",
       "5385668  CxDOIDnH8gp9KXzpBHJYXw      3  ZG-2OClQBJSwjQZlV93W6Q\n",
       "5385670  CxDOIDnH8gp9KXzpBHJYXw      4  x3JHj5h33ouzw_Ynj-utJg\n",
       "5385673  CxDOIDnH8gp9KXzpBHJYXw      3  cdA3MPcoVPYLrZzhR0_rmQ\n",
       "5385674  CxDOIDnH8gp9KXzpBHJYXw      3  nTMZSvPMSIofI5RLARFIaA\n",
       "5385676  CxDOIDnH8gp9KXzpBHJYXw      3  8EWTMelykqAK81NlZUFsqw\n",
       "5385677  CxDOIDnH8gp9KXzpBHJYXw      4  XLc5WIzafCocqsycQhvEPw\n",
       "5385678  CxDOIDnH8gp9KXzpBHJYXw      4  1_rqZz1K5Uoq2RvZlINfgA\n",
       "5385679  CxDOIDnH8gp9KXzpBHJYXw      2  -AVRReI-nfsa0lKlehEojw\n",
       "5385680  CxDOIDnH8gp9KXzpBHJYXw      4  sXg2NCfiCqK_X_4R5NK_jQ\n",
       "5385681  CxDOIDnH8gp9KXzpBHJYXw      3  0F42T07SdUQY24pidn9QwQ\n",
       "5385682  CxDOIDnH8gp9KXzpBHJYXw      3  P1mwP32yzgxi4Ya2EjevHw\n",
       "5385683  CxDOIDnH8gp9KXzpBHJYXw      2  N7j9Gajul249zR957N2d0w\n",
       "...                         ...    ...                     ...\n",
       "5391374  CxDOIDnH8gp9KXzpBHJYXw      4  yynw0xuha4DgkjDB_ll4Gw\n",
       "5391375  CxDOIDnH8gp9KXzpBHJYXw      3  SpkwuDQChxHlNwfnx7OWUA\n",
       "5391376  CxDOIDnH8gp9KXzpBHJYXw      2  IZzJaZWvw-IUrOLkP09JRQ\n",
       "5391378  CxDOIDnH8gp9KXzpBHJYXw      3  6c0lS8VP4EXyMefnJgvphg\n",
       "5391379  CxDOIDnH8gp9KXzpBHJYXw      3  frk_oIgPWrnZYiQ6zok9Lg\n",
       "5391380  CxDOIDnH8gp9KXzpBHJYXw      3  ghaj1MZzPW1qXYCZWfoTTw\n",
       "5391385  CxDOIDnH8gp9KXzpBHJYXw      3  fnAmpK3fJXJEWIprksyGXw\n",
       "5391387  CxDOIDnH8gp9KXzpBHJYXw      4  iGEvDk6hsizigmXhDKs2Vg\n",
       "5391389  CxDOIDnH8gp9KXzpBHJYXw      4  eetlD3KXlb8cTwgrQVfquw\n",
       "5391390  CxDOIDnH8gp9KXzpBHJYXw      4  oPvYovnl06fy5W0e51zjMQ\n",
       "5391392  CxDOIDnH8gp9KXzpBHJYXw      3  ik9VvawL-BeAqlxTI1leew\n",
       "5391393  CxDOIDnH8gp9KXzpBHJYXw      3  7Ry-hEfZwaDXe8u-n6v15A\n",
       "5391396  CxDOIDnH8gp9KXzpBHJYXw      3  T3P_qFArgkIx5BT3FKzcJw\n",
       "5391399  CxDOIDnH8gp9KXzpBHJYXw      2  laM_PIoHQ9LzCxXnl6C87w\n",
       "5391400  CxDOIDnH8gp9KXzpBHJYXw      4  TKDfJPM2GkxmgS8LfyYhng\n",
       "5391402  CxDOIDnH8gp9KXzpBHJYXw      4  vTKCl3v71Dw8yW7-Iblj3Q\n",
       "5391405  CxDOIDnH8gp9KXzpBHJYXw      4  iwxV8t1-y9h1XsmSEqSf3w\n",
       "5391407  CxDOIDnH8gp9KXzpBHJYXw      3  cPXasVLtq_1gmuSg65TUfQ\n",
       "5391408  CxDOIDnH8gp9KXzpBHJYXw      4  IRzY7yoBqoHaZNNo8WiWQQ\n",
       "5391409  CxDOIDnH8gp9KXzpBHJYXw      3  1lReBAd4iLe0rBLKiurw7Q\n",
       "5391410  CxDOIDnH8gp9KXzpBHJYXw      5  sK_SN5q7F-VkZUEPxN_MFg\n",
       "5391589  CxDOIDnH8gp9KXzpBHJYXw      3  mzREMIknfmagJugibXrCsQ\n",
       "5391590  CxDOIDnH8gp9KXzpBHJYXw      2  sHIJktNJTTJPOGhzXMI2Fg\n",
       "5391592  CxDOIDnH8gp9KXzpBHJYXw      3  0PQlEe92HDI8zeYlYq-Khw\n",
       "5391596  CxDOIDnH8gp9KXzpBHJYXw      3  h51mRPqkuFVk8YN2nY4Img\n",
       "5391597  CxDOIDnH8gp9KXzpBHJYXw      2  FaPKttRPZQht8XSiAfIpSA\n",
       "5391599  CxDOIDnH8gp9KXzpBHJYXw      3  k-6pef2sjWEyyBqgTAQcRA\n",
       "5391600  CxDOIDnH8gp9KXzpBHJYXw      4  6Z2feki4zwheuZhPlPYFQA\n",
       "5391601  CxDOIDnH8gp9KXzpBHJYXw      4  oZyaFqZYf0eqKRiP-aY81Q\n",
       "5391602  CxDOIDnH8gp9KXzpBHJYXw      3  7hUp4XxmUCGqvPFAM8IJww\n",
       "\n",
       "[2137 rows x 3 columns]"
      ]
     },
     "execution_count": 44,
     "metadata": {
      "tags": []
     },
     "output_type": "execute_result"
    }
   ],
   "source": [
    "#Just looking at the number of stars given by the user\n",
    "review_dataset[review_dataset['user_id']=='CxDOIDnH8gp9KXzpBHJYXw']\n",
    "#Exploring this user and finding if it is possible to understand their cusine interest would be a great starting point.\n",
    "#It would be ideal to throw people who has given only review as it would weaken our algorithm."
   ]
  },
  {
   "cell_type": "code",
   "execution_count": null,
   "metadata": {
    "colab": {
     "base_uri": "https://localhost:8080/",
     "height": 34
    },
    "colab_type": "code",
    "id": "qamFIfwUEksQ",
    "outputId": "393f88cf-5c85-440d-e880-4ff234ace8f0"
   },
   "outputs": [
    {
     "name": "stdout",
     "output_type": "stream",
     "text": [
      "176\n"
     ]
    }
   ],
   "source": [
    "#In all there are 17 million reviews in the dataset\n",
    "count=0\n",
    "for i in review_data:\n",
    "  count=count+1\n",
    "print(count)"
   ]
  },
  {
   "cell_type": "code",
   "execution_count": 6,
   "metadata": {
    "colab": {
     "base_uri": "https://localhost:8080/",
     "height": 214
    },
    "colab_type": "code",
    "id": "y-zbxOPk_VzN",
    "outputId": "790cb632-c6c5-470b-dbee-c8b42c966111"
   },
   "outputs": [],
   "source": [
    "#Loading the json reader together into a data list\n",
    "for i in range(0,10):\n",
    "  data.append(review_data[i])\n",
    "Concatenating the chunks together to load the entire dataset\n",
    "review_dataset=pd.DataFrame(data)"
   ]
  },
  {
   "cell_type": "markdown",
   "metadata": {
    "colab_type": "text",
    "id": "E8mJ9YSU7q95"
   },
   "source": [
    "# Andrews Code Section"
   ]
  },
  {
   "cell_type": "code",
   "execution_count": null,
   "metadata": {
    "colab": {},
    "colab_type": "code",
    "id": "6s4TuX8b9MvM"
   },
   "outputs": [],
   "source": [
    "import pandas as pd\n",
    "import os\n",
    "import numpy as np\n",
    "import json\n",
    "import networkx as nx"
   ]
  },
  {
   "cell_type": "code",
   "execution_count": null,
   "metadata": {
    "colab": {
     "base_uri": "https://localhost:8080/",
     "height": 163
    },
    "colab_type": "code",
    "id": "o0KQy2RM_Ra1",
    "outputId": "df594c3c-5c17-4896-aa94-e939b47f2e7e"
   },
   "outputs": [
    {
     "data": {
      "text/plain": [
       "['Yelp_Dataset_Challenge_Round_12.pdf',\n",
       " 'Dataset_Challenge_Dataset_Agreement.pdf',\n",
       " 'yelp_academic_dataset_business.json',\n",
       " 'yelp_academic_dataset_checkin.json',\n",
       " 'yelp_academic_dataset_photo.json',\n",
       " 'yelp_academic_dataset_review.json',\n",
       " 'yelp_academic_dataset_tip.json',\n",
       " 'yelp_academic_dataset_user.json',\n",
       " 'resturant_ID.csv']"
      ]
     },
     "execution_count": 12,
     "metadata": {
      "tags": []
     },
     "output_type": "execute_result"
    }
   ],
   "source": [
    "os.listdir('gdrive/My Drive/SI_608_Group_Project/yelp_dataset/')"
   ]
  },
  {
   "cell_type": "code",
   "execution_count": null,
   "metadata": {
    "colab": {},
    "colab_type": "code",
    "id": "kyleYlGFCIdf"
   },
   "outputs": [],
   "source": [
    "##Loading in the user_dataset\n",
    "data=[]\n",
    "yelp_user=pd.read_json('gdrive/My Drive/SI_608_Group_Project/yelp_dataset/yelp_academic_dataset_user.json',lines=True,chunksize=100000)\n",
    "\n",
    "#Loading the json reader together into a data list\n",
    "for i in yelp_user:\n",
    "  data.append(i)\n",
    "#Concatenating the chunks together to load the entire dataset\n",
    "yelp_user=pd.concat(data)"
   ]
  },
  {
   "cell_type": "code",
   "execution_count": null,
   "metadata": {
    "colab": {
     "base_uri": "https://localhost:8080/",
     "height": 271
    },
    "colab_type": "code",
    "id": "BhvKwxYlDFqx",
    "outputId": "889e0408-ad19-4254-bd0d-0b33d1eb9560"
   },
   "outputs": [
    {
     "data": {
      "text/html": [
       "<div>\n",
       "<style scoped>\n",
       "    .dataframe tbody tr th:only-of-type {\n",
       "        vertical-align: middle;\n",
       "    }\n",
       "\n",
       "    .dataframe tbody tr th {\n",
       "        vertical-align: top;\n",
       "    }\n",
       "\n",
       "    .dataframe thead th {\n",
       "        text-align: right;\n",
       "    }\n",
       "</style>\n",
       "<table border=\"1\" class=\"dataframe\">\n",
       "  <thead>\n",
       "    <tr style=\"text-align: right;\">\n",
       "      <th></th>\n",
       "      <th>average_stars</th>\n",
       "      <th>compliment_cool</th>\n",
       "      <th>compliment_cute</th>\n",
       "      <th>compliment_funny</th>\n",
       "      <th>compliment_hot</th>\n",
       "      <th>compliment_list</th>\n",
       "      <th>compliment_more</th>\n",
       "      <th>compliment_note</th>\n",
       "      <th>compliment_photos</th>\n",
       "      <th>compliment_plain</th>\n",
       "      <th>...</th>\n",
       "      <th>cool</th>\n",
       "      <th>elite</th>\n",
       "      <th>fans</th>\n",
       "      <th>friends</th>\n",
       "      <th>funny</th>\n",
       "      <th>name</th>\n",
       "      <th>review_count</th>\n",
       "      <th>useful</th>\n",
       "      <th>user_id</th>\n",
       "      <th>yelping_since</th>\n",
       "    </tr>\n",
       "  </thead>\n",
       "  <tbody>\n",
       "    <tr>\n",
       "      <th>137080</th>\n",
       "      <td>3.54</td>\n",
       "      <td>0</td>\n",
       "      <td>0</td>\n",
       "      <td>0</td>\n",
       "      <td>0</td>\n",
       "      <td>0</td>\n",
       "      <td>0</td>\n",
       "      <td>1</td>\n",
       "      <td>0</td>\n",
       "      <td>1</td>\n",
       "      <td>...</td>\n",
       "      <td>0</td>\n",
       "      <td>None</td>\n",
       "      <td>0</td>\n",
       "      <td>None</td>\n",
       "      <td>0</td>\n",
       "      <td>Marcia</td>\n",
       "      <td>21</td>\n",
       "      <td>0</td>\n",
       "      <td>pRF76Vzvj_QmS9uow_E1rQ</td>\n",
       "      <td>2012-09-30</td>\n",
       "    </tr>\n",
       "    <tr>\n",
       "      <th>1379252</th>\n",
       "      <td>1.00</td>\n",
       "      <td>0</td>\n",
       "      <td>0</td>\n",
       "      <td>0</td>\n",
       "      <td>0</td>\n",
       "      <td>0</td>\n",
       "      <td>0</td>\n",
       "      <td>0</td>\n",
       "      <td>0</td>\n",
       "      <td>0</td>\n",
       "      <td>...</td>\n",
       "      <td>0</td>\n",
       "      <td>None</td>\n",
       "      <td>0</td>\n",
       "      <td>SEL9F2jU7E2Y1kGnmR51AQ, SqwmWZ7sVO3gB-O3gZqpmg...</td>\n",
       "      <td>0</td>\n",
       "      <td>Tyler</td>\n",
       "      <td>1</td>\n",
       "      <td>0</td>\n",
       "      <td>_NjGo_3oHVMwgwv7yueeIQ</td>\n",
       "      <td>2016-03-03</td>\n",
       "    </tr>\n",
       "    <tr>\n",
       "      <th>1411107</th>\n",
       "      <td>1.00</td>\n",
       "      <td>0</td>\n",
       "      <td>0</td>\n",
       "      <td>0</td>\n",
       "      <td>0</td>\n",
       "      <td>0</td>\n",
       "      <td>0</td>\n",
       "      <td>0</td>\n",
       "      <td>0</td>\n",
       "      <td>0</td>\n",
       "      <td>...</td>\n",
       "      <td>0</td>\n",
       "      <td>None</td>\n",
       "      <td>0</td>\n",
       "      <td>None</td>\n",
       "      <td>0</td>\n",
       "      <td>Lys</td>\n",
       "      <td>1</td>\n",
       "      <td>0</td>\n",
       "      <td>3s0iCgf99dfg7JR8_Llpcg</td>\n",
       "      <td>2018-04-06</td>\n",
       "    </tr>\n",
       "    <tr>\n",
       "      <th>57666</th>\n",
       "      <td>3.88</td>\n",
       "      <td>0</td>\n",
       "      <td>0</td>\n",
       "      <td>0</td>\n",
       "      <td>0</td>\n",
       "      <td>0</td>\n",
       "      <td>0</td>\n",
       "      <td>0</td>\n",
       "      <td>0</td>\n",
       "      <td>2</td>\n",
       "      <td>...</td>\n",
       "      <td>0</td>\n",
       "      <td>None</td>\n",
       "      <td>0</td>\n",
       "      <td>e9eqBdpZaTJcO16JuEFkTg, nGCoZDCgM82E0mZJCQgcaw...</td>\n",
       "      <td>0</td>\n",
       "      <td>Joe</td>\n",
       "      <td>26</td>\n",
       "      <td>2</td>\n",
       "      <td>cyOWHQtZr1vsxep7_rdW1Q</td>\n",
       "      <td>2011-06-22</td>\n",
       "    </tr>\n",
       "    <tr>\n",
       "      <th>287208</th>\n",
       "      <td>5.00</td>\n",
       "      <td>0</td>\n",
       "      <td>0</td>\n",
       "      <td>0</td>\n",
       "      <td>0</td>\n",
       "      <td>0</td>\n",
       "      <td>0</td>\n",
       "      <td>0</td>\n",
       "      <td>0</td>\n",
       "      <td>0</td>\n",
       "      <td>...</td>\n",
       "      <td>0</td>\n",
       "      <td>None</td>\n",
       "      <td>0</td>\n",
       "      <td>None</td>\n",
       "      <td>0</td>\n",
       "      <td>Esther</td>\n",
       "      <td>5</td>\n",
       "      <td>0</td>\n",
       "      <td>8-zJp8qqT4paZ9uKcNCU_w</td>\n",
       "      <td>2016-08-13</td>\n",
       "    </tr>\n",
       "  </tbody>\n",
       "</table>\n",
       "<p>5 rows × 22 columns</p>\n",
       "</div>"
      ],
      "text/plain": [
       "         average_stars  compliment_cool  compliment_cute  compliment_funny  \\\n",
       "137080            3.54                0                0                 0   \n",
       "1379252           1.00                0                0                 0   \n",
       "1411107           1.00                0                0                 0   \n",
       "57666             3.88                0                0                 0   \n",
       "287208            5.00                0                0                 0   \n",
       "\n",
       "         compliment_hot  compliment_list  compliment_more  compliment_note  \\\n",
       "137080                0                0                0                1   \n",
       "1379252               0                0                0                0   \n",
       "1411107               0                0                0                0   \n",
       "57666                 0                0                0                0   \n",
       "287208                0                0                0                0   \n",
       "\n",
       "         compliment_photos  compliment_plain      ...        cool  elite  \\\n",
       "137080                   0                 1      ...           0   None   \n",
       "1379252                  0                 0      ...           0   None   \n",
       "1411107                  0                 0      ...           0   None   \n",
       "57666                    0                 2      ...           0   None   \n",
       "287208                   0                 0      ...           0   None   \n",
       "\n",
       "         fans                                            friends  funny  \\\n",
       "137080      0                                               None      0   \n",
       "1379252     0  SEL9F2jU7E2Y1kGnmR51AQ, SqwmWZ7sVO3gB-O3gZqpmg...      0   \n",
       "1411107     0                                               None      0   \n",
       "57666       0  e9eqBdpZaTJcO16JuEFkTg, nGCoZDCgM82E0mZJCQgcaw...      0   \n",
       "287208      0                                               None      0   \n",
       "\n",
       "           name  review_count useful                 user_id  yelping_since  \n",
       "137080   Marcia            21      0  pRF76Vzvj_QmS9uow_E1rQ     2012-09-30  \n",
       "1379252   Tyler             1      0  _NjGo_3oHVMwgwv7yueeIQ     2016-03-03  \n",
       "1411107     Lys             1      0  3s0iCgf99dfg7JR8_Llpcg     2018-04-06  \n",
       "57666       Joe            26      2  cyOWHQtZr1vsxep7_rdW1Q     2011-06-22  \n",
       "287208   Esther             5      0  8-zJp8qqT4paZ9uKcNCU_w     2016-08-13  \n",
       "\n",
       "[5 rows x 22 columns]"
      ]
     },
     "execution_count": 14,
     "metadata": {
      "tags": []
     },
     "output_type": "execute_result"
    }
   ],
   "source": [
    "yelp_user.sample(5)"
   ]
  },
  {
   "cell_type": "code",
   "execution_count": null,
   "metadata": {
    "colab": {
     "base_uri": "https://localhost:8080/",
     "height": 70
    },
    "colab_type": "code",
    "id": "9_Qda3qaPdLn",
    "outputId": "b6ae1020-c95a-4bfe-eaf6-edaa8606cc4c"
   },
   "outputs": [
    {
     "name": "stdout",
     "output_type": "stream",
     "text": [
      "The yelp_user data includes the following columns: \n",
      " ['average_stars', 'compliment_cool', 'compliment_cute', 'compliment_funny', 'compliment_hot', 'compliment_list', 'compliment_more', 'compliment_note', 'compliment_photos', 'compliment_plain', 'compliment_profile', 'compliment_writer', 'cool', 'elite', 'fans', 'friends', 'funny', 'name', 'review_count', 'useful', 'user_id', 'yelping_since']\n"
     ]
    }
   ],
   "source": [
    "print('The yelp_user data includes the following columns: \\n', yelp_user.columns.tolist())"
   ]
  },
  {
   "cell_type": "code",
   "execution_count": null,
   "metadata": {
    "colab": {
     "base_uri": "https://localhost:8080/",
     "height": 297
    },
    "colab_type": "code",
    "id": "qa8FIRO-HaOO",
    "outputId": "358ae481-7067-4884-f86f-70722c42644f"
   },
   "outputs": [
    {
     "data": {
      "text/html": [
       "<div>\n",
       "<style scoped>\n",
       "    .dataframe tbody tr th:only-of-type {\n",
       "        vertical-align: middle;\n",
       "    }\n",
       "\n",
       "    .dataframe tbody tr th {\n",
       "        vertical-align: top;\n",
       "    }\n",
       "\n",
       "    .dataframe thead th {\n",
       "        text-align: right;\n",
       "    }\n",
       "</style>\n",
       "<table border=\"1\" class=\"dataframe\">\n",
       "  <thead>\n",
       "    <tr style=\"text-align: right;\">\n",
       "      <th></th>\n",
       "      <th>average_stars</th>\n",
       "      <th>compliment_cool</th>\n",
       "      <th>compliment_cute</th>\n",
       "      <th>compliment_funny</th>\n",
       "      <th>compliment_hot</th>\n",
       "      <th>compliment_list</th>\n",
       "      <th>compliment_more</th>\n",
       "      <th>compliment_note</th>\n",
       "      <th>compliment_photos</th>\n",
       "      <th>compliment_plain</th>\n",
       "      <th>compliment_profile</th>\n",
       "      <th>compliment_writer</th>\n",
       "      <th>cool</th>\n",
       "      <th>fans</th>\n",
       "      <th>funny</th>\n",
       "      <th>review_count</th>\n",
       "      <th>useful</th>\n",
       "    </tr>\n",
       "  </thead>\n",
       "  <tbody>\n",
       "    <tr>\n",
       "      <th>count</th>\n",
       "      <td>1.518169e+06</td>\n",
       "      <td>1.518169e+06</td>\n",
       "      <td>1.518169e+06</td>\n",
       "      <td>1.518169e+06</td>\n",
       "      <td>1.518169e+06</td>\n",
       "      <td>1.518169e+06</td>\n",
       "      <td>1.518169e+06</td>\n",
       "      <td>1.518169e+06</td>\n",
       "      <td>1.518169e+06</td>\n",
       "      <td>1.518169e+06</td>\n",
       "      <td>1.518169e+06</td>\n",
       "      <td>1.518169e+06</td>\n",
       "      <td>1.518169e+06</td>\n",
       "      <td>1.518169e+06</td>\n",
       "      <td>1.518169e+06</td>\n",
       "      <td>1.518169e+06</td>\n",
       "      <td>1.518169e+06</td>\n",
       "    </tr>\n",
       "    <tr>\n",
       "      <th>mean</th>\n",
       "      <td>3.716941e+00</td>\n",
       "      <td>3.257744e+00</td>\n",
       "      <td>2.030696e-01</td>\n",
       "      <td>3.257744e+00</td>\n",
       "      <td>2.351439e+00</td>\n",
       "      <td>8.959674e-02</td>\n",
       "      <td>3.496482e-01</td>\n",
       "      <td>1.550980e+00</td>\n",
       "      <td>1.161873e+00</td>\n",
       "      <td>3.239886e+00</td>\n",
       "      <td>2.257515e-01</td>\n",
       "      <td>1.225092e+00</td>\n",
       "      <td>1.912421e+01</td>\n",
       "      <td>1.453618e+00</td>\n",
       "      <td>1.399221e+01</td>\n",
       "      <td>2.243219e+01</td>\n",
       "      <td>2.866694e+01</td>\n",
       "    </tr>\n",
       "    <tr>\n",
       "      <th>std</th>\n",
       "      <td>1.133998e+00</td>\n",
       "      <td>8.910309e+01</td>\n",
       "      <td>1.315116e+01</td>\n",
       "      <td>8.910309e+01</td>\n",
       "      <td>7.944780e+01</td>\n",
       "      <td>1.129681e+01</td>\n",
       "      <td>1.411544e+01</td>\n",
       "      <td>5.734051e+01</td>\n",
       "      <td>9.679741e+01</td>\n",
       "      <td>9.271578e+01</td>\n",
       "      <td>1.676400e+01</td>\n",
       "      <td>3.325393e+01</td>\n",
       "      <td>6.978946e+02</td>\n",
       "      <td>1.519258e+01</td>\n",
       "      <td>5.225402e+02</td>\n",
       "      <td>7.750849e+01</td>\n",
       "      <td>7.301740e+02</td>\n",
       "    </tr>\n",
       "    <tr>\n",
       "      <th>min</th>\n",
       "      <td>0.000000e+00</td>\n",
       "      <td>0.000000e+00</td>\n",
       "      <td>0.000000e+00</td>\n",
       "      <td>0.000000e+00</td>\n",
       "      <td>0.000000e+00</td>\n",
       "      <td>0.000000e+00</td>\n",
       "      <td>0.000000e+00</td>\n",
       "      <td>0.000000e+00</td>\n",
       "      <td>0.000000e+00</td>\n",
       "      <td>0.000000e+00</td>\n",
       "      <td>0.000000e+00</td>\n",
       "      <td>0.000000e+00</td>\n",
       "      <td>0.000000e+00</td>\n",
       "      <td>0.000000e+00</td>\n",
       "      <td>0.000000e+00</td>\n",
       "      <td>0.000000e+00</td>\n",
       "      <td>0.000000e+00</td>\n",
       "    </tr>\n",
       "    <tr>\n",
       "      <th>25%</th>\n",
       "      <td>3.070000e+00</td>\n",
       "      <td>0.000000e+00</td>\n",
       "      <td>0.000000e+00</td>\n",
       "      <td>0.000000e+00</td>\n",
       "      <td>0.000000e+00</td>\n",
       "      <td>0.000000e+00</td>\n",
       "      <td>0.000000e+00</td>\n",
       "      <td>0.000000e+00</td>\n",
       "      <td>0.000000e+00</td>\n",
       "      <td>0.000000e+00</td>\n",
       "      <td>0.000000e+00</td>\n",
       "      <td>0.000000e+00</td>\n",
       "      <td>0.000000e+00</td>\n",
       "      <td>0.000000e+00</td>\n",
       "      <td>0.000000e+00</td>\n",
       "      <td>2.000000e+00</td>\n",
       "      <td>0.000000e+00</td>\n",
       "    </tr>\n",
       "    <tr>\n",
       "      <th>50%</th>\n",
       "      <td>3.920000e+00</td>\n",
       "      <td>0.000000e+00</td>\n",
       "      <td>0.000000e+00</td>\n",
       "      <td>0.000000e+00</td>\n",
       "      <td>0.000000e+00</td>\n",
       "      <td>0.000000e+00</td>\n",
       "      <td>0.000000e+00</td>\n",
       "      <td>0.000000e+00</td>\n",
       "      <td>0.000000e+00</td>\n",
       "      <td>0.000000e+00</td>\n",
       "      <td>0.000000e+00</td>\n",
       "      <td>0.000000e+00</td>\n",
       "      <td>0.000000e+00</td>\n",
       "      <td>0.000000e+00</td>\n",
       "      <td>0.000000e+00</td>\n",
       "      <td>5.000000e+00</td>\n",
       "      <td>0.000000e+00</td>\n",
       "    </tr>\n",
       "    <tr>\n",
       "      <th>75%</th>\n",
       "      <td>4.670000e+00</td>\n",
       "      <td>0.000000e+00</td>\n",
       "      <td>0.000000e+00</td>\n",
       "      <td>0.000000e+00</td>\n",
       "      <td>0.000000e+00</td>\n",
       "      <td>0.000000e+00</td>\n",
       "      <td>0.000000e+00</td>\n",
       "      <td>0.000000e+00</td>\n",
       "      <td>0.000000e+00</td>\n",
       "      <td>0.000000e+00</td>\n",
       "      <td>0.000000e+00</td>\n",
       "      <td>0.000000e+00</td>\n",
       "      <td>0.000000e+00</td>\n",
       "      <td>0.000000e+00</td>\n",
       "      <td>0.000000e+00</td>\n",
       "      <td>1.500000e+01</td>\n",
       "      <td>3.000000e+00</td>\n",
       "    </tr>\n",
       "    <tr>\n",
       "      <th>max</th>\n",
       "      <td>5.000000e+00</td>\n",
       "      <td>3.069900e+04</td>\n",
       "      <td>1.364800e+04</td>\n",
       "      <td>3.069900e+04</td>\n",
       "      <td>3.353400e+04</td>\n",
       "      <td>1.266300e+04</td>\n",
       "      <td>1.349400e+04</td>\n",
       "      <td>5.747500e+04</td>\n",
       "      <td>8.259300e+04</td>\n",
       "      <td>4.862800e+04</td>\n",
       "      <td>1.416500e+04</td>\n",
       "      <td>1.543300e+04</td>\n",
       "      <td>2.559090e+05</td>\n",
       "      <td>8.665000e+03</td>\n",
       "      <td>2.421200e+05</td>\n",
       "      <td>1.272300e+04</td>\n",
       "      <td>2.584790e+05</td>\n",
       "    </tr>\n",
       "  </tbody>\n",
       "</table>\n",
       "</div>"
      ],
      "text/plain": [
       "       average_stars  compliment_cool  compliment_cute  compliment_funny  \\\n",
       "count   1.518169e+06     1.518169e+06     1.518169e+06      1.518169e+06   \n",
       "mean    3.716941e+00     3.257744e+00     2.030696e-01      3.257744e+00   \n",
       "std     1.133998e+00     8.910309e+01     1.315116e+01      8.910309e+01   \n",
       "min     0.000000e+00     0.000000e+00     0.000000e+00      0.000000e+00   \n",
       "25%     3.070000e+00     0.000000e+00     0.000000e+00      0.000000e+00   \n",
       "50%     3.920000e+00     0.000000e+00     0.000000e+00      0.000000e+00   \n",
       "75%     4.670000e+00     0.000000e+00     0.000000e+00      0.000000e+00   \n",
       "max     5.000000e+00     3.069900e+04     1.364800e+04      3.069900e+04   \n",
       "\n",
       "       compliment_hot  compliment_list  compliment_more  compliment_note  \\\n",
       "count    1.518169e+06     1.518169e+06     1.518169e+06     1.518169e+06   \n",
       "mean     2.351439e+00     8.959674e-02     3.496482e-01     1.550980e+00   \n",
       "std      7.944780e+01     1.129681e+01     1.411544e+01     5.734051e+01   \n",
       "min      0.000000e+00     0.000000e+00     0.000000e+00     0.000000e+00   \n",
       "25%      0.000000e+00     0.000000e+00     0.000000e+00     0.000000e+00   \n",
       "50%      0.000000e+00     0.000000e+00     0.000000e+00     0.000000e+00   \n",
       "75%      0.000000e+00     0.000000e+00     0.000000e+00     0.000000e+00   \n",
       "max      3.353400e+04     1.266300e+04     1.349400e+04     5.747500e+04   \n",
       "\n",
       "       compliment_photos  compliment_plain  compliment_profile  \\\n",
       "count       1.518169e+06      1.518169e+06        1.518169e+06   \n",
       "mean        1.161873e+00      3.239886e+00        2.257515e-01   \n",
       "std         9.679741e+01      9.271578e+01        1.676400e+01   \n",
       "min         0.000000e+00      0.000000e+00        0.000000e+00   \n",
       "25%         0.000000e+00      0.000000e+00        0.000000e+00   \n",
       "50%         0.000000e+00      0.000000e+00        0.000000e+00   \n",
       "75%         0.000000e+00      0.000000e+00        0.000000e+00   \n",
       "max         8.259300e+04      4.862800e+04        1.416500e+04   \n",
       "\n",
       "       compliment_writer          cool          fans         funny  \\\n",
       "count       1.518169e+06  1.518169e+06  1.518169e+06  1.518169e+06   \n",
       "mean        1.225092e+00  1.912421e+01  1.453618e+00  1.399221e+01   \n",
       "std         3.325393e+01  6.978946e+02  1.519258e+01  5.225402e+02   \n",
       "min         0.000000e+00  0.000000e+00  0.000000e+00  0.000000e+00   \n",
       "25%         0.000000e+00  0.000000e+00  0.000000e+00  0.000000e+00   \n",
       "50%         0.000000e+00  0.000000e+00  0.000000e+00  0.000000e+00   \n",
       "75%         0.000000e+00  0.000000e+00  0.000000e+00  0.000000e+00   \n",
       "max         1.543300e+04  2.559090e+05  8.665000e+03  2.421200e+05   \n",
       "\n",
       "       review_count        useful  \n",
       "count  1.518169e+06  1.518169e+06  \n",
       "mean   2.243219e+01  2.866694e+01  \n",
       "std    7.750849e+01  7.301740e+02  \n",
       "min    0.000000e+00  0.000000e+00  \n",
       "25%    2.000000e+00  0.000000e+00  \n",
       "50%    5.000000e+00  0.000000e+00  \n",
       "75%    1.500000e+01  3.000000e+00  \n",
       "max    1.272300e+04  2.584790e+05  "
      ]
     },
     "execution_count": 8,
     "metadata": {
      "tags": []
     },
     "output_type": "execute_result"
    }
   ],
   "source": [
    "  # Basic description for yelp_user dataset\n",
    "yelp_user.describe()"
   ]
  },
  {
   "cell_type": "code",
   "execution_count": null,
   "metadata": {
    "colab": {
     "base_uri": "https://localhost:8080/",
     "height": 33
    },
    "colab_type": "code",
    "id": "81zFiVVAENHR",
    "outputId": "c4af6919-e9f3-4cec-b5f0-640b59f1f3a0"
   },
   "outputs": [
    {
     "data": {
      "text/plain": [
       "1767.8480448146418"
      ]
     },
     "execution_count": 9,
     "metadata": {
      "tags": []
     },
     "output_type": "execute_result"
    }
   ],
   "source": [
    "# Average number of friends for users with >0 friends\n",
    "np.average(yelp_user['friends'].replace('None',np.nan).dropna().str.len())"
   ]
  },
  {
   "cell_type": "code",
   "execution_count": null,
   "metadata": {
    "colab": {},
    "colab_type": "code",
    "id": "RKJzusLWIVwN"
   },
   "outputs": [],
   "source": [
    "# Creating undirected graph with 'user_id' as nodes and 'friends' as edges\n",
    "G_users=nx.convert_matrix.from_pandas_edgelist(yelp_user,'user_id','friends',edge_attr=None, create_using=nx.Graph())"
   ]
  },
  {
   "cell_type": "code",
   "execution_count": null,
   "metadata": {
    "colab": {
     "base_uri": "https://localhost:8080/",
     "height": 33
    },
    "colab_type": "code",
    "id": "NFxEzEC8KvHj",
    "outputId": "79336014-4c3d-4d1b-9bb1-bf0eb0136f36"
   },
   "outputs": [
    {
     "data": {
      "text/plain": [
       "2355137"
      ]
     },
     "execution_count": 54,
     "metadata": {
      "tags": []
     },
     "output_type": "execute_result"
    }
   ],
   "source": [
    "G_users.number_of_nodes()"
   ]
  },
  {
   "cell_type": "code",
   "execution_count": 1,
   "metadata": {
    "colab": {
     "base_uri": "https://localhost:8080/",
     "height": 53
    },
    "colab_type": "code",
    "id": "FhhY9fnMMfR-",
    "outputId": "7a953b53-3ebc-4354-8469-b80420d0ba09"
   },
   "outputs": [],
   "source": [
    "# np.s(dict(G_users.degree()).values())"
   ]
  },
  {
   "cell_type": "markdown",
   "metadata": {
    "colab_type": "text",
    "id": "K_PXv9LT8ThW"
   },
   "source": [
    "# Phil Code Section"
   ]
  },
  {
   "cell_type": "code",
   "execution_count": null,
   "metadata": {
    "colab": {},
    "colab_type": "code",
    "id": "CmsjVZxV9FkU"
   },
   "outputs": [],
   "source": [
    "import networkx as nx\n",
    "import pandas as pd\n",
    "from sklearn.metrics import mean_squared_error\n",
    "from sklearn.model_selection import train_test_split\n",
    "from math import sqrt\n",
    "import statistics\n",
    "import math\n",
    "import random\n",
    "import numpy as np\n",
    "from statistics import mode"
   ]
  },
  {
   "cell_type": "markdown",
   "metadata": {
    "colab_type": "text",
    "id": "Yj-IZuZokm3t"
   },
   "source": [
    "Build User_Business BiPartite"
   ]
  },
  {
   "cell_type": "code",
   "execution_count": null,
   "metadata": {
    "colab": {},
    "colab_type": "code",
    "id": "abS0MxQS9yPQ"
   },
   "outputs": [],
   "source": [
    "train = pd.read_csv('train.csv')[['user_id','stars','business_id']]\n",
    "test = pd.read_csv('test.csv')[['user_id','stars','business_id']]\n",
    "average_rating = train.groupby('business_id').mean().reset_index().rename(columns={'stars':'business_average_rating'})\n",
    "# test_labels = test.stars\n",
    "# test = test[['user_id','business_id']]"
   ]
  },
  {
   "cell_type": "code",
   "execution_count": null,
   "metadata": {
    "colab": {},
    "colab_type": "code",
    "id": "5tzExZpfBFr4"
   },
   "outputs": [],
   "source": [
    "train['graph_tuple'] = list(zip(train.user_id, train.business_id, train.stars))"
   ]
  },
  {
   "cell_type": "code",
   "execution_count": null,
   "metadata": {
    "colab": {},
    "colab_type": "code",
    "id": "wfDDxhSs7A4t"
   },
   "outputs": [],
   "source": [
    "train_user_ids = train.user_id.tolist()\n",
    "train_business_ids = train.business_id.tolist()\n",
    "test['user_business'] = list(zip(test.user_id, test.business_id))"
   ]
  },
  {
   "cell_type": "code",
   "execution_count": null,
   "metadata": {
    "colab": {},
    "colab_type": "code",
    "id": "TbA3E6CekuCS"
   },
   "outputs": [],
   "source": [
    "B=nx.Graph()\n",
    "\n",
    "bipart_0 = list(train.user_id)\n",
    "bipart_1 = list(train.business_id)\n",
    "\n",
    "B.add_nodes_from(bipart_0, bipartite=0)\n",
    "B.add_nodes_from(bipart_1, bipartite=1)"
   ]
  },
  {
   "cell_type": "code",
   "execution_count": null,
   "metadata": {
    "colab": {},
    "colab_type": "code",
    "id": "ITwz8oY5kuFZ"
   },
   "outputs": [],
   "source": [
    "B.add_weighted_edges_from(train.graph_tuple, weight='avg rating')"
   ]
  },
  {
   "cell_type": "markdown",
   "metadata": {
    "colab_type": "text",
    "id": "ZN9N6dvekzAi"
   },
   "source": [
    "Test_Train Split"
   ]
  },
  {
   "cell_type": "code",
   "execution_count": null,
   "metadata": {
    "colab": {},
    "colab_type": "code",
    "id": "VuzAuf9DkuIi"
   },
   "outputs": [],
   "source": [
    "from sklearn.model_selection import StratifiedShuffleSplit\n",
    "data = pd.read_csv('reviews_filtered.csv')[['user_id', 'business_id','stars']]"
   ]
  },
  {
   "cell_type": "markdown",
   "metadata": {
    "colab_type": "text",
    "id": "M6owXrtgk4fQ"
   },
   "source": [
    "We want to make sure that a user in the test set has at least one instance in the train set. This is where we filter out any user that has only one review, and then create a .75/.25 split. However, when we come across a new user_id, we always add it into the train set first. One further instances of the user_id, we randomly assign to either test or train"
   ]
  },
  {
   "cell_type": "code",
   "execution_count": null,
   "metadata": {
    "colab": {},
    "colab_type": "code",
    "id": "QgNyOXkskuMa"
   },
   "outputs": [],
   "source": [
    "grouped_users = data.groupby('user_id')['business_id'].count().reset_index(name = 'counts')\n",
    "grouped_users = grouped_users[grouped_users.counts > 2].user_id.tolist()"
   ]
  },
  {
   "cell_type": "code",
   "execution_count": null,
   "metadata": {
    "colab": {},
    "colab_type": "code",
    "id": "HzklyuukkuQn"
   },
   "outputs": [],
   "source": [
    "data = data[data.user_id.isin(grouped_users)]"
   ]
  },
  {
   "cell_type": "markdown",
   "metadata": {
    "colab_type": "text",
    "id": "ETsLWKK6k9cm"
   },
   "source": [
    "These next two cells allow us to properly create a test train split"
   ]
  },
  {
   "cell_type": "code",
   "execution_count": null,
   "metadata": {
    "colab": {},
    "colab_type": "code",
    "id": "JnYgnwFzkuTi"
   },
   "outputs": [],
   "source": [
    "test_list = []\n",
    "user_list = []\n",
    "train_list = []"
   ]
  },
  {
   "cell_type": "code",
   "execution_count": null,
   "metadata": {
    "colab": {},
    "colab_type": "code",
    "id": "nTJNdDKgkuWu"
   },
   "outputs": [],
   "source": [
    "for index, row in data.iterrows():\n",
    "    if row.user_id not in user_list:\n",
    "        train_list.append(index)\n",
    "        user_list.append(row.user_id)\n",
    "    else:\n",
    "        rand_num = random.randint(0,4)\n",
    "        if rand_num == 0:\n",
    "            test_list.append(index)\n",
    "        else:\n",
    "            train_list.append(index)"
   ]
  },
  {
   "cell_type": "code",
   "execution_count": null,
   "metadata": {
    "colab": {},
    "colab_type": "code",
    "id": "P_mZ4jh8kuZr"
   },
   "outputs": [],
   "source": [
    "train, test = data.loc[train_list],data.loc[test_list]\n",
    "train_user, train_business = train.user_id.tolist(), train.business_id.tolist()"
   ]
  },
  {
   "cell_type": "markdown",
   "metadata": {
    "colab_type": "text",
    "id": "2AbVtxOJlEpj"
   },
   "source": [
    "These list comprehensions see that there are no users or businesses in the test data that are not in the training data"
   ]
  },
  {
   "cell_type": "code",
   "execution_count": null,
   "metadata": {
    "colab": {},
    "colab_type": "code",
    "id": "uyqCSOjPkugn"
   },
   "outputs": [],
   "source": [
    "[i for i in test.user_id if i not in train_user],[i for i in test.business_id if i not in train_business]"
   ]
  },
  {
   "cell_type": "code",
   "execution_count": null,
   "metadata": {
    "colab": {},
    "colab_type": "code",
    "id": "9A_xgufukuoN"
   },
   "outputs": [],
   "source": [
    "test = test[~test.business_id.isin([i for i in test.business_id if i not in train_business])]"
   ]
  },
  {
   "cell_type": "code",
   "execution_count": null,
   "metadata": {
    "colab": {},
    "colab_type": "code",
    "id": "oRSIokjkkusg"
   },
   "outputs": [],
   "source": [
    "train.to_csv('equal_distribution_train.csv', index=False)\n",
    "test.to_csv('equal_distribution_test.csv', index=False)"
   ]
  },
  {
   "cell_type": "markdown",
   "metadata": {
    "colab_type": "text",
    "id": "WrTBwdknlKJM"
   },
   "source": [
    "Create user_category BiPartite"
   ]
  },
  {
   "cell_type": "code",
   "execution_count": null,
   "metadata": {
    "colab": {},
    "colab_type": "code",
    "id": "B6oUs2gAkum6"
   },
   "outputs": [],
   "source": [
    "yelp_buisness = pd.read_json('yelp_academic_dataset_business.json', lines=True)\n",
    "restaurant_reviews = yelp_buisness[yelp_buisness['categories'].str.contains('Restaurants')==True]\n",
    "restaurant_reviews = restaurant_reviews[['business_id', 'categories', 'city', 'name','state']]\n",
    "# df_reviews = pd.read_csv('reviews_2.csv')\n",
    "X_train, y_train = pd.read_csv('X_train.csv')[['user_id', 'business_id']], pd.read_csv('Y_train.csv',header=None)[1]\n",
    "X_train['stars'] = y_train\n",
    "df_reviews = X_train"
   ]
  },
  {
   "cell_type": "code",
   "execution_count": null,
   "metadata": {
    "colab": {},
    "colab_type": "code",
    "id": "lCwA_Gzakuj-"
   },
   "outputs": [],
   "source": [
    "merged = df_reviews.merge(restaurant_reviews, left_on='business_id', right_on='business_id')"
   ]
  },
  {
   "cell_type": "code",
   "execution_count": null,
   "metadata": {
    "colab": {},
    "colab_type": "code",
    "id": "l1GCFJpSkue6"
   },
   "outputs": [],
   "source": [
    "# categories = ['American', 'Italian', 'Chinese', 'Japanese', 'Indian', 'Thai', 'Mexican', 'Korean', 'Pizza',\\\n",
    "#               'Middle Eastern', 'Mediterranean', 'Greek', 'French']\n",
    "\n",
    "categories = ['American', 'Italian', 'Chinese', 'Indian', 'Mexican']\n",
    "\n",
    "categories = ['American', 'Italian', 'Indian', 'Mexican']"
   ]
  },
  {
   "cell_type": "code",
   "execution_count": null,
   "metadata": {
    "colab": {},
    "colab_type": "code",
    "id": "28qwrFEDkud4"
   },
   "outputs": [],
   "source": [
    "for i in categories:\n",
    "    merged.loc[merged.categories.str.contains(i), i] = merged.stars\n",
    "    merged.loc[~merged.categories.str.contains(i), i] = np.nan"
   ]
  },
  {
   "cell_type": "code",
   "execution_count": null,
   "metadata": {
    "colab": {},
    "colab_type": "code",
    "id": "6c8pfQBWkucq"
   },
   "outputs": [],
   "source": [
    "matrix = merged.groupby('user_id').mean()"
   ]
  },
  {
   "cell_type": "code",
   "execution_count": null,
   "metadata": {
    "colab": {},
    "colab_type": "code",
    "id": "CRRPvjH0lQjE"
   },
   "outputs": [],
   "source": [
    "matrix = matrix[[i for i in matrix.columns if i != 'stars']]"
   ]
  },
  {
   "cell_type": "code",
   "execution_count": null,
   "metadata": {
    "colab": {},
    "colab_type": "code",
    "id": "kO_wH8_IlQm5"
   },
   "outputs": [],
   "source": [
    "matrix['user_id'] = matrix.index"
   ]
  },
  {
   "cell_type": "code",
   "execution_count": null,
   "metadata": {
    "colab": {},
    "colab_type": "code",
    "id": "opyZCLFAlQqK"
   },
   "outputs": [],
   "source": [
    "for col in [i for i in matrix.columns if i != 'user_id']:\n",
    "    matrix['user_{}_tuple'.format(col)] = matrix.apply(lambda x: [x.user_id,col,x[col]], axis = 1)"
   ]
  },
  {
   "cell_type": "code",
   "execution_count": null,
   "metadata": {
    "colab": {},
    "colab_type": "code",
    "id": "NXBftRI7lQtd"
   },
   "outputs": [],
   "source": [
    "matrix = matrix[[i for i in matrix.columns if i.endswith('tuple') == True]]"
   ]
  },
  {
   "cell_type": "code",
   "execution_count": null,
   "metadata": {
    "colab": {},
    "colab_type": "code",
    "id": "gTrl9cGMlQxM"
   },
   "outputs": [],
   "source": [
    "bipart_0 = list(matrix.columns.tolist())\n",
    "bipart_1 = list(matrix.index.tolist())"
   ]
  },
  {
   "cell_type": "code",
   "execution_count": null,
   "metadata": {
    "colab": {},
    "colab_type": "code",
    "id": "q7lFMV93lQ0j"
   },
   "outputs": [],
   "source": [
    "ucb=nx.Graph()\n",
    "\n",
    "ucb.add_nodes_from(bipart_0, bipartite=0)\n",
    "ucb.add_nodes_from(bipart_1, bipartite=1)"
   ]
  },
  {
   "cell_type": "code",
   "execution_count": null,
   "metadata": {
    "colab": {},
    "colab_type": "code",
    "id": "mTNaJLVAlQ4N"
   },
   "outputs": [],
   "source": [
    "for i in matrix.columns:\n",
    "    edge_list = [edge for edge in matrix[i].tolist() if math.isnan(edge[2]) == False]\n",
    "    if len(edge_list) > 0:\n",
    "        ucb.add_weighted_edges_from(edge_list, weight='avg rating')"
   ]
  },
  {
   "cell_type": "markdown",
   "metadata": {
    "colab_type": "text",
    "id": "fZmwSqkvlaf6"
   },
   "source": [
    "Using user_category BiPartite"
   ]
  },
  {
   "cell_type": "code",
   "execution_count": null,
   "metadata": {
    "colab": {},
    "colab_type": "code",
    "id": "dQFBbOrtlQ7y"
   },
   "outputs": [],
   "source": [
    "def get_jaccard_mean_scores(score_list):\n",
    "#     try:\n",
    "#         return mode(score_list)\n",
    "#     except:\n",
    "#         return statistics.mean(score_list)\n",
    "    return statistics.mean(score_list)"
   ]
  },
  {
   "cell_type": "markdown",
   "metadata": {
    "colab_type": "text",
    "id": "Wr06eVjDldOR"
   },
   "source": [
    "Line 3 of the first for loop is the adamic_adar_index; we can change this to another metric if we want"
   ]
  },
  {
   "cell_type": "code",
   "execution_count": null,
   "metadata": {
    "colab": {},
    "colab_type": "code",
    "id": "h1Gq_KZwlQ_F"
   },
   "outputs": [],
   "source": [
    "train['graph_tuple'] = list(zip(train.user_id, train.business_id, train.stars))\n",
    "\n",
    "train_user_ids = train.user_id.tolist()\n",
    "train_business_ids = train.business_id.tolist()\n",
    "test['user_business'] = list(zip(test.user_id, test.business_id))\n",
    "\n",
    "B=nx.Graph()\n",
    "\n",
    "bipart_0 = list(train.user_id)\n",
    "bipart_1 = list(train.business_id)\n",
    "\n",
    "B.add_nodes_from(bipart_0, bipartite=0)\n",
    "B.add_nodes_from(bipart_1, bipartite=1)\n",
    "\n",
    "B.add_weighted_edges_from(train.graph_tuple, weight='avg rating')\n",
    "\n",
    "similarity_list = []\n",
    "\n",
    "for user, business in test.user_business.tolist():\n",
    "    ego_network = nx.ego_graph(B, n=business)\n",
    "    jaccard_list = [(i,user) for i in ego_network.nodes if i != business]\n",
    "    preds = nx.adamic_adar_index(ucb, jaccard_list)\n",
    "    highest_similarity_score = 0\n",
    "    highest_similarity_nodes = []\n",
    "    for u,v,p in preds:\n",
    "        if p >= highest_similarity_score:\n",
    "            if p > highest_similarity_score:\n",
    "                highest_similarity_nodes = []\n",
    "                highest_similarity_nodes.append(u)\n",
    "                highest_similarity_score = p\n",
    "            else:\n",
    "                highest_similarity_nodes.append(u)\n",
    "    similarity_list.append([user,business,highest_similarity_nodes,highest_similarity_score])\n",
    "    \n",
    "found_jaccard_score = pd.DataFrame(data = similarity_list, columns=['user_id', 'business_id', 'found_neighbors','jaccard_score'])\n",
    "\n",
    "found_jaccard_score['neighbor_ratings'] = found_jaccard_score\\\n",
    "            .apply(lambda row:get_jaccard_neighbor_scores(row.business_id, row.found_neighbors) if type(row.found_neighbors) == list else None ,axis=1)\n",
    "\n",
    "found_jaccard_score['projected_stars'] = found_jaccard_score.neighbor_ratings.apply(lambda x: get_jaccard_mean_scores(x) if type(x) == list else None)\n",
    "\n",
    "test = test[['user_id','business_id','stars']]\n",
    "\n",
    "found_jaccard_score = found_jaccard_score.merge(test, on=['user_id','business_id'])"
   ]
  },
  {
   "cell_type": "code",
   "execution_count": null,
   "metadata": {
    "colab": {},
    "colab_type": "code",
    "id": "KwVBfFhmlRB2"
   },
   "outputs": [],
   "source": [
    "mean_squared_error(found_jaccard_score.stars, found_jaccard_score.projected_stars)"
   ]
  },
  {
   "cell_type": "markdown",
   "metadata": {
    "colab_type": "text",
    "id": "IgCt-wM87B55"
   },
   "source": [
    "# RMSE evaluation of baseline predictions\n",
    "baseline is average rating of each establishment\n",
    "\n"
   ]
  },
  {
   "cell_type": "code",
   "execution_count": null,
   "metadata": {
    "colab": {},
    "colab_type": "code",
    "id": "Lzi28R9H7fLV"
   },
   "outputs": [],
   "source": [
    "import pandas as pd\n",
    "from sklearn.model_selection import train_test_split\n",
    "from sklearn.metrics import mean_squared_error\n",
    "from math import sqrt"
   ]
  },
  {
   "cell_type": "code",
   "execution_count": null,
   "metadata": {
    "colab": {
     "base_uri": "https://localhost:8080/",
     "height": 191
    },
    "colab_type": "code",
    "id": "HUD8kEtA7K91",
    "outputId": "317ff2d0-8a2b-4e4f-aae1-b8b55bf04415"
   },
   "outputs": [
    {
     "data": {
      "text/html": [
       "<div>\n",
       "<style scoped>\n",
       "    .dataframe tbody tr th:only-of-type {\n",
       "        vertical-align: middle;\n",
       "    }\n",
       "\n",
       "    .dataframe tbody tr th {\n",
       "        vertical-align: top;\n",
       "    }\n",
       "\n",
       "    .dataframe thead th {\n",
       "        text-align: right;\n",
       "    }\n",
       "</style>\n",
       "<table border=\"1\" class=\"dataframe\">\n",
       "  <thead>\n",
       "    <tr style=\"text-align: right;\">\n",
       "      <th></th>\n",
       "      <th>Unnamed: 0</th>\n",
       "      <th>user_id</th>\n",
       "      <th>stars</th>\n",
       "      <th>business_id</th>\n",
       "    </tr>\n",
       "  </thead>\n",
       "  <tbody>\n",
       "    <tr>\n",
       "      <th>0</th>\n",
       "      <td>0</td>\n",
       "      <td>msQe1u7Z_XuqjGoqhB0J5g</td>\n",
       "      <td>2</td>\n",
       "      <td>iCQpiavjjPzJ5_3gPD5Ebg</td>\n",
       "    </tr>\n",
       "    <tr>\n",
       "      <th>1</th>\n",
       "      <td>1</td>\n",
       "      <td>msQe1u7Z_XuqjGoqhB0J5g</td>\n",
       "      <td>5</td>\n",
       "      <td>pomGBqfbxcqPv14c3XH-ZQ</td>\n",
       "    </tr>\n",
       "    <tr>\n",
       "      <th>2</th>\n",
       "      <td>2</td>\n",
       "      <td>msQe1u7Z_XuqjGoqhB0J5g</td>\n",
       "      <td>1</td>\n",
       "      <td>jtQARsP6P-LbkyjbO1qNGg</td>\n",
       "    </tr>\n",
       "    <tr>\n",
       "      <th>3</th>\n",
       "      <td>3</td>\n",
       "      <td>msQe1u7Z_XuqjGoqhB0J5g</td>\n",
       "      <td>2</td>\n",
       "      <td>elqbBhBfElMNSrjFqW3now</td>\n",
       "    </tr>\n",
       "    <tr>\n",
       "      <th>4</th>\n",
       "      <td>7</td>\n",
       "      <td>msQe1u7Z_XuqjGoqhB0J5g</td>\n",
       "      <td>5</td>\n",
       "      <td>zdE82PiD6wquvjYLyhOJNA</td>\n",
       "    </tr>\n",
       "  </tbody>\n",
       "</table>\n",
       "</div>"
      ],
      "text/plain": [
       "   Unnamed: 0                 user_id  stars             business_id\n",
       "0           0  msQe1u7Z_XuqjGoqhB0J5g      2  iCQpiavjjPzJ5_3gPD5Ebg\n",
       "1           1  msQe1u7Z_XuqjGoqhB0J5g      5  pomGBqfbxcqPv14c3XH-ZQ\n",
       "2           2  msQe1u7Z_XuqjGoqhB0J5g      1  jtQARsP6P-LbkyjbO1qNGg\n",
       "3           3  msQe1u7Z_XuqjGoqhB0J5g      2  elqbBhBfElMNSrjFqW3now\n",
       "4           7  msQe1u7Z_XuqjGoqhB0J5g      5  zdE82PiD6wquvjYLyhOJNA"
      ]
     },
     "execution_count": 7,
     "metadata": {
      "tags": []
     },
     "output_type": "execute_result"
    }
   ],
   "source": [
    "# Loading reviews.csv\n",
    "reviews = pd.read_csv('gdrive/My Drive/SI_608_Group_Project/yelp_dataset/reviews.csv')\n",
    "reviews.head()"
   ]
  },
  {
   "cell_type": "code",
   "execution_count": null,
   "metadata": {
    "colab": {},
    "colab_type": "code",
    "id": "d5IcRhmW7Sxe"
   },
   "outputs": [],
   "source": [
    "# Re order columns\n",
    "reviews = reviews[['user_id', 'business_id', 'stars']]"
   ]
  },
  {
   "cell_type": "code",
   "execution_count": null,
   "metadata": {
    "colab": {
     "base_uri": "https://localhost:8080/",
     "height": 33
    },
    "colab_type": "code",
    "id": "6DJPEu0V78u9",
    "outputId": "167ae527-d488-4ecc-9e5d-fd0b7f6c68ee"
   },
   "outputs": [
    {
     "data": {
      "text/plain": [
       "2766358"
      ]
     },
     "execution_count": 7,
     "metadata": {
      "tags": []
     },
     "output_type": "execute_result"
    }
   ],
   "source": [
    "# Number of reviews\n",
    "reviews.shape[0] "
   ]
  },
  {
   "cell_type": "code",
   "execution_count": null,
   "metadata": {
    "colab": {},
    "colab_type": "code",
    "id": "QluAJfB28AJT"
   },
   "outputs": [],
   "source": [
    "# # Reviews is the dataframe containing user_id, business_id, and the true rating they left\n",
    "# # Split this into training and test\n",
    "# x = reviews[['user_id', 'business_id']]\n",
    "# y = reviews['stars']\n",
    "\n",
    "# # Default 75% / 25% split\n",
    "# X_train, X_test, Y_train, Y_test = train_test_split(x, y)"
   ]
  },
  {
   "cell_type": "code",
   "execution_count": null,
   "metadata": {
    "colab": {},
    "colab_type": "code",
    "id": "kADRd1tw8D3c"
   },
   "outputs": [],
   "source": [
    "# # Save training set\n",
    "# # with open('X_train.csv', 'w') as f:\n",
    "# #   for i,r in X_train.iterrows(): \n",
    "# #     f.write(str(r[0]) + ',' + str(r[1]) + '\\n')\n",
    "# X_train.to_csv('gdrive/My Drive/SI_608_Group_Project/yelp_dataset/X_train.csv')"
   ]
  },
  {
   "cell_type": "code",
   "execution_count": null,
   "metadata": {
    "colab": {},
    "colab_type": "code",
    "id": "wYXTmoLY_2Jw"
   },
   "outputs": [],
   "source": [
    "# # Save test set\n",
    "# # with open('X_test.csv', 'w') as f:\n",
    "# #   for i,r in X_train.iterrows(): \n",
    "# #     f.write(str(r[0]) + ',' + str(r[1]) + '\\n')\n",
    "# X_test.to_csv('gdrive/My Drive/SI_608_Group_Project/yelp_dataset/X_test.csv')"
   ]
  },
  {
   "cell_type": "code",
   "execution_count": null,
   "metadata": {
    "colab": {},
    "colab_type": "code",
    "id": "8TiKKVjUAnE_"
   },
   "outputs": [],
   "source": [
    "# # Save training ratings\n",
    "# # with open('Y_train.csv', 'w') as f:\n",
    "# #   for i,r in Y_train.reset_index().iterrows(): \n",
    "# #     f.write(str(r[0]) + ',' + str(r[1]) + '\\n')\n",
    "# Y_train.to_csv('gdrive/My Drive/SI_608_Group_Project/yelp_dataset/Y_train.csv')"
   ]
  },
  {
   "cell_type": "code",
   "execution_count": null,
   "metadata": {
    "colab": {},
    "colab_type": "code",
    "id": "_H5cSGqsAykX"
   },
   "outputs": [],
   "source": [
    "# # Save training ratings\n",
    "# # with open('Y_test.csv', 'w') as f:\n",
    "# #   for i,r in Y_test.reset_index().iterrows(): \n",
    "# #     f.write(str(r[0]) + ',' + str(r[1]) + '\\n')\n",
    "# Y_test.to_csv('gdrive/My Drive/SI_608_Group_Project/yelp_dataset/Y_test.csv')"
   ]
  },
  {
   "cell_type": "code",
   "execution_count": null,
   "metadata": {
    "colab": {},
    "colab_type": "code",
    "id": "rn1M6cZwYchN"
   },
   "outputs": [],
   "source": [
    "# train=pd.read_csv('gdrive/My Drive/SI_608_Group_Project/yelp_dataset/train.csv')\n",
    "test=pd.read_csv('gdrive/My Drive/SI_608_Group_Project/yelp_dataset/equal_distribution_test.csv')"
   ]
  },
  {
   "cell_type": "code",
   "execution_count": null,
   "metadata": {
    "colab": {
     "base_uri": "https://localhost:8080/",
     "height": 191
    },
    "colab_type": "code",
    "id": "QearB6-R0H76",
    "outputId": "a7f5ab75-0f67-452c-c605-1a489acdbfdc"
   },
   "outputs": [
    {
     "data": {
      "text/html": [
       "<div>\n",
       "<style scoped>\n",
       "    .dataframe tbody tr th:only-of-type {\n",
       "        vertical-align: middle;\n",
       "    }\n",
       "\n",
       "    .dataframe tbody tr th {\n",
       "        vertical-align: top;\n",
       "    }\n",
       "\n",
       "    .dataframe thead th {\n",
       "        text-align: right;\n",
       "    }\n",
       "</style>\n",
       "<table border=\"1\" class=\"dataframe\">\n",
       "  <thead>\n",
       "    <tr style=\"text-align: right;\">\n",
       "      <th></th>\n",
       "      <th>user_id</th>\n",
       "      <th>business_id</th>\n",
       "      <th>stars</th>\n",
       "    </tr>\n",
       "  </thead>\n",
       "  <tbody>\n",
       "    <tr>\n",
       "      <th>0</th>\n",
       "      <td>WZkAnapotwlWz9_BN04xug</td>\n",
       "      <td>szhJLmdLDVFTevm8fu0T4A</td>\n",
       "      <td>5</td>\n",
       "    </tr>\n",
       "    <tr>\n",
       "      <th>1</th>\n",
       "      <td>h9Bu6HuCWktHPBLb6_kduA</td>\n",
       "      <td>szhJLmdLDVFTevm8fu0T4A</td>\n",
       "      <td>4</td>\n",
       "    </tr>\n",
       "    <tr>\n",
       "      <th>2</th>\n",
       "      <td>R0usSiPCJ0OFd2PRUrkbBA</td>\n",
       "      <td>nChi_8Gygb6NUMa_kg_tlQ</td>\n",
       "      <td>3</td>\n",
       "    </tr>\n",
       "    <tr>\n",
       "      <th>3</th>\n",
       "      <td>NsegE9Mqm3GCQeSx0v0tYw</td>\n",
       "      <td>nChi_8Gygb6NUMa_kg_tlQ</td>\n",
       "      <td>4</td>\n",
       "    </tr>\n",
       "    <tr>\n",
       "      <th>4</th>\n",
       "      <td>J7L5EbWEHB8njkFjZkas7w</td>\n",
       "      <td>nChi_8Gygb6NUMa_kg_tlQ</td>\n",
       "      <td>5</td>\n",
       "    </tr>\n",
       "  </tbody>\n",
       "</table>\n",
       "</div>"
      ],
      "text/plain": [
       "                  user_id             business_id  stars\n",
       "0  WZkAnapotwlWz9_BN04xug  szhJLmdLDVFTevm8fu0T4A      5\n",
       "1  h9Bu6HuCWktHPBLb6_kduA  szhJLmdLDVFTevm8fu0T4A      4\n",
       "2  R0usSiPCJ0OFd2PRUrkbBA  nChi_8Gygb6NUMa_kg_tlQ      3\n",
       "3  NsegE9Mqm3GCQeSx0v0tYw  nChi_8Gygb6NUMa_kg_tlQ      4\n",
       "4  J7L5EbWEHB8njkFjZkas7w  nChi_8Gygb6NUMa_kg_tlQ      5"
      ]
     },
     "execution_count": 9,
     "metadata": {
      "tags": []
     },
     "output_type": "execute_result"
    }
   ],
   "source": [
    "test.head()"
   ]
  },
  {
   "cell_type": "code",
   "execution_count": null,
   "metadata": {
    "colab": {},
    "colab_type": "code",
    "id": "f2I3OK3ywAky"
   },
   "outputs": [],
   "source": [
    "yelp_business=pd.read_json('gdrive/My Drive/SI_608_Group_Project/yelp_dataset/yelp_academic_dataset_business.json', lines=True)\n"
   ]
  },
  {
   "cell_type": "code",
   "execution_count": null,
   "metadata": {
    "colab": {},
    "colab_type": "code",
    "id": "n79t0jNXwDNf"
   },
   "outputs": [],
   "source": [
    "##Loading in the user_dataset\n",
    "data=[]\n",
    "yelp_user=pd.read_json('gdrive/My Drive/SI_608_Group_Project/yelp_dataset/yelp_academic_dataset_user.json',lines=True,chunksize=100000)\n",
    "\n",
    "#Loading the json reader together into a data list\n",
    "for i in yelp_user:\n",
    "  data.append(i)\n",
    "#Concatenating the chunks together to load the entire dataset\n",
    "yelp_user=pd.concat(data)"
   ]
  },
  {
   "cell_type": "code",
   "execution_count": null,
   "metadata": {
    "colab": {
     "base_uri": "https://localhost:8080/",
     "height": 617
    },
    "colab_type": "code",
    "id": "K5bY5-qGA7XG",
    "outputId": "242d6708-3e31-48ba-f60f-56371cb2efbc"
   },
   "outputs": [
    {
     "data": {
      "text/html": [
       "<div>\n",
       "<style scoped>\n",
       "    .dataframe tbody tr th:only-of-type {\n",
       "        vertical-align: middle;\n",
       "    }\n",
       "\n",
       "    .dataframe tbody tr th {\n",
       "        vertical-align: top;\n",
       "    }\n",
       "\n",
       "    .dataframe thead th {\n",
       "        text-align: right;\n",
       "    }\n",
       "</style>\n",
       "<table border=\"1\" class=\"dataframe\">\n",
       "  <thead>\n",
       "    <tr style=\"text-align: right;\">\n",
       "      <th></th>\n",
       "      <th>user_id</th>\n",
       "      <th>business_id</th>\n",
       "      <th>stars_x</th>\n",
       "      <th>address</th>\n",
       "      <th>attributes</th>\n",
       "      <th>categories</th>\n",
       "      <th>city</th>\n",
       "      <th>hours</th>\n",
       "      <th>is_open</th>\n",
       "      <th>latitude</th>\n",
       "      <th>longitude</th>\n",
       "      <th>name</th>\n",
       "      <th>neighborhood</th>\n",
       "      <th>postal_code</th>\n",
       "      <th>review_count</th>\n",
       "      <th>stars_y</th>\n",
       "      <th>state</th>\n",
       "    </tr>\n",
       "  </thead>\n",
       "  <tbody>\n",
       "    <tr>\n",
       "      <th>0</th>\n",
       "      <td>WZkAnapotwlWz9_BN04xug</td>\n",
       "      <td>szhJLmdLDVFTevm8fu0T4A</td>\n",
       "      <td>5</td>\n",
       "      <td>3446 W Camelback Rd, Ste 155</td>\n",
       "      <td>{'Alcohol': 'full_bar', 'Ambience': '{'romanti...</td>\n",
       "      <td>Chinese, Dim Sum, Restaurants, Cantonese</td>\n",
       "      <td>Phoenix</td>\n",
       "      <td>{'Monday': '11:0-23:0', 'Tuesday': '11:0-23:0'...</td>\n",
       "      <td>1</td>\n",
       "      <td>33.510988</td>\n",
       "      <td>-112.133277</td>\n",
       "      <td>Great Wall Cuisine</td>\n",
       "      <td></td>\n",
       "      <td>85017</td>\n",
       "      <td>433</td>\n",
       "      <td>3.5</td>\n",
       "      <td>AZ</td>\n",
       "    </tr>\n",
       "    <tr>\n",
       "      <th>1</th>\n",
       "      <td>h9Bu6HuCWktHPBLb6_kduA</td>\n",
       "      <td>szhJLmdLDVFTevm8fu0T4A</td>\n",
       "      <td>4</td>\n",
       "      <td>3446 W Camelback Rd, Ste 155</td>\n",
       "      <td>{'Alcohol': 'full_bar', 'Ambience': '{'romanti...</td>\n",
       "      <td>Chinese, Dim Sum, Restaurants, Cantonese</td>\n",
       "      <td>Phoenix</td>\n",
       "      <td>{'Monday': '11:0-23:0', 'Tuesday': '11:0-23:0'...</td>\n",
       "      <td>1</td>\n",
       "      <td>33.510988</td>\n",
       "      <td>-112.133277</td>\n",
       "      <td>Great Wall Cuisine</td>\n",
       "      <td></td>\n",
       "      <td>85017</td>\n",
       "      <td>433</td>\n",
       "      <td>3.5</td>\n",
       "      <td>AZ</td>\n",
       "    </tr>\n",
       "    <tr>\n",
       "      <th>2</th>\n",
       "      <td>R0usSiPCJ0OFd2PRUrkbBA</td>\n",
       "      <td>nChi_8Gygb6NUMa_kg_tlQ</td>\n",
       "      <td>3</td>\n",
       "      <td>725 S Rural Rd, Ste 103</td>\n",
       "      <td>{'Alcohol': 'none', 'Ambience': '{'romantic': ...</td>\n",
       "      <td>Szechuan, Cantonese, Asian Fusion, Restaurants...</td>\n",
       "      <td>Tempe</td>\n",
       "      <td>{'Monday': '11:0-22:0', 'Tuesday': '11:0-22:0'...</td>\n",
       "      <td>1</td>\n",
       "      <td>33.422755</td>\n",
       "      <td>-111.925865</td>\n",
       "      <td>Asian Fusion Cafe</td>\n",
       "      <td></td>\n",
       "      <td>85281</td>\n",
       "      <td>104</td>\n",
       "      <td>4.0</td>\n",
       "      <td>AZ</td>\n",
       "    </tr>\n",
       "    <tr>\n",
       "      <th>3</th>\n",
       "      <td>NsegE9Mqm3GCQeSx0v0tYw</td>\n",
       "      <td>nChi_8Gygb6NUMa_kg_tlQ</td>\n",
       "      <td>4</td>\n",
       "      <td>725 S Rural Rd, Ste 103</td>\n",
       "      <td>{'Alcohol': 'none', 'Ambience': '{'romantic': ...</td>\n",
       "      <td>Szechuan, Cantonese, Asian Fusion, Restaurants...</td>\n",
       "      <td>Tempe</td>\n",
       "      <td>{'Monday': '11:0-22:0', 'Tuesday': '11:0-22:0'...</td>\n",
       "      <td>1</td>\n",
       "      <td>33.422755</td>\n",
       "      <td>-111.925865</td>\n",
       "      <td>Asian Fusion Cafe</td>\n",
       "      <td></td>\n",
       "      <td>85281</td>\n",
       "      <td>104</td>\n",
       "      <td>4.0</td>\n",
       "      <td>AZ</td>\n",
       "    </tr>\n",
       "    <tr>\n",
       "      <th>4</th>\n",
       "      <td>J7L5EbWEHB8njkFjZkas7w</td>\n",
       "      <td>nChi_8Gygb6NUMa_kg_tlQ</td>\n",
       "      <td>5</td>\n",
       "      <td>725 S Rural Rd, Ste 103</td>\n",
       "      <td>{'Alcohol': 'none', 'Ambience': '{'romantic': ...</td>\n",
       "      <td>Szechuan, Cantonese, Asian Fusion, Restaurants...</td>\n",
       "      <td>Tempe</td>\n",
       "      <td>{'Monday': '11:0-22:0', 'Tuesday': '11:0-22:0'...</td>\n",
       "      <td>1</td>\n",
       "      <td>33.422755</td>\n",
       "      <td>-111.925865</td>\n",
       "      <td>Asian Fusion Cafe</td>\n",
       "      <td></td>\n",
       "      <td>85281</td>\n",
       "      <td>104</td>\n",
       "      <td>4.0</td>\n",
       "      <td>AZ</td>\n",
       "    </tr>\n",
       "  </tbody>\n",
       "</table>\n",
       "</div>"
      ],
      "text/plain": [
       "                  user_id             business_id  stars_x  \\\n",
       "0  WZkAnapotwlWz9_BN04xug  szhJLmdLDVFTevm8fu0T4A        5   \n",
       "1  h9Bu6HuCWktHPBLb6_kduA  szhJLmdLDVFTevm8fu0T4A        4   \n",
       "2  R0usSiPCJ0OFd2PRUrkbBA  nChi_8Gygb6NUMa_kg_tlQ        3   \n",
       "3  NsegE9Mqm3GCQeSx0v0tYw  nChi_8Gygb6NUMa_kg_tlQ        4   \n",
       "4  J7L5EbWEHB8njkFjZkas7w  nChi_8Gygb6NUMa_kg_tlQ        5   \n",
       "\n",
       "                        address  \\\n",
       "0  3446 W Camelback Rd, Ste 155   \n",
       "1  3446 W Camelback Rd, Ste 155   \n",
       "2       725 S Rural Rd, Ste 103   \n",
       "3       725 S Rural Rd, Ste 103   \n",
       "4       725 S Rural Rd, Ste 103   \n",
       "\n",
       "                                          attributes  \\\n",
       "0  {'Alcohol': 'full_bar', 'Ambience': '{'romanti...   \n",
       "1  {'Alcohol': 'full_bar', 'Ambience': '{'romanti...   \n",
       "2  {'Alcohol': 'none', 'Ambience': '{'romantic': ...   \n",
       "3  {'Alcohol': 'none', 'Ambience': '{'romantic': ...   \n",
       "4  {'Alcohol': 'none', 'Ambience': '{'romantic': ...   \n",
       "\n",
       "                                          categories     city  \\\n",
       "0           Chinese, Dim Sum, Restaurants, Cantonese  Phoenix   \n",
       "1           Chinese, Dim Sum, Restaurants, Cantonese  Phoenix   \n",
       "2  Szechuan, Cantonese, Asian Fusion, Restaurants...    Tempe   \n",
       "3  Szechuan, Cantonese, Asian Fusion, Restaurants...    Tempe   \n",
       "4  Szechuan, Cantonese, Asian Fusion, Restaurants...    Tempe   \n",
       "\n",
       "                                               hours  is_open   latitude  \\\n",
       "0  {'Monday': '11:0-23:0', 'Tuesday': '11:0-23:0'...        1  33.510988   \n",
       "1  {'Monday': '11:0-23:0', 'Tuesday': '11:0-23:0'...        1  33.510988   \n",
       "2  {'Monday': '11:0-22:0', 'Tuesday': '11:0-22:0'...        1  33.422755   \n",
       "3  {'Monday': '11:0-22:0', 'Tuesday': '11:0-22:0'...        1  33.422755   \n",
       "4  {'Monday': '11:0-22:0', 'Tuesday': '11:0-22:0'...        1  33.422755   \n",
       "\n",
       "    longitude                name neighborhood postal_code  review_count  \\\n",
       "0 -112.133277  Great Wall Cuisine                    85017           433   \n",
       "1 -112.133277  Great Wall Cuisine                    85017           433   \n",
       "2 -111.925865   Asian Fusion Cafe                    85281           104   \n",
       "3 -111.925865   Asian Fusion Cafe                    85281           104   \n",
       "4 -111.925865   Asian Fusion Cafe                    85281           104   \n",
       "\n",
       "   stars_y state  \n",
       "0      3.5    AZ  \n",
       "1      3.5    AZ  \n",
       "2      4.0    AZ  \n",
       "3      4.0    AZ  \n",
       "4      4.0    AZ  "
      ]
     },
     "execution_count": 11,
     "metadata": {
      "tags": []
     },
     "output_type": "execute_result"
    }
   ],
   "source": [
    "# buisness ave rating as baseline predictor\n",
    "business_baseline = test.merge(yelp_business, how='left', on='business_id', sort=False)\n",
    "business_baseline.head()"
   ]
  },
  {
   "cell_type": "code",
   "execution_count": null,
   "metadata": {
    "colab": {},
    "colab_type": "code",
    "id": "qluGgEz-A9nk"
   },
   "outputs": [],
   "source": [
    "def rms_test(true_data, predicted_data):\n",
    "    '''Calculate the RMSE value of predicted values against true values\n",
    "    \n",
    "    :params true_data: list of true values\n",
    "    :type true_data: list\n",
    "    :params predicted_data: list of predicted values\n",
    "    :type predicted_data: list\n",
    "    :returns: Root Mean Square Error Value\n",
    "    :rtype: float\n",
    "    '''\n",
    "   \n",
    "    \n",
    "    return sqrt(mean_squared_error(true_data, predicted_data))"
   ]
  },
  {
   "cell_type": "code",
   "execution_count": null,
   "metadata": {
    "colab": {
     "base_uri": "https://localhost:8080/",
     "height": 33
    },
    "colab_type": "code",
    "id": "biYQV3bOBH4p",
    "outputId": "c778ae20-ef92-4d39-ac36-fb76099edfc9"
   },
   "outputs": [
    {
     "data": {
      "text/plain": [
       "1.2567230603992636"
      ]
     },
     "execution_count": 13,
     "metadata": {
      "tags": []
     },
     "output_type": "execute_result"
    }
   ],
   "source": [
    "# RMSE of baseline - Average business rating\n",
    "rms_test(test.stars.tolist(), business_baseline.stars_y.tolist())"
   ]
  },
  {
   "cell_type": "code",
   "execution_count": null,
   "metadata": {
    "colab": {
     "base_uri": "https://localhost:8080/",
     "height": 368
    },
    "colab_type": "code",
    "id": "myt9o_m8qZlN",
    "outputId": "aeced414-b416-4bb7-99b4-b8563f4a99a6"
   },
   "outputs": [
    {
     "data": {
      "text/html": [
       "<div>\n",
       "<style scoped>\n",
       "    .dataframe tbody tr th:only-of-type {\n",
       "        vertical-align: middle;\n",
       "    }\n",
       "\n",
       "    .dataframe tbody tr th {\n",
       "        vertical-align: top;\n",
       "    }\n",
       "\n",
       "    .dataframe thead th {\n",
       "        text-align: right;\n",
       "    }\n",
       "</style>\n",
       "<table border=\"1\" class=\"dataframe\">\n",
       "  <thead>\n",
       "    <tr style=\"text-align: right;\">\n",
       "      <th></th>\n",
       "      <th>user_id</th>\n",
       "      <th>business_id</th>\n",
       "      <th>stars</th>\n",
       "      <th>average_stars</th>\n",
       "      <th>compliment_cool</th>\n",
       "      <th>compliment_cute</th>\n",
       "      <th>compliment_funny</th>\n",
       "      <th>compliment_hot</th>\n",
       "      <th>compliment_list</th>\n",
       "      <th>compliment_more</th>\n",
       "      <th>...</th>\n",
       "      <th>compliment_writer</th>\n",
       "      <th>cool</th>\n",
       "      <th>elite</th>\n",
       "      <th>fans</th>\n",
       "      <th>friends</th>\n",
       "      <th>funny</th>\n",
       "      <th>name</th>\n",
       "      <th>review_count</th>\n",
       "      <th>useful</th>\n",
       "      <th>yelping_since</th>\n",
       "    </tr>\n",
       "  </thead>\n",
       "  <tbody>\n",
       "    <tr>\n",
       "      <th>0</th>\n",
       "      <td>WZkAnapotwlWz9_BN04xug</td>\n",
       "      <td>szhJLmdLDVFTevm8fu0T4A</td>\n",
       "      <td>5</td>\n",
       "      <td>4.03</td>\n",
       "      <td>0</td>\n",
       "      <td>0</td>\n",
       "      <td>0</td>\n",
       "      <td>0</td>\n",
       "      <td>0</td>\n",
       "      <td>0</td>\n",
       "      <td>...</td>\n",
       "      <td>0</td>\n",
       "      <td>1</td>\n",
       "      <td>None</td>\n",
       "      <td>0</td>\n",
       "      <td>r-Cvff6ttNZAe7wM5m6lZQ, SRK_sUnvRmMwfexoL_DLQA</td>\n",
       "      <td>0</td>\n",
       "      <td>Larry</td>\n",
       "      <td>38</td>\n",
       "      <td>2</td>\n",
       "      <td>2017-06-06</td>\n",
       "    </tr>\n",
       "    <tr>\n",
       "      <th>1</th>\n",
       "      <td>h9Bu6HuCWktHPBLb6_kduA</td>\n",
       "      <td>szhJLmdLDVFTevm8fu0T4A</td>\n",
       "      <td>4</td>\n",
       "      <td>3.75</td>\n",
       "      <td>26</td>\n",
       "      <td>0</td>\n",
       "      <td>26</td>\n",
       "      <td>20</td>\n",
       "      <td>0</td>\n",
       "      <td>0</td>\n",
       "      <td>...</td>\n",
       "      <td>8</td>\n",
       "      <td>20</td>\n",
       "      <td>None</td>\n",
       "      <td>16</td>\n",
       "      <td>YRp6hJHKtEpBEl0fQN0t0g, xa2QB6ln4bxHaQDnJQe3Bw...</td>\n",
       "      <td>8</td>\n",
       "      <td>Konlee</td>\n",
       "      <td>149</td>\n",
       "      <td>124</td>\n",
       "      <td>2014-08-27</td>\n",
       "    </tr>\n",
       "    <tr>\n",
       "      <th>2</th>\n",
       "      <td>R0usSiPCJ0OFd2PRUrkbBA</td>\n",
       "      <td>nChi_8Gygb6NUMa_kg_tlQ</td>\n",
       "      <td>3</td>\n",
       "      <td>2.08</td>\n",
       "      <td>0</td>\n",
       "      <td>0</td>\n",
       "      <td>0</td>\n",
       "      <td>0</td>\n",
       "      <td>0</td>\n",
       "      <td>0</td>\n",
       "      <td>...</td>\n",
       "      <td>1</td>\n",
       "      <td>2</td>\n",
       "      <td>None</td>\n",
       "      <td>0</td>\n",
       "      <td>9cVWO97Z6V4-glt-eGXu_A</td>\n",
       "      <td>2</td>\n",
       "      <td>Ginger</td>\n",
       "      <td>13</td>\n",
       "      <td>14</td>\n",
       "      <td>2011-02-20</td>\n",
       "    </tr>\n",
       "    <tr>\n",
       "      <th>3</th>\n",
       "      <td>NsegE9Mqm3GCQeSx0v0tYw</td>\n",
       "      <td>nChi_8Gygb6NUMa_kg_tlQ</td>\n",
       "      <td>4</td>\n",
       "      <td>3.73</td>\n",
       "      <td>38</td>\n",
       "      <td>0</td>\n",
       "      <td>38</td>\n",
       "      <td>15</td>\n",
       "      <td>4</td>\n",
       "      <td>8</td>\n",
       "      <td>...</td>\n",
       "      <td>16</td>\n",
       "      <td>23</td>\n",
       "      <td>2011, 2016, 2014, 2015, 2012, 2013</td>\n",
       "      <td>23</td>\n",
       "      <td>5n1DiVnJTeRmN7xyMn7qdw, PaNO-eyIdrdZnF5FeNjd4Q...</td>\n",
       "      <td>28</td>\n",
       "      <td>Jason</td>\n",
       "      <td>238</td>\n",
       "      <td>47</td>\n",
       "      <td>2009-04-02</td>\n",
       "    </tr>\n",
       "    <tr>\n",
       "      <th>4</th>\n",
       "      <td>J7L5EbWEHB8njkFjZkas7w</td>\n",
       "      <td>nChi_8Gygb6NUMa_kg_tlQ</td>\n",
       "      <td>5</td>\n",
       "      <td>4.00</td>\n",
       "      <td>3</td>\n",
       "      <td>1</td>\n",
       "      <td>3</td>\n",
       "      <td>1</td>\n",
       "      <td>0</td>\n",
       "      <td>0</td>\n",
       "      <td>...</td>\n",
       "      <td>3</td>\n",
       "      <td>2</td>\n",
       "      <td>2017, 2016</td>\n",
       "      <td>5</td>\n",
       "      <td>R7id8BcxPc9SDY3OmX-jgg, Y0pguTxMNRLuVXWbjnTtKA...</td>\n",
       "      <td>2</td>\n",
       "      <td>Suzy</td>\n",
       "      <td>96</td>\n",
       "      <td>20</td>\n",
       "      <td>2012-05-03</td>\n",
       "    </tr>\n",
       "  </tbody>\n",
       "</table>\n",
       "<p>5 rows × 24 columns</p>\n",
       "</div>"
      ],
      "text/plain": [
       "                  user_id             business_id  stars  average_stars  \\\n",
       "0  WZkAnapotwlWz9_BN04xug  szhJLmdLDVFTevm8fu0T4A      5           4.03   \n",
       "1  h9Bu6HuCWktHPBLb6_kduA  szhJLmdLDVFTevm8fu0T4A      4           3.75   \n",
       "2  R0usSiPCJ0OFd2PRUrkbBA  nChi_8Gygb6NUMa_kg_tlQ      3           2.08   \n",
       "3  NsegE9Mqm3GCQeSx0v0tYw  nChi_8Gygb6NUMa_kg_tlQ      4           3.73   \n",
       "4  J7L5EbWEHB8njkFjZkas7w  nChi_8Gygb6NUMa_kg_tlQ      5           4.00   \n",
       "\n",
       "   compliment_cool  compliment_cute  compliment_funny  compliment_hot  \\\n",
       "0                0                0                 0               0   \n",
       "1               26                0                26              20   \n",
       "2                0                0                 0               0   \n",
       "3               38                0                38              15   \n",
       "4                3                1                 3               1   \n",
       "\n",
       "   compliment_list  compliment_more      ...        compliment_writer  cool  \\\n",
       "0                0                0      ...                        0     1   \n",
       "1                0                0      ...                        8    20   \n",
       "2                0                0      ...                        1     2   \n",
       "3                4                8      ...                       16    23   \n",
       "4                0                0      ...                        3     2   \n",
       "\n",
       "                                elite  fans  \\\n",
       "0                                None     0   \n",
       "1                                None    16   \n",
       "2                                None     0   \n",
       "3  2011, 2016, 2014, 2015, 2012, 2013    23   \n",
       "4                          2017, 2016     5   \n",
       "\n",
       "                                             friends  funny    name  \\\n",
       "0     r-Cvff6ttNZAe7wM5m6lZQ, SRK_sUnvRmMwfexoL_DLQA      0   Larry   \n",
       "1  YRp6hJHKtEpBEl0fQN0t0g, xa2QB6ln4bxHaQDnJQe3Bw...      8  Konlee   \n",
       "2                             9cVWO97Z6V4-glt-eGXu_A      2  Ginger   \n",
       "3  5n1DiVnJTeRmN7xyMn7qdw, PaNO-eyIdrdZnF5FeNjd4Q...     28   Jason   \n",
       "4  R7id8BcxPc9SDY3OmX-jgg, Y0pguTxMNRLuVXWbjnTtKA...      2    Suzy   \n",
       "\n",
       "   review_count useful  yelping_since  \n",
       "0            38      2     2017-06-06  \n",
       "1           149    124     2014-08-27  \n",
       "2            13     14     2011-02-20  \n",
       "3           238     47     2009-04-02  \n",
       "4            96     20     2012-05-03  \n",
       "\n",
       "[5 rows x 24 columns]"
      ]
     },
     "execution_count": 15,
     "metadata": {
      "tags": []
     },
     "output_type": "execute_result"
    }
   ],
   "source": [
    "# User ave rating as baseline predictor\n",
    "user_baseline = test.merge(test.merge(yelp_user, how='left', on='user_id', sort=False))\n",
    "user_baseline.head()"
   ]
  },
  {
   "cell_type": "code",
   "execution_count": null,
   "metadata": {
    "colab": {
     "base_uri": "https://localhost:8080/",
     "height": 33
    },
    "colab_type": "code",
    "id": "-7h7wyRUq4cl",
    "outputId": "e92fa1c9-6d40-4aa0-a244-f1696a042a94"
   },
   "outputs": [
    {
     "data": {
      "text/plain": [
       "1.1928343882369663"
      ]
     },
     "execution_count": 16,
     "metadata": {
      "tags": []
     },
     "output_type": "execute_result"
    }
   ],
   "source": [
    "# RMSE of baseline - Average user rating\n",
    "rms_test(test.stars.tolist(), user_baseline.average_stars)"
   ]
  },
  {
   "cell_type": "code",
   "execution_count": null,
   "metadata": {
    "colab": {},
    "colab_type": "code",
    "id": "95o6TdX7ry3l"
   },
   "outputs": [],
   "source": [
    "# Making edgelist for test data\n",
    "test_bi_list = list(zip(X_test['business_id'], X_test['user_id'], Y_test[0]))\n"
   ]
  },
  {
   "cell_type": "code",
   "execution_count": null,
   "metadata": {
    "colab": {},
    "colab_type": "code",
    "id": "qTng6hokCieK"
   },
   "outputs": [],
   "source": [
    "# Making bipartite graph of test data\n",
    "test_graph=nx.Graph()\n",
    "\n",
    "test_graph.add_nodes_from(X_test['business_id'], bipartite=0)\n",
    "test_graph.add_nodes_from(X_test['user_id'], bipartite=1)\n",
    "test_graph.add_weighted_edges_from(test_bi_list, weight='stars')"
   ]
  },
  {
   "cell_type": "code",
   "execution_count": null,
   "metadata": {
    "colab": {},
    "colab_type": "code",
    "id": "YUtbzcgRDMVx"
   },
   "outputs": [],
   "source": [
    "# Function for finding rating of highest rated user by pagerank\n",
    "def highest_page(business):\n",
    "  ego=nx.ego_graph(test_graph, business, radius=1)\n",
    "  pr=nx.pagerank(ego,weight='stars')\n",
    "  highest = sorted(pr.items(), reverse=True, key=lambda kv: kv[1])[1][0]\n",
    "#   highest=sorted_pr[1][0]\n",
    "#   highest_star=reviews.loc[(reviews['user_id']==highest) & (reviews['business_id']==business),'stars']\n",
    "  return (business, highest)"
   ]
  },
  {
   "cell_type": "code",
   "execution_count": null,
   "metadata": {
    "colab": {
     "base_uri": "https://localhost:8080/",
     "height": 33
    },
    "colab_type": "code",
    "id": "7gYGq6zJc77K",
    "outputId": "a12233ca-1c31-4ba2-8d99-e1156676af7d"
   },
   "outputs": [
    {
     "data": {
      "text/plain": [
       "13.255474999999999"
      ]
     },
     "execution_count": 15,
     "metadata": {
      "tags": []
     },
     "output_type": "execute_result"
    }
   ],
   "source": [
    "# # %%time\n",
    "# highest_page('mUVAMNN7BCQ9HGA9w_7C1g')\n",
    "# (len(X_test)*69)/1000/60/60\n"
   ]
  },
  {
   "cell_type": "code",
   "execution_count": null,
   "metadata": {
    "colab": {},
    "colab_type": "code",
    "id": "eGvZPhp0NyUW"
   },
   "outputs": [],
   "source": [
    "# page_rank_baseline=[highest_page(x) for x in X_test['business_id']]\n"
   ]
  },
  {
   "cell_type": "code",
   "execution_count": 2,
   "metadata": {
    "colab": {
     "base_uri": "https://localhost:8080/",
     "height": 158
    },
    "colab_type": "code",
    "id": "U5TrYAqCBniY",
    "outputId": "41d77e7a-40da-41b2-e1d2-11cf6535fb09"
   },
   "outputs": [],
   "source": [
    "# page_rank_baseline[:10]"
   ]
  },
  {
   "cell_type": "code",
   "execution_count": null,
   "metadata": {
    "colab": {
     "base_uri": "https://localhost:8080/",
     "height": 98
    },
    "colab_type": "code",
    "id": "vu2Y6fbCtmU3",
    "outputId": "d036cdd9-5a9f-4c29-99f8-337bfc504690"
   },
   "outputs": [
    {
     "data": {
      "text/plain": [
       "Index(['Unnamed: 0', 'user_American_tuple', 'user_Italian_tuple',\n",
       "       'user_Chinese_tuple', 'user_Japanese_tuple', 'user_Indian_tuple',\n",
       "       'user_Thai_tuple', 'user_Mexican_tuple', 'user_Korean_tuple',\n",
       "       'user_Pizza_tuple'],\n",
       "      dtype='object')"
      ]
     },
     "execution_count": 7,
     "metadata": {
      "tags": []
     },
     "output_type": "execute_result"
    }
   ],
   "source": [
    "# user_category=pd.read_csv('gdrive/My Drive/SI_608_Group_Project/yelp_dataset/user_category_tuples.csv')\n",
    "# user_category.columns"
   ]
  },
  {
   "cell_type": "markdown",
   "metadata": {
    "colab_type": "text",
    "id": "glcHMbJ_3SYA"
   },
   "source": [
    "# One-mode Projection"
   ]
  },
  {
   "cell_type": "markdown",
   "metadata": {
    "colab_type": "text",
    "id": "p22tAfS1FTli"
   },
   "source": []
  },
  {
   "cell_type": "code",
   "execution_count": null,
   "metadata": {
    "colab": {},
    "colab_type": "code",
    "id": "skjwExPJi4gG"
   },
   "outputs": [],
   "source": [
    "import pandas as pd\n",
    "import numpy as np\n",
    "import networkx as nx"
   ]
  },
  {
   "cell_type": "code",
   "execution_count": null,
   "metadata": {
    "colab": {},
    "colab_type": "code",
    "id": "7Z_r3c54i5gK"
   },
   "outputs": [],
   "source": [
    "reviews_filtered=pd.read_csv('gdrive/My Drive/SI_608_Group_Project/yelp_dataset/reviews_filtered.csv')"
   ]
  },
  {
   "cell_type": "code",
   "execution_count": null,
   "metadata": {
    "colab": {},
    "colab_type": "code",
    "id": "UQOHTbMPjA3n"
   },
   "outputs": [],
   "source": [
    "# Making edgelist for reviews_filtered data\n",
    "test_bi_list = list(zip(reviews_filtered['business_id'], reviews_filtered['user_id'], reviews_filtered['stars']))"
   ]
  },
  {
   "cell_type": "code",
   "execution_count": null,
   "metadata": {
    "colab": {},
    "colab_type": "code",
    "id": "P50EmkBfjLEQ"
   },
   "outputs": [],
   "source": [
    "# Making bipartite graph of reviews_filtered data\n",
    "test_graph=nx.Graph()\n",
    "\n",
    "test_graph.add_nodes_from(reviews_filtered['business_id'], bipartite=0)\n",
    "test_graph.add_nodes_from(reviews_filtered['user_id'], bipartite=1)\n",
    "test_graph.add_weighted_edges_from(test_bi_list, weight='stars')"
   ]
  },
  {
   "cell_type": "code",
   "execution_count": null,
   "metadata": {
    "colab": {},
    "colab_type": "code",
    "id": "k0XxFob6jN-t"
   },
   "outputs": [],
   "source": [
    "from networkx.algorithms import bipartite\n",
    "one_mode=bipartite.weighted_projected_graph(test_graph,reviews_filtered['user_id'].unique() )"
   ]
  },
  {
   "cell_type": "code",
   "execution_count": null,
   "metadata": {
    "colab": {},
    "colab_type": "code",
    "id": "MEEBhQFUjSQJ"
   },
   "outputs": [],
   "source": [
    "# makes largest connected component for one-mode projection\n",
    "largest_connected_comp=max(nx.connected_component_subgraphs(one_mode),key=len)\n"
   ]
  },
  {
   "cell_type": "code",
   "execution_count": null,
   "metadata": {
    "colab": {},
    "colab_type": "code",
    "id": "h_85WWVRlXnf"
   },
   "outputs": [],
   "source": [
    "#Distance Based Methods\n",
    "#Now for every nodes in the bipartite network let's do a neighbor search \n",
    "\n",
    "#Now Query the bi-partite graph neighbors of the current business\n",
    "ratings=[]\n",
    "for x,i in test_set.iterrows():\n",
    "    a={}\n",
    "    neighbors=test_graph.neighbors(i['business_id'])\n",
    "    \n",
    "    a={k:len(nx.shortest_path(one_mode,source=k,target=i['user_id'])) for k in neighbors if k!=i['user_id']}\n",
    "    sorted_by_value = sorted(a.items(), key=lambda kv: kv[1],reverse=True)\n",
    "    b=[x[0] for x in sorted_by_value[0:5]]\n",
    "    j=0\n",
    "            \n",
    "    ratings.append(np.average(train_set[(train_set['user_id'].isin(b))&(train_set['business_id']==i['business_id'])]['stars']))\n",
    "    "
   ]
  },
  {
   "cell_type": "code",
   "execution_count": null,
   "metadata": {
    "colab": {},
    "colab_type": "code",
    "id": "267ZkB94ghK4"
   },
   "outputs": [],
   "source": [
    "#Eigen Vector Centrality\n",
    "ratings=[]\n",
    "for x,i in test_set.iterrows():\n",
    "    a={}\n",
    "    neighbors=test_graph.neighbors(i['business_id'])\n",
    "    \n",
    "    G=one_mode.subgraph(neighbors)\n",
    "    a={x:K[x] for x in G.nodes()}\n",
    "    sorted_by_value = sorted(a.items(), key=lambda kv: kv[1])\n",
    "    b=[x[0] for x in sorted_by_value[0:10]]\n",
    "   \n",
    "            \n",
    "    ratings.append(np.average(train_set[(train_set['user_id'].isin(b))&(train_set['business_id']==i['business_id'])]['stars']))\n",
    "    "
   ]
  }
 ],
 "metadata": {
  "accelerator": "GPU",
  "colab": {
   "collapsed_sections": [
    "LOFuvjjbxQcg",
    "J2Zs2WIfxhNs",
    "bf6Uj3rFxww-",
    "A4LBbk7Px3GK"
   ],
   "name": "SI_608_project_(kokis_drive).ipynb",
   "provenance": [],
   "version": "0.3.2"
  },
  "kernelspec": {
   "display_name": "Python 3",
   "language": "python",
   "name": "python3"
  },
  "language_info": {
   "codemirror_mode": {
    "name": "ipython",
    "version": 3
   },
   "file_extension": ".py",
   "mimetype": "text/x-python",
   "name": "python",
   "nbconvert_exporter": "python",
   "pygments_lexer": "ipython3",
   "version": "3.6.5"
  }
 },
 "nbformat": 4,
 "nbformat_minor": 2
}
